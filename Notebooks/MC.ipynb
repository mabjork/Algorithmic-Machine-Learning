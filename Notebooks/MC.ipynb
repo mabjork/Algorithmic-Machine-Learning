{
 "cells": [
  {
   "cell_type": "markdown",
   "metadata": {},
   "source": [
    "2018 Edition"
   ]
  },
  {
   "cell_type": "markdown",
   "metadata": {},
   "source": [
    "# Estimating Financial Risk through Monte Carlo Simulation\n",
    "Risk analysis is part of every decision we make when faced with uncertainty, ambiguity, and variability. Indeed, even though we have unprecedented access to information, we can't accurately predict the future. In finance, there is a fair amount of uncertainty and risk involved with estimating the future value of financial products, due to the wide variety of potential outcomes. Monte Carlo simulation (also known as the Monte Carlo Method) allows inspecting many possible outcomes of the decision making process, and can be used to assess the impact of risk: this, in turns, allows for better decision-making under uncertainty.\n",
    "\n",
    "## Goals\n",
    "The main objectives we set for this Notebook are as follows:\n",
    "1. Develop fundamental knowledge about Risk analysis\n",
    "2. Understand Monte Carlo Simulation (MCS)\n",
    "3. Apply Monte Carlo Simulation for predicting risk\n",
    "\n",
    "\n",
    "## Steps\n",
    "1. First, in section 1, we introduce the basics of MCS\n",
    "2. In section 2, we work on a simple example to where we apply the MCS method\n",
    "3. In section 3, we briefly summarize the main characteristics of the Monte Carlo Simulation (MCS) technique\n",
    "4. In section 4, we overview the common distributions which are often used in MCS\n",
    "5. In section 5, we work on a real use case, that focuses on estimating financial risk. We will use techniques such as featurization  (that is, generating additional features to improve model accuracy), linear regression, kernel density estimation, sampling distributions and so on ...\n",
    "\n",
    "## Reference\n",
    "This Notebook is inspired by Chapter 9 of the book [Advanced Analytics with Spark](http://shop.oreilly.com/product/0636920035091.do) by Josh Wills, Sandy Ryza, Sean Owen, and Uri Laserson. It is strongly suggested to read this Chapter to get a general idea of the topic of this Notebook.\n",
    "\n",
    "# 1. Introduction\n",
    "\n",
    "## 1.1. Monte Carlo Simulation (MCS)\n",
    "Monte Carlo simulation is a computerized mathematical technique that can be applied such that it is possible to account for risk in quantitative analysis and decision making. This technique is used in many different fields, such as R&D, risk management, portfolio management, pricing derivatives, strategic planning, project planning, cost modeling and many more.\n",
    "\n",
    "In general, MCS is a technique that \"converts\" uncertainty on input variables of a model into **probability distributions**. By combining the distributions and randomly selecting values from them, it recalculates the simulated model many times, to determine the probability of the output.\n",
    "\n",
    "Historically, this technique was first used by scientists working on the atomic bomb: it was named after Monte Carlo, the Monaco resort town renowned for its casinos.  Since its introduction in World War II, Monte Carlo simulation has been used to model a variety of physical and conceptual systems.\n",
    "\n",
    "## 1.2. How does it work?\n",
    "Monte Carlo simulation performs risk analysis by building models of possible results by *substituting a range of possible input values, that constitute uncertainty, into a statistical distribution*. It then computes possible outcomes repeatedly, each time using a different set of random values from the probability functions that \"model\" the input. Depending upon the number of random input variables and their distribution, a Monte Carlo simulation could involve thousands or tens of thousands of \"rounds\" before it is complete. When complete, *Monte Carlo simulation produces distributions of possible outcome values*.\n",
    "\n",
    "By using probability distributions instead of actual input samples, it is possible to model more accurately uncertainty: different choices of distributions will yield different outputs."
   ]
  },
  {
   "cell_type": "markdown",
   "metadata": {},
   "source": [
    "# 2. Illustrative example\n",
    "\n",
    "Imagine you are the marketing manager for a firm that is planning to introduce a new product. You need to estimate the first-year net profit from this product, which might depend on:\n",
    "\n",
    "- Sales volume in units\n",
    "- Price per unit (also called \"Selling price\")\n",
    "- Unit cost\n",
    "- Fixed costs\n",
    "\n",
    "Net profit will be calculated as $Net Profit = Sales Volume* (Selling Price - Unit cost) - Fixed costs$.  Fixed costs (accounting for various overheads, advertising budget, etc.) are known to be \\$ 120,000, which we assume to be deterministic. All other factors, instead, involve some uncertainty: *sales volume* (in units) can cover quite a large range, the *selling price* per unit will depend on competitor actions, which are hard to predict, and *unit costs* will also vary depending on vendor prices and production experience, for example.\n",
    "\n",
    "Now, to build a risk analysis model, we must first identify the uncertain variables -- which are essentially random variables.  While there's some uncertainty in almost all variables in a business model, we want to focus on variables where the range of values is significant."
   ]
  },
  {
   "cell_type": "markdown",
   "metadata": {},
   "source": [
    "## 2.1. Unit sales and unit price\n",
    "\n",
    "Based on a hypothetical market research you have done, you have beliefs that there are equal chances for the market to be `slow`, `normal`, or `hot`:\n",
    "\n",
    "- In a \"slow\" market, you expect to sell 50,000 units at an average selling price of \\$11.00 per unit\n",
    "- In a \"normal\" market, you expect to sell 75,000 units, but you'll likely realize a lower average selling price of \\$10.00 per unit\n",
    "- In a \"hot\" market, you expect to sell 100,000 units, but this will bring in competitors, who will drive down the average selling price to \\$8.00 per unit"
   ]
  },
  {
   "cell_type": "markdown",
   "metadata": {},
   "source": [
    "### Question 1\n",
    "<div class=\"alert alert-info\">\n",
    "Calculate the average units and the unit price that you expect to sell, which depend on the market state. Use the assumptions above to compute the expected quantity of products and their expected unit price. \n",
    "</div>\n"
   ]
  },
  {
   "cell_type": "code",
   "execution_count": 1,
   "metadata": {},
   "outputs": [
    {
     "name": "stdout",
     "output_type": "stream",
     "text": [
      "average unit: 75000.0\n",
      "average_price: 9.666666666666666\n"
     ]
    }
   ],
   "source": [
    "\n",
    "average_unit = (100000 + 75000 + 50000) / 3\n",
    "average_price = (11 + 10 + 8) / 3\n",
    "print(\"average unit:\", average_unit)\n",
    "print(\"average_price:\", average_price)\n"
   ]
  },
  {
   "cell_type": "markdown",
   "metadata": {},
   "source": [
    "## 2.2. Unit Cost\n",
    "\n",
    "Another uncertain variable is Unit Cost. In our illustrative example, we assume that your firm's production manager advises you that unit costs may be anywhere from \\$5.50 to \\$7.50, with a most likely expected cost of \\$6.50. In this case, the most likely cost can be considered as the average cost.\n",
    "\n",
    "## 2.3. A Flawed Model: using averages to represent our random variables\n",
    "Our next step is to identify uncertain functions -- also called functions of a random variable.  Recall that Net Profit is calculated as $Net Profit = Sales Volume * (Selling Price - Unit cost) - Fixed costs$.  However, Sales Volume, Selling Price and Unit Cost are all uncertain variables, so Net Profit is an uncertain function.\n",
    "\n",
    "The simplest model to predict the Net Profit is using average of sales volume, average of selling price and average of unit cost for calculating. So, if only consider averages, we can say that the $Net Profit = 75,000*(9.66666666 - 6.5) - 120,000 \\sim 117,500$.\n",
    "\n",
    "However, as [Dr. Sam Savage](http://web.stanford.edu/~savage/faculty/savage/) warns, \"Plans based on average assumptions will be wrong on average.\" The calculated result is far from the actual value: indeed, the **true average Net Profit** is roughly  \\$93,000, as we will see later in the example."
   ]
  },
  {
   "cell_type": "markdown",
   "metadata": {},
   "source": [
    "### Question 2\n",
    "#### Question 2.1\n",
    "<div class=\"alert alert-info\">\n",
    "Write a function named `calNetProfit` to calculate the Net Profit using the average of sales volume, the average of selling price and the average of unit cost.\n",
    "</div>"
   ]
  },
  {
   "cell_type": "code",
   "execution_count": 2,
   "metadata": {},
   "outputs": [
    {
     "name": "stdout",
     "output_type": "stream",
     "text": [
      "Net profit: 117499.99999999994\n"
     ]
    }
   ],
   "source": [
    "\n",
    "def calNetProfit(average_unit, average_price, average_unitcost, fixed_cost):\n",
    "    return average_unit * (average_price - average_unitcost) - fixed_cost\n",
    "\n",
    "average_unitcost = 6.5\n",
    "fixed_cost = 120000\n",
    "NetProfit = calNetProfit(average_unit,average_price,average_unitcost,fixed_cost)\n",
    "print(\"Net profit:\", NetProfit)\n"
   ]
  },
  {
   "cell_type": "markdown",
   "metadata": {},
   "source": [
    "#### Question 2.2\n",
    "<div class=\"alert alert-info\">\n",
    "Verify the warning message of Dr. Sam Savage by calculating the error of our estimated Net Profit using averages only. Recall that the true value is roughly \\$93,000, so we are interested in:\n",
    "<ul></ul>\n",
    "\n",
    "$$ error = \\frac{your\\_value - true\\_value}{true\\_value}$$\n",
    "\n",
    "<ul></ul>\n",
    "Note also we are interested in displaying the error as a percentage.\n",
    "<ul></ul>\n",
    "Looking at the error we make, do you think that we can use the current model that only relies on averages?\n",
    "</div>"
   ]
  },
  {
   "cell_type": "code",
   "execution_count": 3,
   "metadata": {},
   "outputs": [
    {
     "name": "stdout",
     "output_type": "stream",
     "text": [
      "Error in percentage: 26.344086021505316\n"
     ]
    }
   ],
   "source": [
    "\n",
    "trueNetProfit = 93000\n",
    "error = (NetProfit - trueNetProfit) / (trueNetProfit)\n",
    "print(\"Error in percentage:\", error * 100)\n"
   ]
  },
  {
   "cell_type": "markdown",
   "metadata": {},
   "source": [
    "<div class=\"alert alert-warning\">\n",
    "\n",
    "PUT YOUR COMMENT HERE\n",
    "\n",
    "</div>"
   ]
  },
  {
   "cell_type": "markdown",
   "metadata": {},
   "source": [
    "## 2.4. Using the Monte Carlo Simulation method to improve our model\n",
    "As discussed before, the selling price and selling volume both depend on the state of the market scenario (slow/normal/hot). So, the net profit is the result of two random variables: `market scenario` (which in turn determines `sales volumes` and `selling price`) and `unit cost`.\n",
    "\n",
    "Now, let's assume (this is an *a-priori* assumption we make) that `market scenario` follows a discrete, uniform distribution and that `unit cost` also follows a uniform distribution. Then, we can compute directly the values for selling price and selling volumes based on the outcome of the random variable `market scenario`, as shown in Section 2.1.\n",
    "\n",
    "From these a-priori distributions, in each run (or trial) of our Monte Carlo simulation, we can generate the sample value for each random variable and use it to calculate the Net Profit. The more simulation runs, the more accurate our results will be. For example, if we run the simulation 100,000 times, the average net profit will amount to roughly \\$92,600. Every time we run the simulation, a different prediction will be output: the average of such predictions will consistently be less than \\$117,500, which we predicted using averages only.\n",
    "\n",
    "Note also that in this simple example, we generate values for the `market scenario` and `unit cost` independently: we consider them to be **independent random variables**. This means that the eventual (and realistic!) correlation between the `market scenario` and `unit cost` variables is ignored. Later, we will learn how to be more precise and account for dependency between random variables.\n"
   ]
  },
  {
   "cell_type": "markdown",
   "metadata": {},
   "source": [
    "### Question 3\n",
    "#### Question 3.1\n",
    "<div class=\"alert alert-info\">\n",
    "Write a function named `get_sales_volume_price` that returns the sales volume and price based on the market scenario. In particular, the scenario can get one of three values:\n",
    "<ul>\n",
    "  <li>0: Slow market</li>\n",
    "  <li>1: Normal market</li>\n",
    "  <li>2: Hot market</li>\n",
    "</ul>  \n",
    "\n",
    "The return value is a tuple in the form: `(sales_volume, price)`\n",
    "</div>"
   ]
  },
  {
   "cell_type": "code",
   "execution_count": 4,
   "metadata": {},
   "outputs": [],
   "source": [
    "\n",
    "# Get sales volume and  price based on market scenario\n",
    "# the function returns a tuple of (sales_volume, price)\n",
    "def get_sales_volume_price(scenario):\n",
    "    # Slow market\n",
    "    if scenario == 0:\n",
    "        return (50000,11)\n",
    "    # Normal market\n",
    "    if scenario == 1:\n",
    "        return (75000,10)\n",
    "    # Hot market\n",
    "    if scenario == 2:\n",
    "        return (100000,8)\n"
   ]
  },
  {
   "cell_type": "markdown",
   "metadata": {},
   "source": [
    "#### Question 3.2\n",
    "<div class=\"alert alert-info\">\n",
    "Run 100,000 Monte Carlo simulations and calculate the average net profit they produce. Then, compare the result to the \"average model\" we used in the previous questions (the one we called \"flawed\" model). Put your comments about the discrepancies between a simplistic model, and the more accurate MCS approach.  \n",
    "<ul></ul>\n",
    "Note that in each iteration, the `unit_cost` and `market_scenario` are generated according to their distributions. Also, recall what we have seen in Section 2.2: your firm account manager helped you with some research, to determine the variability of your random variables.  \n",
    "</div>\n",
    "\n",
    "\n",
    "<div class=\"label label-success\">HINT</div>  \n",
    "\n",
    "Function `uniform(a,b)` in module `random` generates a number $a<=c<=b$, which is drawn from a uniform distribution.  \n",
    "\n",
    "Function `randint(a,b)` helps you generating an integer number $a<=c<=b$"
   ]
  },
  {
   "cell_type": "code",
   "execution_count": 8,
   "metadata": {},
   "outputs": [
    {
     "name": "stdout",
     "output_type": "stream",
     "text": [
      "average net profit: 92930.28073372901\n"
     ]
    }
   ],
   "source": [
    "\n",
    "import random\n",
    "\n",
    "total = 0.0\n",
    "num_simulation = 100000\n",
    "for i in range(0,num_simulation):\n",
    "    unit_cost = random.uniform(5.5,7.5)\n",
    "    market_scenario = random.randint(0,2)\n",
    "    sales_volume, price = get_sales_volume_price(market_scenario)\n",
    "    netProfit = calNetProfit(sales_volume,price,unit_cost,fixed_cost)\n",
    "    total = total + netProfit\n",
    "\n",
    "print(\"average net profit:\", total / num_simulation)\n"
   ]
  },
  {
   "cell_type": "markdown",
   "metadata": {},
   "source": [
    "<div class=\"alert alert-warning\">\n",
    "PUT YOUR COMMENT HERE\n",
    "</div>"
   ]
  },
  {
   "cell_type": "markdown",
   "metadata": {},
   "source": [
    "\n",
    "# 3. A brief summary of the Monte Carlo Simulation (MCS) technique\n",
    "\n",
    "- A MCS allows several inputs to be used at the same time to compute the probability distribution of one or more outputs\n",
    "- Different types of probability distributions can be assigned to the inputs of the model, depending on any *a-priori* information that is available. When the distribution is completely unknown, a common technique is to use a distribution computed by finding the best fit to the data you have\n",
    "- The MCS method is also called a **stochastic method** because it uses random variables. Note also that the general assumption is for input random variables to be independent from each other. When this is not the case, there are techniques to account for correlation between random variables.\n",
    "- A MCS generates the output as a range instead of a fixed value and shows how likely the output value is to occur in that range. In other words, the model outputs a probability distribution."
   ]
  },
  {
   "cell_type": "markdown",
   "metadata": {},
   "source": [
    "# 4. Common distributions used in MCS\n",
    "In what follows, we summarize the most common probability distributions that are used as *a-priori* distributions for input random variables:\n",
    "\n",
    "- *Normal/Gaussian Distribution*: this is a continuous distribution applied in situations where the mean and the standard deviation of a given input variable are given, and the mean represents the most probable value of the variable. In other words, values \"near\" the mean are most likely to occur.  This is symmetric distribution, and it is not bounded in its co-domain. It is very often used to  describe natural phenomena, such as people’s heights, inflation rates, energy prices, and so on and so forth. An illustration of a normal distribution is given below:\n",
    "![normal_distribution](https://upload.wikimedia.org/wikipedia/commons/thumb/7/74/Normal_Distribution_PDF.svg/320px-Normal_Distribution_PDF.svg.png)\n",
    "\n",
    "- *Lognormal Distribution*: this is a distribution which is appropriate for variables taking values in the range $[0, \\infty]$. Values are positively skewed, not symmetric like a normal distribution.  Examples of variables described by some lognormal distributions include, for example, real estate property values, stock prices, and oil reserves. An illustration of a lognormal distribution is given below:\n",
    "![log_normal_distribution](https://upload.wikimedia.org/wikipedia/commons/thumb/a/ae/PDF-log_normal_distributions.svg/320px-PDF-log_normal_distributions.svg.png) \n",
    "\n",
    "- *Triangular Distribution*: this is a continuous distribution with fixed minimum and maximum values. It is bounded by the minimum and maximum values and can be either symmetrical (the most probable value = mean = median) or asymmetrical. Values around the most likely value (e.g. the mean) are more likely to occur.  Variables that could be described by a triangular distribution include, for example, past sales history per unit of time and inventory levels. An illustration of a triangular distribution is given below:\n",
    "![](https://upload.wikimedia.org/wikipedia/commons/thumb/4/45/Triangular_distribution_PMF.png/320px-Triangular_distribution_PMF.png)\n",
    "\n",
    "- *Uniform Distribution*: this is a continuous distribution bounded by known minimum and maximum values. In contrast to the triangular distribution, the likelihood of occurrence of the values between the minimum and maximum is the same. In other words, all values have an equal chance of occurring, and the distribution is simply characterized by the minimum and maximum values. Examples of variables that can be described by a uniform distribution include manufacturing costs or future sales revenues for a new product. An illustration of the uniform distribution is given below:\n",
    "![](https://upload.wikimedia.org/wikipedia/commons/thumb/9/96/Uniform_Distribution_PDF_SVG.svg/320px-Uniform_Distribution_PDF_SVG.svg.png)\n",
    "\n",
    "- *Exponential Distribution*: this is a continuous distribution used to model the time that pass between independent occurrences, provided that the rate of occurrences is known. An example of the exponential distribution is given below:\n",
    "![](https://upload.wikimedia.org/wikipedia/commons/thumb/e/ec/Exponential_pdf.svg/320px-Exponential_pdf.svg.png)\n",
    "\n",
    "- *Discrete Distribution* : for this kind of distribution, the \"user\" defines specific values that may occur and the likelihood of each of them.  An example might be the results of a lawsuit: 20% chance of positive verdict, 30% change of negative verdict, 40% chance of settlement, and 10% chance of mistrial.\n"
   ]
  },
  {
   "cell_type": "markdown",
   "metadata": {},
   "source": [
    "# 5. A real use case: estimating the financial risk of a portfolio of stocks\n",
    "We hope that by now you have a good understanding about Monte Carlo simulation. Next, we apply this method to a real use case: *financial risk estimation*.\n",
    "\n",
    "Imagine that you are an investor on the stock market. You plan to buy some stocks and you want to estimate the maximum loss you could incur after two weeks of investing. This is the quantity that the financial statistic \"Value at Risk\" (VaR) seeks to measure. [VaR](https://en.wikipedia.org/wiki/Value_at_risk) is defined as a measure of investment risk that can be used as a reasonable estimate of the maximum probable loss for a value of an investment portfolio, over a particular time period. A VaR statistic depends on three parameters: a portfolio, a time period, and a confidence level. A VaR of 1 million dollars with a 95% confidence level over two weeks, indicates the belief that the portfolio stands only a 5% chance of losing more than 1 million dollars over two weeks. VaR has seen widespread use across financial services organizations. This statistic plays a vital role in determining how much cash investors must hold to meet the credit ratings that they seek. In addition, it is also used to understand the risk characteristics of large portfolios: it is a good idea to compute the VaR before executing trades, such that it can help take informed decisions about investments. \n",
    "\n",
    "Our goal is calculating VaR of two weeks interval with 95% confidence level and the associated [VaR confidence interval](http://www.investopedia.com/ask/answers/041615/whats-difference-between-confidence-level-and-confidence-interval-value-risk-var.asp).\n",
    "\n",
    "\n",
    "## 5.1. Terminology\n",
    "In this use case, we will use some terms that might require a proper definition, given the domain. This is what we call the *Domain Knowledge*.\n",
    "\n",
    "- **Instrument**: A tradable asset, such as a bond, loan, option, or stock investment. At any particular time, an instrument is considered to have a value, which is the price for which it can be sold. In the use case of this notebook, instruments are stock investments.\n",
    "- **Portfolio**: A collection of instruments owned by a financial institution. \n",
    "- **Return**: The change in an instrument or portfolio’s value over a time period. \n",
    "- **Loss**: A negative return. \n",
    "- **Index**: An imaginary portfolio of instruments. For example, the NASDAQ Composite index includes about 3,000 stocks and similar instruments for major US and international companies. \n",
    "- **Market factor**: A value that can be used as an indicator of macro aspects of the financial climate at a particular time. For example, the value of an index, the Gross Domestic Product of the United States, or the exchange rate between the dollar and the euro. We will often refer to market factors as just factors.\n",
    "\n",
    "## 5.2. The context of our use case\n",
    "We have a list of instruments that we plan to invest in. The historical data of each instrument has been collected for you. For simplicity, assume that the returns of instruments at a given time, depend on 4 market factors only: \n",
    "\n",
    "- GSPC value\n",
    "- IXIC value \n",
    "- The return of crude oil\n",
    "- The return of treasury bonds\n",
    "\n",
    "Our goal is building a model to predict the loss after two weeks' time interval with confidence level set to 95%.\n",
    "\n",
    "As a side note, it is important to realize that the approach presented in this Notebook is a simplified version of what would happen in a real Financial firm. For example, the returns of instruments at a given time often depend on more than 4 market factors only! Moreover, the choice of what constitute an appropriate market factor is an art!\n",
    "\n"
   ]
  },
  {
   "cell_type": "markdown",
   "metadata": {},
   "source": [
    "## 5.3. The Data\n",
    "The stock data can be downloaded (or scraped) from Yahoo! by making a series of REST calls. The data includes multiple files. Each file contains the historical information of each instrument that we want to invest in. The data is in the following format (with some samples):\n",
    "```\n",
    "Date, Open, High, Low, Close, Volume, Adj Close\n",
    "2016-01-22,66.239998,68.07,65.449997,67.860001,137400,67.860001\n",
    "2016-01-21,65.410004,66.18,64.459999,65.050003,148000,65.050003\n",
    "2016-01-20,64.279999,66.32,62.77,65.389999,141300,65.389999\n",
    "2016-01-19,67.720001,67.989998,64.720001,65.379997,178400,65.379997\n",
    "```\n",
    "\n",
    "The data of GSPC and IXIC values (our two first market factors) are also available on Yahoo! and use the very same format. \n",
    "\n",
    "The crude oil and treasure bonds data is collected from investing.com, and has a different format, as shown below (with some samples):\n",
    "```\n",
    "Date    Price   Open    High    Low     Vol.    Change %\n",
    "Jan 25, 2016    32.17   32.36   32.44   32.10   -       -0.59%\n",
    "Jan 24, 2016    32.37   32.10   32.62   31.99   -       0.54%\n",
    "Jan 22, 2016    32.19   29.84   32.35   29.53   -       9.01%\n",
    "Jan 21, 2016    29.53   28.35   30.25   27.87   694.04K 11.22%\n",
    "Jan 20, 2016    26.55   28.33   28.58   26.19   32.11K  -6.71%\n",
    "Jan 19, 2016    28.46   29.20   30.21   28.21   188.03K -5.21%\n",
    "```\n",
    "\n",
    "In our use case, the factors' data will be used jointly to build a statistical model: as a consequence, we first need to preprocess the data to proceed.\n",
    "\n",
    "## 5.4. Data preprocessing\n",
    "In this Notebook, all data files have been downloaded for you, such that you can focus on pre-processing. Next, we will:\n",
    "\n",
    "  - Read the factor data files which are in two different formats, process and merge them together\n",
    "  - Read the stock data and pre-process it\n",
    "  - Trim all data into a specific time region\n",
    "  - Fill in the missing values\n",
    "  - Generate the data of returns in each two weeks' time interval window\n",
    "  \n",
    "### Factor data pre-processing\n",
    "\n",
    "We need two functions to read and parse data from Yahoo! and Investing.com respectively. We are interested only in information about the time and the corresponding returns of a factor or an instrument: as a consequence, we will project away many columns of our RAW data, and keep only the information we are interested in.\n",
    "\n",
    "The 3000-instrument and the 4-factor history are small enough to be read and processed locally: we do not need to use the power of parallel computing to proceed. Note that this is true also for larger cases with hundreds of thousands of instruments and thousands of factors. The need for a distributed system like Spark comes in when actually **running** the Monte Carlo simulations, which can require massive amounts of computation on each instrument. "
   ]
  },
  {
   "cell_type": "markdown",
   "metadata": {},
   "source": [
    "### Question 4\n",
    "#### Question 4.1\n",
    "<div class=\"alert alert-info\">\n",
    "Write a function named `readInvestingDotComHistory` to parse data from investing.com based on the format specified above (see Section 5.3). Recall that we use two factors here: one that is related to the price of crude oil, one that is related to some specific US bonds. \n",
    "\n",
    "<ul></ul>\n",
    "\n",
    "Print the first 5 entries of the first factor (crude oil price) in the parsed data.\n",
    "\n",
    "<ul></ul>\n",
    "\n",
    "Note that we are only interested in the date and price of stocks.\n",
    "\n",
    "</div>\n",
    "\n",
    "<div class=\"label label-success\">HINT</div>  \n",
    "You can parse a string to `datetime` object by using the function `strptime(<string>, <dtime_format>)`. In this case, the datetime format is `\"%b %d, %Y\"`. For more information, please follow this [link](https://docs.python.org/2/library/datetime.html#strftime-and-strptime-behavior)."
   ]
  },
  {
   "cell_type": "markdown",
   "metadata": {},
   "source": [
    "In the next cell, we simply copy data from our HDFS cluster (that contains everything we need for this Notebook) to the instance (a Docker container) running your Notebook. This means that you will have \"local\" data that you can process without using Spark. Note the folder location: find and verify that you have correctly downloaded the files!"
   ]
  },
  {
   "cell_type": "code",
   "execution_count": 7,
   "metadata": {},
   "outputs": [],
   "source": [
    "! [ -d monte-carlo-risk ] || (echo \"Downloading prepared data from HDFS. Please wait...\" ; hdfs dfs -copyToLocal /datasets/monte-carlo-risk . ; echo \"Done!\";)"
   ]
  },
  {
   "cell_type": "code",
   "execution_count": 85,
   "metadata": {},
   "outputs": [
    {
     "name": "stdout",
     "output_type": "stream",
     "text": [
      "[(datetime.datetime(2006, 1, 26, 0, 0), 66.26), (datetime.datetime(2006, 1, 27, 0, 0), 67.76), (datetime.datetime(2006, 1, 30, 0, 0), 68.35), (datetime.datetime(2006, 1, 31, 0, 0), 67.92), (datetime.datetime(2006, 2, 1, 0, 0), 66.56), (datetime.datetime(2006, 2, 2, 0, 0), 64.68), (datetime.datetime(2006, 2, 3, 0, 0), 65.37), (datetime.datetime(2006, 2, 6, 0, 0), 65.11), (datetime.datetime(2006, 2, 7, 0, 0), 63.09), (datetime.datetime(2006, 2, 8, 0, 0), 62.55), (datetime.datetime(2006, 2, 9, 0, 0), 62.62), (datetime.datetime(2006, 2, 10, 0, 0), 61.84), (datetime.datetime(2006, 2, 13, 0, 0), 61.24), (datetime.datetime(2006, 2, 14, 0, 0), 59.57), (datetime.datetime(2006, 2, 15, 0, 0), 57.65), (datetime.datetime(2006, 2, 16, 0, 0), 58.46), (datetime.datetime(2006, 2, 17, 0, 0), 59.88), (datetime.datetime(2006, 2, 21, 0, 0), 61.1), (datetime.datetime(2006, 2, 22, 0, 0), 61.01), (datetime.datetime(2006, 2, 23, 0, 0), 60.54), (datetime.datetime(2006, 2, 24, 0, 0), 62.91), (datetime.datetime(2006, 2, 27, 0, 0), 61.0), (datetime.datetime(2006, 2, 28, 0, 0), 61.41), (datetime.datetime(2006, 3, 1, 0, 0), 61.97), (datetime.datetime(2006, 3, 2, 0, 0), 63.36), (datetime.datetime(2006, 3, 3, 0, 0), 63.67), (datetime.datetime(2006, 3, 6, 0, 0), 62.41), (datetime.datetime(2006, 3, 7, 0, 0), 61.58), (datetime.datetime(2006, 3, 8, 0, 0), 60.02), (datetime.datetime(2006, 3, 9, 0, 0), 60.47), (datetime.datetime(2006, 3, 10, 0, 0), 59.96), (datetime.datetime(2006, 3, 13, 0, 0), 61.77), (datetime.datetime(2006, 3, 14, 0, 0), 63.1), (datetime.datetime(2006, 3, 15, 0, 0), 62.17), (datetime.datetime(2006, 3, 16, 0, 0), 63.58), (datetime.datetime(2006, 3, 17, 0, 0), 62.77), (datetime.datetime(2006, 3, 20, 0, 0), 60.42), (datetime.datetime(2006, 3, 21, 0, 0), 60.57), (datetime.datetime(2006, 3, 22, 0, 0), 61.77), (datetime.datetime(2006, 3, 23, 0, 0), 63.91), (datetime.datetime(2006, 3, 24, 0, 0), 64.26), (datetime.datetime(2006, 3, 27, 0, 0), 64.16), (datetime.datetime(2006, 3, 28, 0, 0), 66.07), (datetime.datetime(2006, 3, 29, 0, 0), 66.45), (datetime.datetime(2006, 3, 30, 0, 0), 67.15), (datetime.datetime(2006, 3, 31, 0, 0), 66.63), (datetime.datetime(2006, 4, 3, 0, 0), 66.74), (datetime.datetime(2006, 4, 4, 0, 0), 66.23), (datetime.datetime(2006, 4, 5, 0, 0), 67.07), (datetime.datetime(2006, 4, 6, 0, 0), 67.94), (datetime.datetime(2006, 4, 7, 0, 0), 67.39), (datetime.datetime(2006, 4, 10, 0, 0), 68.74), (datetime.datetime(2006, 4, 11, 0, 0), 68.98), (datetime.datetime(2006, 4, 12, 0, 0), 68.62), (datetime.datetime(2006, 4, 13, 0, 0), 69.32), (datetime.datetime(2006, 4, 17, 0, 0), 70.4), (datetime.datetime(2006, 4, 18, 0, 0), 71.35), (datetime.datetime(2006, 4, 19, 0, 0), 72.17), (datetime.datetime(2006, 4, 20, 0, 0), 71.95), (datetime.datetime(2006, 4, 21, 0, 0), 75.17), (datetime.datetime(2006, 4, 24, 0, 0), 73.33), (datetime.datetime(2006, 4, 25, 0, 0), 72.88), (datetime.datetime(2006, 4, 26, 0, 0), 71.93), (datetime.datetime(2006, 4, 27, 0, 0), 70.97), (datetime.datetime(2006, 4, 28, 0, 0), 71.88), (datetime.datetime(2006, 5, 1, 0, 0), 73.7), (datetime.datetime(2006, 5, 2, 0, 0), 74.61), (datetime.datetime(2006, 5, 3, 0, 0), 72.28), (datetime.datetime(2006, 5, 4, 0, 0), 69.94), (datetime.datetime(2006, 5, 5, 0, 0), 70.19), (datetime.datetime(2006, 5, 8, 0, 0), 69.77), (datetime.datetime(2006, 5, 9, 0, 0), 70.69), (datetime.datetime(2006, 5, 10, 0, 0), 72.13), (datetime.datetime(2006, 5, 11, 0, 0), 73.32), (datetime.datetime(2006, 5, 12, 0, 0), 72.04), (datetime.datetime(2006, 5, 15, 0, 0), 69.41), (datetime.datetime(2006, 5, 16, 0, 0), 69.53), (datetime.datetime(2006, 5, 17, 0, 0), 68.69), (datetime.datetime(2006, 5, 18, 0, 0), 69.45), (datetime.datetime(2006, 5, 19, 0, 0), 68.53), (datetime.datetime(2006, 5, 22, 0, 0), 69.23), (datetime.datetime(2006, 5, 23, 0, 0), 71.76), (datetime.datetime(2006, 5, 24, 0, 0), 69.86), (datetime.datetime(2006, 5, 25, 0, 0), 71.32), (datetime.datetime(2006, 5, 26, 0, 0), 71.37), (datetime.datetime(2006, 5, 30, 0, 0), 72.03), (datetime.datetime(2006, 5, 31, 0, 0), 71.29), (datetime.datetime(2006, 6, 1, 0, 0), 70.34), (datetime.datetime(2006, 6, 2, 0, 0), 72.33), (datetime.datetime(2006, 6, 5, 0, 0), 72.6), (datetime.datetime(2006, 6, 6, 0, 0), 72.5), (datetime.datetime(2006, 6, 7, 0, 0), 70.82), (datetime.datetime(2006, 6, 8, 0, 0), 70.35), (datetime.datetime(2006, 6, 9, 0, 0), 71.63), (datetime.datetime(2006, 6, 12, 0, 0), 70.36), (datetime.datetime(2006, 6, 13, 0, 0), 68.56), (datetime.datetime(2006, 6, 14, 0, 0), 69.14), (datetime.datetime(2006, 6, 15, 0, 0), 69.5), (datetime.datetime(2006, 6, 16, 0, 0), 69.88), (datetime.datetime(2006, 6, 19, 0, 0), 68.98), (datetime.datetime(2006, 6, 20, 0, 0), 68.94), (datetime.datetime(2006, 6, 21, 0, 0), 70.33), (datetime.datetime(2006, 6, 22, 0, 0), 70.84), (datetime.datetime(2006, 6, 23, 0, 0), 70.87), (datetime.datetime(2006, 6, 26, 0, 0), 71.8), (datetime.datetime(2006, 6, 27, 0, 0), 71.92), (datetime.datetime(2006, 6, 28, 0, 0), 72.19), (datetime.datetime(2006, 6, 29, 0, 0), 73.52), (datetime.datetime(2006, 6, 30, 0, 0), 73.93), (datetime.datetime(2006, 7, 5, 0, 0), 75.19), (datetime.datetime(2006, 7, 6, 0, 0), 75.14), (datetime.datetime(2006, 7, 7, 0, 0), 74.09), (datetime.datetime(2006, 7, 10, 0, 0), 73.61), (datetime.datetime(2006, 7, 11, 0, 0), 74.16), (datetime.datetime(2006, 7, 12, 0, 0), 74.95), (datetime.datetime(2006, 7, 13, 0, 0), 76.7), (datetime.datetime(2006, 7, 14, 0, 0), 77.03), (datetime.datetime(2006, 7, 17, 0, 0), 75.3), (datetime.datetime(2006, 7, 18, 0, 0), 73.54), (datetime.datetime(2006, 7, 19, 0, 0), 72.66), (datetime.datetime(2006, 7, 20, 0, 0), 73.08), (datetime.datetime(2006, 7, 21, 0, 0), 74.43), (datetime.datetime(2006, 7, 24, 0, 0), 75.05), (datetime.datetime(2006, 7, 25, 0, 0), 73.75), (datetime.datetime(2006, 7, 26, 0, 0), 73.94), (datetime.datetime(2006, 7, 27, 0, 0), 74.54), (datetime.datetime(2006, 7, 28, 0, 0), 73.24), (datetime.datetime(2006, 7, 31, 0, 0), 74.4), (datetime.datetime(2006, 8, 1, 0, 0), 74.91), (datetime.datetime(2006, 8, 2, 0, 0), 75.81), (datetime.datetime(2006, 8, 3, 0, 0), 75.46), (datetime.datetime(2006, 8, 4, 0, 0), 74.76), (datetime.datetime(2006, 8, 7, 0, 0), 76.98), (datetime.datetime(2006, 8, 8, 0, 0), 76.31), (datetime.datetime(2006, 8, 9, 0, 0), 76.35), (datetime.datetime(2006, 8, 10, 0, 0), 74.0), (datetime.datetime(2006, 8, 11, 0, 0), 74.35), (datetime.datetime(2006, 8, 14, 0, 0), 73.53), (datetime.datetime(2006, 8, 15, 0, 0), 73.05), (datetime.datetime(2006, 8, 16, 0, 0), 71.89), (datetime.datetime(2006, 8, 17, 0, 0), 70.06), (datetime.datetime(2006, 8, 18, 0, 0), 71.14), (datetime.datetime(2006, 8, 21, 0, 0), 72.45), (datetime.datetime(2006, 8, 22, 0, 0), 72.63), (datetime.datetime(2006, 8, 23, 0, 0), 71.76), (datetime.datetime(2006, 8, 24, 0, 0), 72.36), (datetime.datetime(2006, 8, 25, 0, 0), 72.51), (datetime.datetime(2006, 8, 28, 0, 0), 70.61), (datetime.datetime(2006, 8, 29, 0, 0), 69.71), (datetime.datetime(2006, 8, 30, 0, 0), 70.03), (datetime.datetime(2006, 8, 31, 0, 0), 70.26), (datetime.datetime(2006, 9, 1, 0, 0), 69.19), (datetime.datetime(2006, 9, 5, 0, 0), 68.6), (datetime.datetime(2006, 9, 6, 0, 0), 67.5), (datetime.datetime(2006, 9, 7, 0, 0), 67.32), (datetime.datetime(2006, 9, 8, 0, 0), 66.25), (datetime.datetime(2006, 9, 11, 0, 0), 65.61), (datetime.datetime(2006, 9, 12, 0, 0), 63.76), (datetime.datetime(2006, 9, 13, 0, 0), 63.97), (datetime.datetime(2006, 9, 14, 0, 0), 63.22), (datetime.datetime(2006, 9, 15, 0, 0), 63.33), (datetime.datetime(2006, 9, 18, 0, 0), 63.8), (datetime.datetime(2006, 9, 19, 0, 0), 61.66), (datetime.datetime(2006, 9, 20, 0, 0), 60.46), (datetime.datetime(2006, 9, 21, 0, 0), 61.59), (datetime.datetime(2006, 9, 22, 0, 0), 60.55), (datetime.datetime(2006, 9, 25, 0, 0), 61.45), (datetime.datetime(2006, 9, 26, 0, 0), 61.01), (datetime.datetime(2006, 9, 27, 0, 0), 62.96), (datetime.datetime(2006, 9, 28, 0, 0), 62.76), (datetime.datetime(2006, 9, 29, 0, 0), 62.91), (datetime.datetime(2006, 10, 2, 0, 0), 61.03), (datetime.datetime(2006, 10, 3, 0, 0), 58.68), (datetime.datetime(2006, 10, 4, 0, 0), 59.41), (datetime.datetime(2006, 10, 5, 0, 0), 60.03), (datetime.datetime(2006, 10, 6, 0, 0), 59.76), (datetime.datetime(2006, 10, 9, 0, 0), 59.96), (datetime.datetime(2006, 10, 10, 0, 0), 58.52), (datetime.datetime(2006, 10, 11, 0, 0), 57.59), (datetime.datetime(2006, 10, 12, 0, 0), 57.86), (datetime.datetime(2006, 10, 13, 0, 0), 58.57), (datetime.datetime(2006, 10, 16, 0, 0), 59.94), (datetime.datetime(2006, 10, 17, 0, 0), 58.93), (datetime.datetime(2006, 10, 18, 0, 0), 57.65), (datetime.datetime(2006, 10, 19, 0, 0), 58.5), (datetime.datetime(2006, 10, 20, 0, 0), 56.82), (datetime.datetime(2006, 10, 23, 0, 0), 58.81), (datetime.datetime(2006, 10, 24, 0, 0), 59.35), (datetime.datetime(2006, 10, 25, 0, 0), 61.4), (datetime.datetime(2006, 10, 26, 0, 0), 60.36), (datetime.datetime(2006, 10, 27, 0, 0), 60.75), (datetime.datetime(2006, 10, 30, 0, 0), 58.36), (datetime.datetime(2006, 10, 31, 0, 0), 58.73), (datetime.datetime(2006, 11, 1, 0, 0), 58.71), (datetime.datetime(2006, 11, 2, 0, 0), 57.88), (datetime.datetime(2006, 11, 3, 0, 0), 59.14), (datetime.datetime(2006, 11, 6, 0, 0), 60.02), (datetime.datetime(2006, 11, 7, 0, 0), 58.93), (datetime.datetime(2006, 11, 8, 0, 0), 59.83), (datetime.datetime(2006, 11, 9, 0, 0), 61.16), (datetime.datetime(2006, 11, 10, 0, 0), 59.59), (datetime.datetime(2006, 11, 13, 0, 0), 58.58), (datetime.datetime(2006, 11, 14, 0, 0), 58.28), (datetime.datetime(2006, 11, 15, 0, 0), 58.76), (datetime.datetime(2006, 11, 16, 0, 0), 56.26), (datetime.datetime(2006, 11, 17, 0, 0), 55.81), (datetime.datetime(2006, 11, 20, 0, 0), 58.8), (datetime.datetime(2006, 11, 21, 0, 0), 60.17), (datetime.datetime(2006, 11, 22, 0, 0), 59.24), (datetime.datetime(2006, 11, 27, 0, 0), 60.32), (datetime.datetime(2006, 11, 28, 0, 0), 60.99), (datetime.datetime(2006, 11, 29, 0, 0), 62.46), (datetime.datetime(2006, 11, 30, 0, 0), 63.13), (datetime.datetime(2006, 12, 1, 0, 0), 63.43), (datetime.datetime(2006, 12, 4, 0, 0), 62.44), (datetime.datetime(2006, 12, 5, 0, 0), 62.43), (datetime.datetime(2006, 12, 6, 0, 0), 62.19), (datetime.datetime(2006, 12, 7, 0, 0), 62.49), (datetime.datetime(2006, 12, 8, 0, 0), 62.03), (datetime.datetime(2006, 12, 11, 0, 0), 61.22), (datetime.datetime(2006, 12, 12, 0, 0), 61.02), (datetime.datetime(2006, 12, 13, 0, 0), 61.37), (datetime.datetime(2006, 12, 14, 0, 0), 62.51), (datetime.datetime(2006, 12, 15, 0, 0), 63.43), (datetime.datetime(2006, 12, 18, 0, 0), 62.21), (datetime.datetime(2006, 12, 19, 0, 0), 63.15), (datetime.datetime(2006, 12, 20, 0, 0), 63.72), (datetime.datetime(2006, 12, 21, 0, 0), 62.66), (datetime.datetime(2006, 12, 22, 0, 0), 62.41), (datetime.datetime(2006, 12, 26, 0, 0), 61.1), (datetime.datetime(2006, 12, 27, 0, 0), 60.34), (datetime.datetime(2006, 12, 28, 0, 0), 60.53), (datetime.datetime(2006, 12, 29, 0, 0), 61.05), (datetime.datetime(2007, 1, 2, 0, 0), 61.05), (datetime.datetime(2007, 1, 3, 0, 0), 58.32), (datetime.datetime(2007, 1, 4, 0, 0), 55.59), (datetime.datetime(2007, 1, 5, 0, 0), 56.31), (datetime.datetime(2007, 1, 8, 0, 0), 56.09), (datetime.datetime(2007, 1, 9, 0, 0), 55.64), (datetime.datetime(2007, 1, 10, 0, 0), 54.02), (datetime.datetime(2007, 1, 11, 0, 0), 51.88), (datetime.datetime(2007, 1, 12, 0, 0), 52.99), (datetime.datetime(2007, 1, 16, 0, 0), 51.21), (datetime.datetime(2007, 1, 17, 0, 0), 52.24), (datetime.datetime(2007, 1, 18, 0, 0), 50.48), (datetime.datetime(2007, 1, 19, 0, 0), 51.99), (datetime.datetime(2007, 1, 22, 0, 0), 51.13), (datetime.datetime(2007, 1, 23, 0, 0), 55.04), (datetime.datetime(2007, 1, 24, 0, 0), 55.37), (datetime.datetime(2007, 1, 25, 0, 0), 54.23), (datetime.datetime(2007, 1, 26, 0, 0), 55.42), (datetime.datetime(2007, 1, 29, 0, 0), 54.01), (datetime.datetime(2007, 1, 30, 0, 0), 56.97), (datetime.datetime(2007, 1, 31, 0, 0), 58.14), (datetime.datetime(2007, 2, 1, 0, 0), 57.3), (datetime.datetime(2007, 2, 2, 0, 0), 59.02), (datetime.datetime(2007, 2, 5, 0, 0), 58.74), (datetime.datetime(2007, 2, 6, 0, 0), 58.88), (datetime.datetime(2007, 2, 7, 0, 0), 57.71), (datetime.datetime(2007, 2, 8, 0, 0), 59.71), (datetime.datetime(2007, 2, 9, 0, 0), 59.89), (datetime.datetime(2007, 2, 12, 0, 0), 57.81), (datetime.datetime(2007, 2, 13, 0, 0), 59.06), (datetime.datetime(2007, 2, 14, 0, 0), 58.0), (datetime.datetime(2007, 2, 15, 0, 0), 57.99), (datetime.datetime(2007, 2, 16, 0, 0), 59.39), (datetime.datetime(2007, 2, 20, 0, 0), 58.07), (datetime.datetime(2007, 2, 21, 0, 0), 60.07), (datetime.datetime(2007, 2, 22, 0, 0), 60.95), (datetime.datetime(2007, 2, 23, 0, 0), 61.14), (datetime.datetime(2007, 2, 26, 0, 0), 61.39), (datetime.datetime(2007, 2, 27, 0, 0), 61.46), (datetime.datetime(2007, 2, 28, 0, 0), 61.79), (datetime.datetime(2007, 3, 1, 0, 0), 62.0), (datetime.datetime(2007, 3, 2, 0, 0), 61.64), (datetime.datetime(2007, 3, 5, 0, 0), 60.07), (datetime.datetime(2007, 3, 6, 0, 0), 60.69), (datetime.datetime(2007, 3, 7, 0, 0), 61.82), (datetime.datetime(2007, 3, 8, 0, 0), 61.64), (datetime.datetime(2007, 3, 9, 0, 0), 60.05), (datetime.datetime(2007, 3, 12, 0, 0), 58.91), (datetime.datetime(2007, 3, 13, 0, 0), 57.93), (datetime.datetime(2007, 3, 14, 0, 0), 58.16), (datetime.datetime(2007, 3, 15, 0, 0), 57.55), (datetime.datetime(2007, 3, 16, 0, 0), 57.11), (datetime.datetime(2007, 3, 19, 0, 0), 56.59), (datetime.datetime(2007, 3, 20, 0, 0), 56.73), (datetime.datetime(2007, 3, 21, 0, 0), 59.61), (datetime.datetime(2007, 3, 22, 0, 0), 61.69), (datetime.datetime(2007, 3, 23, 0, 0), 62.28), (datetime.datetime(2007, 3, 26, 0, 0), 62.91), (datetime.datetime(2007, 3, 27, 0, 0), 62.93), (datetime.datetime(2007, 3, 28, 0, 0), 64.08), (datetime.datetime(2007, 3, 29, 0, 0), 66.03), (datetime.datetime(2007, 3, 30, 0, 0), 65.87), (datetime.datetime(2007, 4, 2, 0, 0), 65.94), (datetime.datetime(2007, 4, 3, 0, 0), 64.64), (datetime.datetime(2007, 4, 4, 0, 0), 64.38), (datetime.datetime(2007, 4, 5, 0, 0), 64.28), (datetime.datetime(2007, 4, 9, 0, 0), 61.51), (datetime.datetime(2007, 4, 10, 0, 0), 61.89), (datetime.datetime(2007, 4, 11, 0, 0), 62.01), (datetime.datetime(2007, 4, 12, 0, 0), 63.85), (datetime.datetime(2007, 4, 13, 0, 0), 63.63), (datetime.datetime(2007, 4, 16, 0, 0), 63.61), (datetime.datetime(2007, 4, 17, 0, 0), 63.1), (datetime.datetime(2007, 4, 18, 0, 0), 63.13), (datetime.datetime(2007, 4, 19, 0, 0), 61.83), (datetime.datetime(2007, 4, 20, 0, 0), 63.38), (datetime.datetime(2007, 4, 23, 0, 0), 65.89), (datetime.datetime(2007, 4, 24, 0, 0), 64.58), (datetime.datetime(2007, 4, 25, 0, 0), 65.84), (datetime.datetime(2007, 4, 26, 0, 0), 65.06), (datetime.datetime(2007, 4, 27, 0, 0), 66.46), (datetime.datetime(2007, 4, 30, 0, 0), 65.71), (datetime.datetime(2007, 5, 1, 0, 0), 64.4), (datetime.datetime(2007, 5, 2, 0, 0), 63.68), (datetime.datetime(2007, 5, 3, 0, 0), 63.19), (datetime.datetime(2007, 5, 4, 0, 0), 61.93), (datetime.datetime(2007, 5, 7, 0, 0), 61.47), (datetime.datetime(2007, 5, 8, 0, 0), 62.26), (datetime.datetime(2007, 5, 9, 0, 0), 61.55), (datetime.datetime(2007, 5, 10, 0, 0), 61.81), (datetime.datetime(2007, 5, 11, 0, 0), 62.37), (datetime.datetime(2007, 5, 14, 0, 0), 62.46), (datetime.datetime(2007, 5, 15, 0, 0), 63.17), (datetime.datetime(2007, 5, 16, 0, 0), 62.55), (datetime.datetime(2007, 5, 17, 0, 0), 64.86), (datetime.datetime(2007, 5, 18, 0, 0), 64.94), (datetime.datetime(2007, 5, 21, 0, 0), 66.27), (datetime.datetime(2007, 5, 22, 0, 0), 64.97), (datetime.datetime(2007, 5, 23, 0, 0), 65.77), (datetime.datetime(2007, 5, 24, 0, 0), 64.18), (datetime.datetime(2007, 5, 25, 0, 0), 65.2), (datetime.datetime(2007, 5, 29, 0, 0), 63.15), (datetime.datetime(2007, 5, 30, 0, 0), 63.49), (datetime.datetime(2007, 5, 31, 0, 0), 64.01), (datetime.datetime(2007, 6, 1, 0, 0), 65.08), (datetime.datetime(2007, 6, 4, 0, 0), 66.21), (datetime.datetime(2007, 6, 5, 0, 0), 65.61), (datetime.datetime(2007, 6, 6, 0, 0), 65.96), (datetime.datetime(2007, 6, 7, 0, 0), 66.93), (datetime.datetime(2007, 6, 8, 0, 0), 64.76), (datetime.datetime(2007, 6, 11, 0, 0), 65.97), (datetime.datetime(2007, 6, 12, 0, 0), 65.35), (datetime.datetime(2007, 6, 13, 0, 0), 66.26), (datetime.datetime(2007, 6, 14, 0, 0), 67.65), (datetime.datetime(2007, 6, 15, 0, 0), 68.0), (datetime.datetime(2007, 6, 18, 0, 0), 69.09), (datetime.datetime(2007, 6, 19, 0, 0), 69.1), (datetime.datetime(2007, 6, 20, 0, 0), 68.19), (datetime.datetime(2007, 6, 21, 0, 0), 68.65), (datetime.datetime(2007, 6, 22, 0, 0), 69.14), (datetime.datetime(2007, 6, 25, 0, 0), 69.18), (datetime.datetime(2007, 6, 26, 0, 0), 67.77), (datetime.datetime(2007, 6, 27, 0, 0), 68.97), (datetime.datetime(2007, 6, 28, 0, 0), 69.57), (datetime.datetime(2007, 6, 29, 0, 0), 70.68), (datetime.datetime(2007, 7, 2, 0, 0), 71.09), (datetime.datetime(2007, 7, 3, 0, 0), 71.41), (datetime.datetime(2007, 7, 5, 0, 0), 71.81), (datetime.datetime(2007, 7, 6, 0, 0), 72.81), (datetime.datetime(2007, 7, 9, 0, 0), 72.19), (datetime.datetime(2007, 7, 10, 0, 0), 72.81), (datetime.datetime(2007, 7, 11, 0, 0), 72.56), (datetime.datetime(2007, 7, 12, 0, 0), 72.5), (datetime.datetime(2007, 7, 13, 0, 0), 73.93), (datetime.datetime(2007, 7, 16, 0, 0), 74.15), (datetime.datetime(2007, 7, 17, 0, 0), 74.02), (datetime.datetime(2007, 7, 18, 0, 0), 75.05), (datetime.datetime(2007, 7, 19, 0, 0), 75.92), (datetime.datetime(2007, 7, 20, 0, 0), 75.57), (datetime.datetime(2007, 7, 23, 0, 0), 74.89), (datetime.datetime(2007, 7, 24, 0, 0), 73.56), (datetime.datetime(2007, 7, 25, 0, 0), 75.88), (datetime.datetime(2007, 7, 26, 0, 0), 74.95), (datetime.datetime(2007, 7, 27, 0, 0), 77.02), (datetime.datetime(2007, 7, 30, 0, 0), 76.83), (datetime.datetime(2007, 7, 31, 0, 0), 78.21), (datetime.datetime(2007, 8, 1, 0, 0), 76.53), (datetime.datetime(2007, 8, 2, 0, 0), 76.86), (datetime.datetime(2007, 8, 3, 0, 0), 75.48), (datetime.datetime(2007, 8, 6, 0, 0), 72.06), (datetime.datetime(2007, 8, 7, 0, 0), 72.42), (datetime.datetime(2007, 8, 8, 0, 0), 72.15), (datetime.datetime(2007, 8, 9, 0, 0), 71.59), (datetime.datetime(2007, 8, 10, 0, 0), 71.47), (datetime.datetime(2007, 8, 13, 0, 0), 71.62), (datetime.datetime(2007, 8, 14, 0, 0), 72.38), (datetime.datetime(2007, 8, 15, 0, 0), 73.33), (datetime.datetime(2007, 8, 16, 0, 0), 71.0), (datetime.datetime(2007, 8, 17, 0, 0), 71.98), (datetime.datetime(2007, 8, 20, 0, 0), 71.12), (datetime.datetime(2007, 8, 21, 0, 0), 69.47), (datetime.datetime(2007, 8, 22, 0, 0), 69.26), (datetime.datetime(2007, 8, 23, 0, 0), 69.83), (datetime.datetime(2007, 8, 24, 0, 0), 71.09), (datetime.datetime(2007, 8, 27, 0, 0), 71.97), (datetime.datetime(2007, 8, 28, 0, 0), 71.73), (datetime.datetime(2007, 8, 29, 0, 0), 73.51), (datetime.datetime(2007, 8, 30, 0, 0), 73.36), (datetime.datetime(2007, 8, 31, 0, 0), 74.04), (datetime.datetime(2007, 9, 4, 0, 0), 75.08), (datetime.datetime(2007, 9, 5, 0, 0), 75.73), (datetime.datetime(2007, 9, 6, 0, 0), 76.3), (datetime.datetime(2007, 9, 7, 0, 0), 76.7), (datetime.datetime(2007, 9, 10, 0, 0), 77.49), (datetime.datetime(2007, 9, 11, 0, 0), 78.23), (datetime.datetime(2007, 9, 12, 0, 0), 79.91), (datetime.datetime(2007, 9, 13, 0, 0), 80.09), (datetime.datetime(2007, 9, 14, 0, 0), 79.1), (datetime.datetime(2007, 9, 17, 0, 0), 80.57), (datetime.datetime(2007, 9, 18, 0, 0), 81.51), (datetime.datetime(2007, 9, 19, 0, 0), 81.93), (datetime.datetime(2007, 9, 20, 0, 0), 83.32), (datetime.datetime(2007, 9, 21, 0, 0), 81.62), (datetime.datetime(2007, 9, 24, 0, 0), 80.95), (datetime.datetime(2007, 9, 25, 0, 0), 79.53), (datetime.datetime(2007, 9, 26, 0, 0), 80.3), (datetime.datetime(2007, 9, 27, 0, 0), 82.88), (datetime.datetime(2007, 9, 28, 0, 0), 81.66), (datetime.datetime(2007, 10, 1, 0, 0), 80.24), (datetime.datetime(2007, 10, 2, 0, 0), 80.05), (datetime.datetime(2007, 10, 3, 0, 0), 79.94), (datetime.datetime(2007, 10, 4, 0, 0), 81.44), (datetime.datetime(2007, 10, 5, 0, 0), 81.22), (datetime.datetime(2007, 10, 8, 0, 0), 79.02), (datetime.datetime(2007, 10, 9, 0, 0), 80.26), (datetime.datetime(2007, 10, 10, 0, 0), 81.3), (datetime.datetime(2007, 10, 11, 0, 0), 83.08), (datetime.datetime(2007, 10, 12, 0, 0), 83.69), (datetime.datetime(2007, 10, 15, 0, 0), 86.13), (datetime.datetime(2007, 10, 16, 0, 0), 87.61), (datetime.datetime(2007, 10, 17, 0, 0), 87.4), (datetime.datetime(2007, 10, 18, 0, 0), 89.47), (datetime.datetime(2007, 10, 19, 0, 0), 88.6), (datetime.datetime(2007, 10, 22, 0, 0), 87.56), (datetime.datetime(2007, 10, 23, 0, 0), 85.27), (datetime.datetime(2007, 10, 24, 0, 0), 87.1), (datetime.datetime(2007, 10, 25, 0, 0), 90.46), (datetime.datetime(2007, 10, 26, 0, 0), 91.86), (datetime.datetime(2007, 10, 29, 0, 0), 93.53), (datetime.datetime(2007, 10, 30, 0, 0), 90.38), (datetime.datetime(2007, 10, 31, 0, 0), 94.53), (datetime.datetime(2007, 11, 1, 0, 0), 93.49), (datetime.datetime(2007, 11, 2, 0, 0), 95.93), (datetime.datetime(2007, 11, 5, 0, 0), 93.98), (datetime.datetime(2007, 11, 6, 0, 0), 96.7), (datetime.datetime(2007, 11, 7, 0, 0), 96.37), (datetime.datetime(2007, 11, 8, 0, 0), 95.46), (datetime.datetime(2007, 11, 9, 0, 0), 96.32), (datetime.datetime(2007, 11, 12, 0, 0), 94.62), (datetime.datetime(2007, 11, 13, 0, 0), 91.17), (datetime.datetime(2007, 11, 14, 0, 0), 94.09), (datetime.datetime(2007, 11, 15, 0, 0), 93.43), (datetime.datetime(2007, 11, 16, 0, 0), 95.1), (datetime.datetime(2007, 11, 19, 0, 0), 94.64), (datetime.datetime(2007, 11, 20, 0, 0), 98.03), (datetime.datetime(2007, 11, 21, 0, 0), 97.29), (datetime.datetime(2007, 11, 23, 0, 0), 98.18), (datetime.datetime(2007, 11, 26, 0, 0), 97.7), (datetime.datetime(2007, 11, 27, 0, 0), 94.42), (datetime.datetime(2007, 11, 28, 0, 0), 90.62), (datetime.datetime(2007, 11, 29, 0, 0), 91.01), (datetime.datetime(2007, 11, 30, 0, 0), 88.71), (datetime.datetime(2007, 12, 3, 0, 0), 89.31), (datetime.datetime(2007, 12, 4, 0, 0), 88.32), (datetime.datetime(2007, 12, 5, 0, 0), 87.49), (datetime.datetime(2007, 12, 6, 0, 0), 90.23), (datetime.datetime(2007, 12, 7, 0, 0), 88.28), (datetime.datetime(2007, 12, 10, 0, 0), 87.86), (datetime.datetime(2007, 12, 11, 0, 0), 90.02), (datetime.datetime(2007, 12, 12, 0, 0), 94.39), (datetime.datetime(2007, 12, 13, 0, 0), 92.25), (datetime.datetime(2007, 12, 14, 0, 0), 91.27), (datetime.datetime(2007, 12, 17, 0, 0), 90.63), (datetime.datetime(2007, 12, 18, 0, 0), 90.49), (datetime.datetime(2007, 12, 19, 0, 0), 91.24), (datetime.datetime(2007, 12, 20, 0, 0), 91.06), (datetime.datetime(2007, 12, 21, 0, 0), 93.31), (datetime.datetime(2007, 12, 24, 0, 0), 94.13), (datetime.datetime(2007, 12, 26, 0, 0), 95.97), (datetime.datetime(2007, 12, 27, 0, 0), 96.62), (datetime.datetime(2007, 12, 28, 0, 0), 96.0), (datetime.datetime(2007, 12, 31, 0, 0), 95.98), (datetime.datetime(2008, 1, 2, 0, 0), 99.62), (datetime.datetime(2008, 1, 3, 0, 0), 99.18), (datetime.datetime(2008, 1, 4, 0, 0), 97.91), (datetime.datetime(2008, 1, 7, 0, 0), 95.09), (datetime.datetime(2008, 1, 8, 0, 0), 96.33), (datetime.datetime(2008, 1, 9, 0, 0), 95.67), (datetime.datetime(2008, 1, 10, 0, 0), 93.71), (datetime.datetime(2008, 1, 11, 0, 0), 92.69), (datetime.datetime(2008, 1, 14, 0, 0), 94.2), (datetime.datetime(2008, 1, 15, 0, 0), 91.9), (datetime.datetime(2008, 1, 16, 0, 0), 90.84), (datetime.datetime(2008, 1, 17, 0, 0), 90.13), (datetime.datetime(2008, 1, 18, 0, 0), 90.57), (datetime.datetime(2008, 1, 22, 0, 0), 89.85), (datetime.datetime(2008, 1, 23, 0, 0), 86.99), (datetime.datetime(2008, 1, 24, 0, 0), 89.41), (datetime.datetime(2008, 1, 25, 0, 0), 90.71), (datetime.datetime(2008, 1, 28, 0, 0), 90.99), (datetime.datetime(2008, 1, 29, 0, 0), 91.64), (datetime.datetime(2008, 1, 30, 0, 0), 92.33), (datetime.datetime(2008, 1, 31, 0, 0), 91.75), (datetime.datetime(2008, 2, 1, 0, 0), 88.96), (datetime.datetime(2008, 2, 4, 0, 0), 90.02), (datetime.datetime(2008, 2, 5, 0, 0), 88.41), (datetime.datetime(2008, 2, 6, 0, 0), 87.14), (datetime.datetime(2008, 2, 7, 0, 0), 88.11), (datetime.datetime(2008, 2, 8, 0, 0), 91.77), (datetime.datetime(2008, 2, 11, 0, 0), 93.59), (datetime.datetime(2008, 2, 12, 0, 0), 92.78), (datetime.datetime(2008, 2, 13, 0, 0), 93.27), (datetime.datetime(2008, 2, 14, 0, 0), 95.46), (datetime.datetime(2008, 2, 15, 0, 0), 95.5), (datetime.datetime(2008, 2, 19, 0, 0), 100.01), (datetime.datetime(2008, 2, 20, 0, 0), 100.74), (datetime.datetime(2008, 2, 21, 0, 0), 98.23), (datetime.datetime(2008, 2, 22, 0, 0), 98.81), (datetime.datetime(2008, 2, 25, 0, 0), 99.23), (datetime.datetime(2008, 2, 26, 0, 0), 100.88), (datetime.datetime(2008, 2, 27, 0, 0), 99.64), (datetime.datetime(2008, 2, 28, 0, 0), 102.59), (datetime.datetime(2008, 2, 29, 0, 0), 101.84), (datetime.datetime(2008, 3, 3, 0, 0), 102.45), (datetime.datetime(2008, 3, 4, 0, 0), 99.52), (datetime.datetime(2008, 3, 5, 0, 0), 104.52), (datetime.datetime(2008, 3, 6, 0, 0), 105.47), (datetime.datetime(2008, 3, 7, 0, 0), 105.15), (datetime.datetime(2008, 3, 10, 0, 0), 107.9), (datetime.datetime(2008, 3, 11, 0, 0), 108.75), (datetime.datetime(2008, 3, 12, 0, 0), 109.92), (datetime.datetime(2008, 3, 13, 0, 0), 110.33), (datetime.datetime(2008, 3, 14, 0, 0), 110.21), (datetime.datetime(2008, 3, 17, 0, 0), 105.68), (datetime.datetime(2008, 3, 18, 0, 0), 109.42), (datetime.datetime(2008, 3, 19, 0, 0), 104.48), (datetime.datetime(2008, 3, 20, 0, 0), 101.84), (datetime.datetime(2008, 3, 24, 0, 0), 100.86), (datetime.datetime(2008, 3, 25, 0, 0), 101.22), (datetime.datetime(2008, 3, 26, 0, 0), 105.9), (datetime.datetime(2008, 3, 27, 0, 0), 107.58), (datetime.datetime(2008, 3, 28, 0, 0), 105.62), (datetime.datetime(2008, 3, 31, 0, 0), 101.58), (datetime.datetime(2008, 4, 1, 0, 0), 100.98), (datetime.datetime(2008, 4, 2, 0, 0), 104.83), (datetime.datetime(2008, 4, 3, 0, 0), 103.83), (datetime.datetime(2008, 4, 4, 0, 0), 106.23), (datetime.datetime(2008, 4, 7, 0, 0), 109.09), (datetime.datetime(2008, 4, 8, 0, 0), 108.5), (datetime.datetime(2008, 4, 9, 0, 0), 110.87), (datetime.datetime(2008, 4, 10, 0, 0), 110.11), (datetime.datetime(2008, 4, 11, 0, 0), 110.14), (datetime.datetime(2008, 4, 14, 0, 0), 111.76), (datetime.datetime(2008, 4, 15, 0, 0), 113.79), (datetime.datetime(2008, 4, 16, 0, 0), 114.93), (datetime.datetime(2008, 4, 17, 0, 0), 114.86), (datetime.datetime(2008, 4, 18, 0, 0), 116.69), (datetime.datetime(2008, 4, 21, 0, 0), 117.48), (datetime.datetime(2008, 4, 22, 0, 0), 119.37), (datetime.datetime(2008, 4, 23, 0, 0), 118.3), (datetime.datetime(2008, 4, 24, 0, 0), 116.06), (datetime.datetime(2008, 4, 25, 0, 0), 118.52), (datetime.datetime(2008, 4, 28, 0, 0), 118.75), (datetime.datetime(2008, 4, 29, 0, 0), 115.63), (datetime.datetime(2008, 4, 30, 0, 0), 113.46), (datetime.datetime(2008, 5, 1, 0, 0), 112.52), (datetime.datetime(2008, 5, 2, 0, 0), 116.32), (datetime.datetime(2008, 5, 5, 0, 0), 119.97), (datetime.datetime(2008, 5, 6, 0, 0), 121.84), (datetime.datetime(2008, 5, 7, 0, 0), 123.53), (datetime.datetime(2008, 5, 8, 0, 0), 123.69), (datetime.datetime(2008, 5, 9, 0, 0), 125.96), (datetime.datetime(2008, 5, 12, 0, 0), 124.23), (datetime.datetime(2008, 5, 13, 0, 0), 125.8), (datetime.datetime(2008, 5, 14, 0, 0), 124.22), (datetime.datetime(2008, 5, 15, 0, 0), 124.12), (datetime.datetime(2008, 5, 16, 0, 0), 126.29), (datetime.datetime(2008, 5, 19, 0, 0), 127.05), (datetime.datetime(2008, 5, 20, 0, 0), 129.07), (datetime.datetime(2008, 5, 21, 0, 0), 133.17), (datetime.datetime(2008, 5, 22, 0, 0), 130.81), (datetime.datetime(2008, 5, 23, 0, 0), 132.19), (datetime.datetime(2008, 5, 27, 0, 0), 128.85), (datetime.datetime(2008, 5, 28, 0, 0), 131.03), (datetime.datetime(2008, 5, 29, 0, 0), 126.62), (datetime.datetime(2008, 5, 30, 0, 0), 127.35), (datetime.datetime(2008, 6, 2, 0, 0), 127.76), (datetime.datetime(2008, 6, 3, 0, 0), 124.31), (datetime.datetime(2008, 6, 4, 0, 0), 122.3), (datetime.datetime(2008, 6, 5, 0, 0), 127.79), (datetime.datetime(2008, 6, 6, 0, 0), 138.54), (datetime.datetime(2008, 6, 9, 0, 0), 134.35), (datetime.datetime(2008, 6, 10, 0, 0), 131.31), (datetime.datetime(2008, 6, 11, 0, 0), 136.38), (datetime.datetime(2008, 6, 12, 0, 0), 136.74), (datetime.datetime(2008, 6, 13, 0, 0), 134.86), (datetime.datetime(2008, 6, 16, 0, 0), 134.61), (datetime.datetime(2008, 6, 17, 0, 0), 134.01), (datetime.datetime(2008, 6, 18, 0, 0), 136.68), (datetime.datetime(2008, 6, 19, 0, 0), 131.93), (datetime.datetime(2008, 6, 20, 0, 0), 134.62), (datetime.datetime(2008, 6, 23, 0, 0), 136.74), (datetime.datetime(2008, 6, 24, 0, 0), 137.0), (datetime.datetime(2008, 6, 25, 0, 0), 134.55), (datetime.datetime(2008, 6, 26, 0, 0), 139.64), (datetime.datetime(2008, 6, 27, 0, 0), 140.21), (datetime.datetime(2008, 6, 30, 0, 0), 140.0), (datetime.datetime(2008, 7, 1, 0, 0), 140.97), (datetime.datetime(2008, 7, 2, 0, 0), 143.57), (datetime.datetime(2008, 7, 3, 0, 0), 145.29), (datetime.datetime(2008, 7, 7, 0, 0), 141.37), (datetime.datetime(2008, 7, 8, 0, 0), 136.04), (datetime.datetime(2008, 7, 9, 0, 0), 136.05), (datetime.datetime(2008, 7, 10, 0, 0), 141.65), (datetime.datetime(2008, 7, 11, 0, 0), 145.08), (datetime.datetime(2008, 7, 14, 0, 0), 145.18), (datetime.datetime(2008, 7, 15, 0, 0), 138.74), (datetime.datetime(2008, 7, 16, 0, 0), 134.6), (datetime.datetime(2008, 7, 17, 0, 0), 129.29), (datetime.datetime(2008, 7, 18, 0, 0), 128.88), (datetime.datetime(2008, 7, 21, 0, 0), 131.04), (datetime.datetime(2008, 7, 22, 0, 0), 127.95), (datetime.datetime(2008, 7, 23, 0, 0), 124.44), (datetime.datetime(2008, 7, 24, 0, 0), 125.49), (datetime.datetime(2008, 7, 25, 0, 0), 123.26), (datetime.datetime(2008, 7, 28, 0, 0), 124.73), (datetime.datetime(2008, 7, 29, 0, 0), 122.19), (datetime.datetime(2008, 7, 30, 0, 0), 126.77), (datetime.datetime(2008, 7, 31, 0, 0), 124.08), (datetime.datetime(2008, 8, 1, 0, 0), 125.1), (datetime.datetime(2008, 8, 4, 0, 0), 121.41), (datetime.datetime(2008, 8, 5, 0, 0), 119.17), (datetime.datetime(2008, 8, 6, 0, 0), 118.58), (datetime.datetime(2008, 8, 7, 0, 0), 120.02), (datetime.datetime(2008, 8, 8, 0, 0), 115.2), (datetime.datetime(2008, 8, 11, 0, 0), 114.45), (datetime.datetime(2008, 8, 12, 0, 0), 113.01), (datetime.datetime(2008, 8, 13, 0, 0), 116.0), (datetime.datetime(2008, 8, 14, 0, 0), 115.01), (datetime.datetime(2008, 8, 15, 0, 0), 113.77), (datetime.datetime(2008, 8, 18, 0, 0), 112.87), (datetime.datetime(2008, 8, 19, 0, 0), 114.53), (datetime.datetime(2008, 8, 20, 0, 0), 114.98), (datetime.datetime(2008, 8, 21, 0, 0), 121.18), (datetime.datetime(2008, 8, 22, 0, 0), 114.59), (datetime.datetime(2008, 8, 25, 0, 0), 115.11), (datetime.datetime(2008, 8, 26, 0, 0), 116.27), (datetime.datetime(2008, 8, 27, 0, 0), 118.15), (datetime.datetime(2008, 8, 28, 0, 0), 115.59), (datetime.datetime(2008, 8, 29, 0, 0), 115.46), (datetime.datetime(2008, 9, 2, 0, 0), 109.71), (datetime.datetime(2008, 9, 3, 0, 0), 109.35), (datetime.datetime(2008, 9, 4, 0, 0), 107.89), (datetime.datetime(2008, 9, 5, 0, 0), 106.23), (datetime.datetime(2008, 9, 8, 0, 0), 106.34), (datetime.datetime(2008, 9, 9, 0, 0), 103.26), (datetime.datetime(2008, 9, 10, 0, 0), 102.58), (datetime.datetime(2008, 9, 11, 0, 0), 100.87), (datetime.datetime(2008, 9, 12, 0, 0), 101.18), (datetime.datetime(2008, 9, 15, 0, 0), 95.71), (datetime.datetime(2008, 9, 16, 0, 0), 91.15), (datetime.datetime(2008, 9, 17, 0, 0), 97.16), (datetime.datetime(2008, 9, 18, 0, 0), 97.88), (datetime.datetime(2008, 9, 19, 0, 0), 104.55), (datetime.datetime(2008, 9, 22, 0, 0), 120.92), (datetime.datetime(2008, 9, 23, 0, 0), 106.61), (datetime.datetime(2008, 9, 24, 0, 0), 105.73), (datetime.datetime(2008, 9, 25, 0, 0), 108.02), (datetime.datetime(2008, 9, 26, 0, 0), 106.89), (datetime.datetime(2008, 9, 29, 0, 0), 96.37), (datetime.datetime(2008, 9, 30, 0, 0), 100.64), (datetime.datetime(2008, 10, 1, 0, 0), 98.53), (datetime.datetime(2008, 10, 2, 0, 0), 93.97), (datetime.datetime(2008, 10, 3, 0, 0), 93.88), (datetime.datetime(2008, 10, 6, 0, 0), 87.81), (datetime.datetime(2008, 10, 7, 0, 0), 90.06), (datetime.datetime(2008, 10, 8, 0, 0), 88.95), (datetime.datetime(2008, 10, 9, 0, 0), 86.59), (datetime.datetime(2008, 10, 10, 0, 0), 77.7), (datetime.datetime(2008, 10, 13, 0, 0), 81.19), (datetime.datetime(2008, 10, 14, 0, 0), 78.63), (datetime.datetime(2008, 10, 15, 0, 0), 74.54), (datetime.datetime(2008, 10, 16, 0, 0), 69.85), (datetime.datetime(2008, 10, 17, 0, 0), 71.85), (datetime.datetime(2008, 10, 20, 0, 0), 74.25), (datetime.datetime(2008, 10, 21, 0, 0), 70.89), (datetime.datetime(2008, 10, 22, 0, 0), 66.75), (datetime.datetime(2008, 10, 23, 0, 0), 67.84), (datetime.datetime(2008, 10, 24, 0, 0), 64.15), (datetime.datetime(2008, 10, 27, 0, 0), 63.22), (datetime.datetime(2008, 10, 28, 0, 0), 62.73), (datetime.datetime(2008, 10, 29, 0, 0), 67.5), (datetime.datetime(2008, 10, 30, 0, 0), 65.96), (datetime.datetime(2008, 10, 31, 0, 0), 67.81), (datetime.datetime(2008, 11, 3, 0, 0), 63.91), (datetime.datetime(2008, 11, 4, 0, 0), 70.53), (datetime.datetime(2008, 11, 5, 0, 0), 65.3), (datetime.datetime(2008, 11, 6, 0, 0), 60.77), (datetime.datetime(2008, 11, 7, 0, 0), 61.04), (datetime.datetime(2008, 11, 10, 0, 0), 62.41), (datetime.datetime(2008, 11, 11, 0, 0), 59.33), (datetime.datetime(2008, 11, 12, 0, 0), 56.16), (datetime.datetime(2008, 11, 13, 0, 0), 58.24), (datetime.datetime(2008, 11, 14, 0, 0), 57.04), (datetime.datetime(2008, 11, 17, 0, 0), 54.95), (datetime.datetime(2008, 11, 18, 0, 0), 54.39), (datetime.datetime(2008, 11, 19, 0, 0), 53.62), (datetime.datetime(2008, 11, 20, 0, 0), 49.62), (datetime.datetime(2008, 11, 21, 0, 0), 49.93), (datetime.datetime(2008, 11, 24, 0, 0), 54.5), (datetime.datetime(2008, 11, 25, 0, 0), 50.77), (datetime.datetime(2008, 11, 26, 0, 0), 54.44), (datetime.datetime(2008, 11, 28, 0, 0), 54.43), (datetime.datetime(2008, 12, 1, 0, 0), 49.28), (datetime.datetime(2008, 12, 2, 0, 0), 46.96), (datetime.datetime(2008, 12, 3, 0, 0), 46.79), (datetime.datetime(2008, 12, 4, 0, 0), 43.67), (datetime.datetime(2008, 12, 5, 0, 0), 40.81), (datetime.datetime(2008, 12, 8, 0, 0), 43.71), (datetime.datetime(2008, 12, 9, 0, 0), 42.07), (datetime.datetime(2008, 12, 10, 0, 0), 43.52), (datetime.datetime(2008, 12, 11, 0, 0), 47.98), (datetime.datetime(2008, 12, 12, 0, 0), 46.28), (datetime.datetime(2008, 12, 15, 0, 0), 44.51), (datetime.datetime(2008, 12, 16, 0, 0), 43.6), (datetime.datetime(2008, 12, 17, 0, 0), 40.06), (datetime.datetime(2008, 12, 18, 0, 0), 36.22), (datetime.datetime(2008, 12, 19, 0, 0), 33.87), (datetime.datetime(2008, 12, 22, 0, 0), 39.91), (datetime.datetime(2008, 12, 23, 0, 0), 38.98), (datetime.datetime(2008, 12, 24, 0, 0), 35.35), (datetime.datetime(2008, 12, 26, 0, 0), 37.71), (datetime.datetime(2008, 12, 29, 0, 0), 40.02), (datetime.datetime(2008, 12, 30, 0, 0), 39.03), (datetime.datetime(2008, 12, 31, 0, 0), 44.6), (datetime.datetime(2009, 1, 2, 0, 0), 46.34), (datetime.datetime(2009, 1, 5, 0, 0), 48.81), (datetime.datetime(2009, 1, 6, 0, 0), 48.58), (datetime.datetime(2009, 1, 7, 0, 0), 42.63), (datetime.datetime(2009, 1, 8, 0, 0), 41.7), (datetime.datetime(2009, 1, 9, 0, 0), 40.83), (datetime.datetime(2009, 1, 12, 0, 0), 37.59), (datetime.datetime(2009, 1, 13, 0, 0), 37.78), (datetime.datetime(2009, 1, 14, 0, 0), 37.28), (datetime.datetime(2009, 1, 15, 0, 0), 35.4), (datetime.datetime(2009, 1, 16, 0, 0), 36.51), (datetime.datetime(2009, 1, 20, 0, 0), 38.74), (datetime.datetime(2009, 1, 21, 0, 0), 43.55), (datetime.datetime(2009, 1, 22, 0, 0), 43.67), (datetime.datetime(2009, 1, 23, 0, 0), 46.47), (datetime.datetime(2009, 1, 26, 0, 0), 45.73), (datetime.datetime(2009, 1, 27, 0, 0), 41.58), (datetime.datetime(2009, 1, 28, 0, 0), 42.16), (datetime.datetime(2009, 1, 29, 0, 0), 41.44), (datetime.datetime(2009, 1, 30, 0, 0), 41.68), (datetime.datetime(2009, 2, 2, 0, 0), 40.08), (datetime.datetime(2009, 2, 3, 0, 0), 40.78), (datetime.datetime(2009, 2, 4, 0, 0), 40.32), (datetime.datetime(2009, 2, 5, 0, 0), 41.17), (datetime.datetime(2009, 2, 6, 0, 0), 40.17), (datetime.datetime(2009, 2, 9, 0, 0), 39.56), (datetime.datetime(2009, 2, 10, 0, 0), 37.55), (datetime.datetime(2009, 2, 11, 0, 0), 35.94), (datetime.datetime(2009, 2, 12, 0, 0), 33.98), (datetime.datetime(2009, 2, 13, 0, 0), 37.51), (datetime.datetime(2009, 2, 17, 0, 0), 34.93), (datetime.datetime(2009, 2, 18, 0, 0), 34.62), (datetime.datetime(2009, 2, 19, 0, 0), 39.48), (datetime.datetime(2009, 2, 20, 0, 0), 38.94), (datetime.datetime(2009, 2, 23, 0, 0), 38.44), (datetime.datetime(2009, 2, 24, 0, 0), 39.96), (datetime.datetime(2009, 2, 25, 0, 0), 42.5), (datetime.datetime(2009, 2, 26, 0, 0), 45.22), (datetime.datetime(2009, 2, 27, 0, 0), 44.76), (datetime.datetime(2009, 3, 2, 0, 0), 40.15), (datetime.datetime(2009, 3, 3, 0, 0), 41.65), (datetime.datetime(2009, 3, 4, 0, 0), 45.38), (datetime.datetime(2009, 3, 5, 0, 0), 43.61), (datetime.datetime(2009, 3, 6, 0, 0), 45.52), (datetime.datetime(2009, 3, 9, 0, 0), 47.07), (datetime.datetime(2009, 3, 10, 0, 0), 45.71), (datetime.datetime(2009, 3, 11, 0, 0), 42.33), (datetime.datetime(2009, 3, 12, 0, 0), 47.03), (datetime.datetime(2009, 3, 13, 0, 0), 46.25), (datetime.datetime(2009, 3, 16, 0, 0), 47.35), (datetime.datetime(2009, 3, 17, 0, 0), 49.16), (datetime.datetime(2009, 3, 18, 0, 0), 48.14), (datetime.datetime(2009, 3, 19, 0, 0), 51.61), (datetime.datetime(2009, 3, 20, 0, 0), 51.06), (datetime.datetime(2009, 3, 23, 0, 0), 53.8), (datetime.datetime(2009, 3, 24, 0, 0), 53.98), (datetime.datetime(2009, 3, 25, 0, 0), 52.77), (datetime.datetime(2009, 3, 26, 0, 0), 54.34), (datetime.datetime(2009, 3, 27, 0, 0), 52.38), (datetime.datetime(2009, 3, 30, 0, 0), 48.41), (datetime.datetime(2009, 3, 31, 0, 0), 49.66), (datetime.datetime(2009, 4, 1, 0, 0), 48.39), (datetime.datetime(2009, 4, 2, 0, 0), 52.64), (datetime.datetime(2009, 4, 3, 0, 0), 52.51), (datetime.datetime(2009, 4, 6, 0, 0), 51.05), (datetime.datetime(2009, 4, 7, 0, 0), 49.15), (datetime.datetime(2009, 4, 8, 0, 0), 49.38), (datetime.datetime(2009, 4, 9, 0, 0), 52.24), (datetime.datetime(2009, 4, 13, 0, 0), 50.05), (datetime.datetime(2009, 4, 14, 0, 0), 49.41), (datetime.datetime(2009, 4, 15, 0, 0), 49.25), (datetime.datetime(2009, 4, 16, 0, 0), 49.98), (datetime.datetime(2009, 4, 17, 0, 0), 50.33), (datetime.datetime(2009, 4, 20, 0, 0), 45.88), (datetime.datetime(2009, 4, 21, 0, 0), 46.51), (datetime.datetime(2009, 4, 22, 0, 0), 48.85), (datetime.datetime(2009, 4, 23, 0, 0), 49.62), (datetime.datetime(2009, 4, 24, 0, 0), 51.55), (datetime.datetime(2009, 4, 27, 0, 0), 50.14), (datetime.datetime(2009, 4, 28, 0, 0), 49.92), (datetime.datetime(2009, 4, 29, 0, 0), 50.97), (datetime.datetime(2009, 4, 30, 0, 0), 51.12), (datetime.datetime(2009, 5, 1, 0, 0), 53.2), (datetime.datetime(2009, 5, 4, 0, 0), 54.47), (datetime.datetime(2009, 5, 5, 0, 0), 53.84), (datetime.datetime(2009, 5, 6, 0, 0), 56.34), (datetime.datetime(2009, 5, 7, 0, 0), 56.71), (datetime.datetime(2009, 5, 8, 0, 0), 58.63), (datetime.datetime(2009, 5, 11, 0, 0), 58.5), (datetime.datetime(2009, 5, 12, 0, 0), 58.85), (datetime.datetime(2009, 5, 13, 0, 0), 58.02), (datetime.datetime(2009, 5, 14, 0, 0), 58.62), (datetime.datetime(2009, 5, 15, 0, 0), 56.34), (datetime.datetime(2009, 5, 18, 0, 0), 59.03), (datetime.datetime(2009, 5, 19, 0, 0), 59.65), (datetime.datetime(2009, 5, 20, 0, 0), 62.04), (datetime.datetime(2009, 5, 21, 0, 0), 61.05), (datetime.datetime(2009, 5, 22, 0, 0), 61.67), (datetime.datetime(2009, 5, 26, 0, 0), 62.45), (datetime.datetime(2009, 5, 27, 0, 0), 63.45), (datetime.datetime(2009, 5, 28, 0, 0), 65.08), (datetime.datetime(2009, 5, 29, 0, 0), 66.31), (datetime.datetime(2009, 6, 1, 0, 0), 68.58), (datetime.datetime(2009, 6, 2, 0, 0), 68.55), (datetime.datetime(2009, 6, 3, 0, 0), 66.12), (datetime.datetime(2009, 6, 4, 0, 0), 68.81), (datetime.datetime(2009, 6, 5, 0, 0), 68.44), (datetime.datetime(2009, 6, 8, 0, 0), 68.09), (datetime.datetime(2009, 6, 9, 0, 0), 70.01), (datetime.datetime(2009, 6, 10, 0, 0), 71.33), (datetime.datetime(2009, 6, 11, 0, 0), 72.68), (datetime.datetime(2009, 6, 12, 0, 0), 72.04), (datetime.datetime(2009, 6, 15, 0, 0), 70.62), (datetime.datetime(2009, 6, 16, 0, 0), 70.47), (datetime.datetime(2009, 6, 17, 0, 0), 71.03), (datetime.datetime(2009, 6, 18, 0, 0), 71.37), (datetime.datetime(2009, 6, 19, 0, 0), 69.55), (datetime.datetime(2009, 6, 22, 0, 0), 66.93), (datetime.datetime(2009, 6, 23, 0, 0), 69.24), (datetime.datetime(2009, 6, 24, 0, 0), 68.67), (datetime.datetime(2009, 6, 25, 0, 0), 70.23), (datetime.datetime(2009, 6, 26, 0, 0), 69.16), (datetime.datetime(2009, 6, 29, 0, 0), 71.49), (datetime.datetime(2009, 6, 30, 0, 0), 69.89), (datetime.datetime(2009, 7, 1, 0, 0), 69.31), (datetime.datetime(2009, 7, 2, 0, 0), 66.73), (datetime.datetime(2009, 7, 6, 0, 0), 64.05), (datetime.datetime(2009, 7, 7, 0, 0), 62.93), (datetime.datetime(2009, 7, 8, 0, 0), 60.14), (datetime.datetime(2009, 7, 9, 0, 0), 60.41), (datetime.datetime(2009, 7, 10, 0, 0), 59.89), (datetime.datetime(2009, 7, 13, 0, 0), 59.69), (datetime.datetime(2009, 7, 14, 0, 0), 59.52), (datetime.datetime(2009, 7, 15, 0, 0), 61.54), (datetime.datetime(2009, 7, 16, 0, 0), 62.02), (datetime.datetime(2009, 7, 17, 0, 0), 63.56), (datetime.datetime(2009, 7, 20, 0, 0), 63.98), (datetime.datetime(2009, 7, 21, 0, 0), 64.72), (datetime.datetime(2009, 7, 22, 0, 0), 65.4), (datetime.datetime(2009, 7, 23, 0, 0), 67.16), (datetime.datetime(2009, 7, 24, 0, 0), 68.05), (datetime.datetime(2009, 7, 27, 0, 0), 68.38), (datetime.datetime(2009, 7, 28, 0, 0), 67.23), (datetime.datetime(2009, 7, 29, 0, 0), 63.35), (datetime.datetime(2009, 7, 30, 0, 0), 66.94), (datetime.datetime(2009, 7, 31, 0, 0), 69.45), (datetime.datetime(2009, 8, 3, 0, 0), 71.58), (datetime.datetime(2009, 8, 4, 0, 0), 71.42), (datetime.datetime(2009, 8, 5, 0, 0), 71.97), (datetime.datetime(2009, 8, 6, 0, 0), 71.94), (datetime.datetime(2009, 8, 7, 0, 0), 70.93), (datetime.datetime(2009, 8, 10, 0, 0), 70.6), (datetime.datetime(2009, 8, 11, 0, 0), 69.45), (datetime.datetime(2009, 8, 12, 0, 0), 70.16), (datetime.datetime(2009, 8, 13, 0, 0), 70.52), (datetime.datetime(2009, 8, 14, 0, 0), 67.51), (datetime.datetime(2009, 8, 17, 0, 0), 66.75), (datetime.datetime(2009, 8, 18, 0, 0), 69.19), (datetime.datetime(2009, 8, 19, 0, 0), 72.42), (datetime.datetime(2009, 8, 20, 0, 0), 72.54), (datetime.datetime(2009, 8, 21, 0, 0), 73.89), (datetime.datetime(2009, 8, 24, 0, 0), 74.37), (datetime.datetime(2009, 8, 25, 0, 0), 72.05), (datetime.datetime(2009, 8, 26, 0, 0), 71.43), (datetime.datetime(2009, 8, 27, 0, 0), 72.49), (datetime.datetime(2009, 8, 28, 0, 0), 72.74), (datetime.datetime(2009, 8, 31, 0, 0), 69.96), (datetime.datetime(2009, 9, 1, 0, 0), 68.05), (datetime.datetime(2009, 9, 2, 0, 0), 68.05), (datetime.datetime(2009, 9, 3, 0, 0), 67.96), (datetime.datetime(2009, 9, 4, 0, 0), 68.02), (datetime.datetime(2009, 9, 8, 0, 0), 71.1), (datetime.datetime(2009, 9, 9, 0, 0), 71.31), (datetime.datetime(2009, 9, 10, 0, 0), 71.94), (datetime.datetime(2009, 9, 11, 0, 0), 69.29), (datetime.datetime(2009, 9, 14, 0, 0), 68.86), (datetime.datetime(2009, 9, 15, 0, 0), 70.93), (datetime.datetime(2009, 9, 16, 0, 0), 72.51), (datetime.datetime(2009, 9, 17, 0, 0), 72.47), (datetime.datetime(2009, 9, 18, 0, 0), 72.04), (datetime.datetime(2009, 9, 21, 0, 0), 69.71), (datetime.datetime(2009, 9, 22, 0, 0), 71.55), (datetime.datetime(2009, 9, 23, 0, 0), 68.97), (datetime.datetime(2009, 9, 24, 0, 0), 65.89), (datetime.datetime(2009, 9, 25, 0, 0), 66.02), (datetime.datetime(2009, 9, 28, 0, 0), 66.84), (datetime.datetime(2009, 9, 29, 0, 0), 66.71), (datetime.datetime(2009, 9, 30, 0, 0), 70.61), (datetime.datetime(2009, 10, 1, 0, 0), 70.82), (datetime.datetime(2009, 10, 2, 0, 0), 69.95), (datetime.datetime(2009, 10, 5, 0, 0), 70.41), (datetime.datetime(2009, 10, 6, 0, 0), 70.88), (datetime.datetime(2009, 10, 7, 0, 0), 69.57), (datetime.datetime(2009, 10, 8, 0, 0), 71.69), (datetime.datetime(2009, 10, 9, 0, 0), 71.77), (datetime.datetime(2009, 10, 12, 0, 0), 73.27), (datetime.datetime(2009, 10, 13, 0, 0), 74.15), (datetime.datetime(2009, 10, 14, 0, 0), 75.18), (datetime.datetime(2009, 10, 15, 0, 0), 77.58), (datetime.datetime(2009, 10, 16, 0, 0), 78.53), (datetime.datetime(2009, 10, 19, 0, 0), 79.61), (datetime.datetime(2009, 10, 20, 0, 0), 79.09), (datetime.datetime(2009, 10, 21, 0, 0), 81.37), (datetime.datetime(2009, 10, 22, 0, 0), 81.19), (datetime.datetime(2009, 10, 23, 0, 0), 80.5), (datetime.datetime(2009, 10, 26, 0, 0), 78.68), (datetime.datetime(2009, 10, 27, 0, 0), 79.55), (datetime.datetime(2009, 10, 28, 0, 0), 77.46), (datetime.datetime(2009, 10, 29, 0, 0), 79.87), (datetime.datetime(2009, 10, 30, 0, 0), 77.0), (datetime.datetime(2009, 11, 2, 0, 0), 78.13), (datetime.datetime(2009, 11, 3, 0, 0), 79.6), (datetime.datetime(2009, 11, 4, 0, 0), 80.4), (datetime.datetime(2009, 11, 5, 0, 0), 79.62), (datetime.datetime(2009, 11, 6, 0, 0), 77.43), (datetime.datetime(2009, 11, 9, 0, 0), 79.43), (datetime.datetime(2009, 11, 10, 0, 0), 79.05), (datetime.datetime(2009, 11, 11, 0, 0), 79.28), (datetime.datetime(2009, 11, 12, 0, 0), 76.94), (datetime.datetime(2009, 11, 13, 0, 0), 76.35), (datetime.datetime(2009, 11, 16, 0, 0), 78.9), (datetime.datetime(2009, 11, 17, 0, 0), 79.14), (datetime.datetime(2009, 11, 18, 0, 0), 79.58), (datetime.datetime(2009, 11, 19, 0, 0), 77.46), (datetime.datetime(2009, 11, 20, 0, 0), 76.72), (datetime.datetime(2009, 11, 23, 0, 0), 77.56), (datetime.datetime(2009, 11, 24, 0, 0), 76.02), (datetime.datetime(2009, 11, 25, 0, 0), 77.96), (datetime.datetime(2009, 11, 27, 0, 0), 76.05), (datetime.datetime(2009, 11, 30, 0, 0), 77.28), (datetime.datetime(2009, 12, 1, 0, 0), 78.37), (datetime.datetime(2009, 12, 2, 0, 0), 76.6), (datetime.datetime(2009, 12, 3, 0, 0), 76.46), (datetime.datetime(2009, 12, 4, 0, 0), 75.47), (datetime.datetime(2009, 12, 7, 0, 0), 73.93), (datetime.datetime(2009, 12, 8, 0, 0), 72.62), (datetime.datetime(2009, 12, 9, 0, 0), 70.67), (datetime.datetime(2009, 12, 10, 0, 0), 70.54), (datetime.datetime(2009, 12, 11, 0, 0), 69.87), (datetime.datetime(2009, 12, 14, 0, 0), 69.51), (datetime.datetime(2009, 12, 15, 0, 0), 70.69), (datetime.datetime(2009, 12, 16, 0, 0), 72.66), (datetime.datetime(2009, 12, 17, 0, 0), 72.65), (datetime.datetime(2009, 12, 18, 0, 0), 73.36), (datetime.datetime(2009, 12, 21, 0, 0), 72.47), (datetime.datetime(2009, 12, 22, 0, 0), 74.4), (datetime.datetime(2009, 12, 23, 0, 0), 76.67), (datetime.datetime(2009, 12, 24, 0, 0), 78.05), (datetime.datetime(2009, 12, 28, 0, 0), 78.77), (datetime.datetime(2009, 12, 29, 0, 0), 78.87), (datetime.datetime(2009, 12, 30, 0, 0), 79.28), (datetime.datetime(2009, 12, 31, 0, 0), 79.36), (datetime.datetime(2010, 1, 4, 0, 0), 81.51), (datetime.datetime(2010, 1, 5, 0, 0), 81.77), (datetime.datetime(2010, 1, 6, 0, 0), 83.18), (datetime.datetime(2010, 1, 7, 0, 0), 82.66), (datetime.datetime(2010, 1, 8, 0, 0), 82.75), (datetime.datetime(2010, 1, 11, 0, 0), 82.52), (datetime.datetime(2010, 1, 12, 0, 0), 80.79), (datetime.datetime(2010, 1, 13, 0, 0), 79.65), (datetime.datetime(2010, 1, 14, 0, 0), 79.39), (datetime.datetime(2010, 1, 15, 0, 0), 78.0), (datetime.datetime(2010, 1, 19, 0, 0), 79.02), (datetime.datetime(2010, 1, 20, 0, 0), 77.62), (datetime.datetime(2010, 1, 21, 0, 0), 76.08), (datetime.datetime(2010, 1, 22, 0, 0), 74.54), (datetime.datetime(2010, 1, 25, 0, 0), 75.26), (datetime.datetime(2010, 1, 26, 0, 0), 74.71), (datetime.datetime(2010, 1, 27, 0, 0), 73.67), (datetime.datetime(2010, 1, 28, 0, 0), 73.64), (datetime.datetime(2010, 1, 29, 0, 0), 72.89), (datetime.datetime(2010, 2, 1, 0, 0), 74.43), (datetime.datetime(2010, 2, 2, 0, 0), 77.23), (datetime.datetime(2010, 2, 3, 0, 0), 76.98), (datetime.datetime(2010, 2, 4, 0, 0), 73.14), (datetime.datetime(2010, 2, 5, 0, 0), 71.19), (datetime.datetime(2010, 2, 8, 0, 0), 71.89), (datetime.datetime(2010, 2, 9, 0, 0), 73.75), (datetime.datetime(2010, 2, 10, 0, 0), 74.52), (datetime.datetime(2010, 2, 11, 0, 0), 75.28), (datetime.datetime(2010, 2, 12, 0, 0), 74.13), (datetime.datetime(2010, 2, 16, 0, 0), 77.01), (datetime.datetime(2010, 2, 17, 0, 0), 77.33), (datetime.datetime(2010, 2, 18, 0, 0), 79.06), (datetime.datetime(2010, 2, 19, 0, 0), 79.81), (datetime.datetime(2010, 2, 22, 0, 0), 80.16), (datetime.datetime(2010, 2, 23, 0, 0), 78.86), (datetime.datetime(2010, 2, 24, 0, 0), 80.0), (datetime.datetime(2010, 2, 25, 0, 0), 78.17), (datetime.datetime(2010, 2, 26, 0, 0), 79.66), (datetime.datetime(2010, 3, 1, 0, 0), 78.7), (datetime.datetime(2010, 3, 2, 0, 0), 79.68), (datetime.datetime(2010, 3, 3, 0, 0), 80.87), (datetime.datetime(2010, 3, 4, 0, 0), 80.21), (datetime.datetime(2010, 3, 5, 0, 0), 81.5), (datetime.datetime(2010, 3, 8, 0, 0), 81.87), (datetime.datetime(2010, 3, 9, 0, 0), 81.49), (datetime.datetime(2010, 3, 10, 0, 0), 82.09), (datetime.datetime(2010, 3, 11, 0, 0), 82.11), (datetime.datetime(2010, 3, 12, 0, 0), 81.24), (datetime.datetime(2010, 3, 15, 0, 0), 79.8), (datetime.datetime(2010, 3, 16, 0, 0), 81.7), (datetime.datetime(2010, 3, 17, 0, 0), 82.93), (datetime.datetime(2010, 3, 18, 0, 0), 82.2), (datetime.datetime(2010, 3, 19, 0, 0), 80.68), (datetime.datetime(2010, 3, 22, 0, 0), 81.25), (datetime.datetime(2010, 3, 23, 0, 0), 81.91), (datetime.datetime(2010, 3, 24, 0, 0), 80.61), (datetime.datetime(2010, 3, 25, 0, 0), 80.53), (datetime.datetime(2010, 3, 26, 0, 0), 80.0), (datetime.datetime(2010, 3, 29, 0, 0), 82.17), (datetime.datetime(2010, 3, 30, 0, 0), 82.37), (datetime.datetime(2010, 3, 31, 0, 0), 83.76), (datetime.datetime(2010, 4, 1, 0, 0), 84.87), (datetime.datetime(2010, 4, 5, 0, 0), 86.62), (datetime.datetime(2010, 4, 6, 0, 0), 86.84), (datetime.datetime(2010, 4, 7, 0, 0), 85.88), (datetime.datetime(2010, 4, 8, 0, 0), 85.39), (datetime.datetime(2010, 4, 9, 0, 0), 84.92), (datetime.datetime(2010, 4, 12, 0, 0), 84.34), (datetime.datetime(2010, 4, 13, 0, 0), 84.05), (datetime.datetime(2010, 4, 14, 0, 0), 85.84), (datetime.datetime(2010, 4, 15, 0, 0), 85.51), (datetime.datetime(2010, 4, 16, 0, 0), 83.24), (datetime.datetime(2010, 4, 19, 0, 0), 81.45), (datetime.datetime(2010, 4, 20, 0, 0), 83.45), (datetime.datetime(2010, 4, 21, 0, 0), 83.68), (datetime.datetime(2010, 4, 22, 0, 0), 83.7), (datetime.datetime(2010, 4, 23, 0, 0), 85.12), (datetime.datetime(2010, 4, 26, 0, 0), 84.2), (datetime.datetime(2010, 4, 27, 0, 0), 82.44), (datetime.datetime(2010, 4, 28, 0, 0), 83.22), (datetime.datetime(2010, 4, 29, 0, 0), 85.17), (datetime.datetime(2010, 4, 30, 0, 0), 86.15), (datetime.datetime(2010, 5, 3, 0, 0), 86.19), (datetime.datetime(2010, 5, 4, 0, 0), 82.74), (datetime.datetime(2010, 5, 5, 0, 0), 79.97), (datetime.datetime(2010, 5, 6, 0, 0), 77.11), (datetime.datetime(2010, 5, 7, 0, 0), 75.11), (datetime.datetime(2010, 5, 10, 0, 0), 76.8), (datetime.datetime(2010, 5, 11, 0, 0), 76.37), (datetime.datetime(2010, 5, 12, 0, 0), 75.65), (datetime.datetime(2010, 5, 13, 0, 0), 74.4), (datetime.datetime(2010, 5, 14, 0, 0), 71.61), (datetime.datetime(2010, 5, 17, 0, 0), 70.08), (datetime.datetime(2010, 5, 18, 0, 0), 69.41), (datetime.datetime(2010, 5, 19, 0, 0), 69.87), (datetime.datetime(2010, 5, 20, 0, 0), 68.01), (datetime.datetime(2010, 5, 21, 0, 0), 70.04), (datetime.datetime(2010, 5, 24, 0, 0), 70.21), (datetime.datetime(2010, 5, 25, 0, 0), 68.75), (datetime.datetime(2010, 5, 26, 0, 0), 71.51), (datetime.datetime(2010, 5, 27, 0, 0), 74.55), (datetime.datetime(2010, 5, 28, 0, 0), 73.97), (datetime.datetime(2010, 6, 1, 0, 0), 72.58), (datetime.datetime(2010, 6, 2, 0, 0), 72.86), (datetime.datetime(2010, 6, 3, 0, 0), 74.61), (datetime.datetime(2010, 6, 4, 0, 0), 71.51), (datetime.datetime(2010, 6, 7, 0, 0), 71.44), (datetime.datetime(2010, 6, 8, 0, 0), 71.99), (datetime.datetime(2010, 6, 9, 0, 0), 74.38), (datetime.datetime(2010, 6, 10, 0, 0), 75.48), (datetime.datetime(2010, 6, 11, 0, 0), 73.78), (datetime.datetime(2010, 6, 14, 0, 0), 75.12), (datetime.datetime(2010, 6, 15, 0, 0), 76.94), (datetime.datetime(2010, 6, 16, 0, 0), 77.67), (datetime.datetime(2010, 6, 17, 0, 0), 76.79), (datetime.datetime(2010, 6, 18, 0, 0), 77.18), (datetime.datetime(2010, 6, 21, 0, 0), 77.82), (datetime.datetime(2010, 6, 22, 0, 0), 77.21), (datetime.datetime(2010, 6, 23, 0, 0), 76.35), (datetime.datetime(2010, 6, 24, 0, 0), 76.51), (datetime.datetime(2010, 6, 25, 0, 0), 78.86), (datetime.datetime(2010, 6, 28, 0, 0), 78.25), (datetime.datetime(2010, 6, 29, 0, 0), 75.94), (datetime.datetime(2010, 6, 30, 0, 0), 75.63), (datetime.datetime(2010, 7, 1, 0, 0), 72.95), (datetime.datetime(2010, 7, 2, 0, 0), 72.14), (datetime.datetime(2010, 7, 6, 0, 0), 71.98), (datetime.datetime(2010, 7, 7, 0, 0), 74.07), (datetime.datetime(2010, 7, 8, 0, 0), 75.44), (datetime.datetime(2010, 7, 9, 0, 0), 76.09), (datetime.datetime(2010, 7, 12, 0, 0), 74.95), (datetime.datetime(2010, 7, 13, 0, 0), 77.15), (datetime.datetime(2010, 7, 14, 0, 0), 77.04), (datetime.datetime(2010, 7, 15, 0, 0), 76.62), (datetime.datetime(2010, 7, 16, 0, 0), 76.01), (datetime.datetime(2010, 7, 19, 0, 0), 76.54), (datetime.datetime(2010, 7, 20, 0, 0), 77.44), (datetime.datetime(2010, 7, 21, 0, 0), 76.56), (datetime.datetime(2010, 7, 22, 0, 0), 79.3), (datetime.datetime(2010, 7, 23, 0, 0), 78.98), (datetime.datetime(2010, 7, 26, 0, 0), 78.98), (datetime.datetime(2010, 7, 27, 0, 0), 77.5), (datetime.datetime(2010, 7, 28, 0, 0), 76.99), (datetime.datetime(2010, 7, 29, 0, 0), 78.36), (datetime.datetime(2010, 7, 30, 0, 0), 78.95), (datetime.datetime(2010, 8, 2, 0, 0), 81.34), (datetime.datetime(2010, 8, 3, 0, 0), 82.55), (datetime.datetime(2010, 8, 4, 0, 0), 82.47), (datetime.datetime(2010, 8, 5, 0, 0), 82.01), (datetime.datetime(2010, 8, 6, 0, 0), 80.7), (datetime.datetime(2010, 8, 9, 0, 0), 81.48), (datetime.datetime(2010, 8, 10, 0, 0), 80.25), (datetime.datetime(2010, 8, 11, 0, 0), 78.02), (datetime.datetime(2010, 8, 12, 0, 0), 75.74), (datetime.datetime(2010, 8, 13, 0, 0), 75.39), (datetime.datetime(2010, 8, 16, 0, 0), 75.24), (datetime.datetime(2010, 8, 17, 0, 0), 75.77), (datetime.datetime(2010, 8, 18, 0, 0), 75.42), (datetime.datetime(2010, 8, 19, 0, 0), 74.43), (datetime.datetime(2010, 8, 20, 0, 0), 73.46), (datetime.datetime(2010, 8, 23, 0, 0), 73.1), (datetime.datetime(2010, 8, 24, 0, 0), 71.63), (datetime.datetime(2010, 8, 25, 0, 0), 72.52), (datetime.datetime(2010, 8, 26, 0, 0), 73.36), (datetime.datetime(2010, 8, 27, 0, 0), 75.17), (datetime.datetime(2010, 8, 30, 0, 0), 74.7), (datetime.datetime(2010, 8, 31, 0, 0), 71.92), (datetime.datetime(2010, 9, 1, 0, 0), 73.91), (datetime.datetime(2010, 9, 2, 0, 0), 75.02), (datetime.datetime(2010, 9, 3, 0, 0), 74.6), (datetime.datetime(2010, 9, 7, 0, 0), 74.09), (datetime.datetime(2010, 9, 8, 0, 0), 74.67), (datetime.datetime(2010, 9, 9, 0, 0), 74.25), (datetime.datetime(2010, 9, 10, 0, 0), 76.45), (datetime.datetime(2010, 9, 13, 0, 0), 77.19), (datetime.datetime(2010, 9, 14, 0, 0), 76.8), (datetime.datetime(2010, 9, 15, 0, 0), 76.02), (datetime.datetime(2010, 9, 16, 0, 0), 74.57), (datetime.datetime(2010, 9, 17, 0, 0), 73.66), (datetime.datetime(2010, 9, 20, 0, 0), 74.86), (datetime.datetime(2010, 9, 21, 0, 0), 73.52), (datetime.datetime(2010, 9, 22, 0, 0), 74.71), (datetime.datetime(2010, 9, 23, 0, 0), 75.18), (datetime.datetime(2010, 9, 24, 0, 0), 76.49), (datetime.datetime(2010, 9, 27, 0, 0), 76.52), (datetime.datetime(2010, 9, 28, 0, 0), 76.18), (datetime.datetime(2010, 9, 29, 0, 0), 77.86), (datetime.datetime(2010, 9, 30, 0, 0), 79.97), (datetime.datetime(2010, 10, 1, 0, 0), 81.58), (datetime.datetime(2010, 10, 4, 0, 0), 81.47), (datetime.datetime(2010, 10, 5, 0, 0), 82.82), (datetime.datetime(2010, 10, 6, 0, 0), 83.23), (datetime.datetime(2010, 10, 7, 0, 0), 81.67), (datetime.datetime(2010, 10, 8, 0, 0), 82.66), (datetime.datetime(2010, 10, 11, 0, 0), 82.21), (datetime.datetime(2010, 10, 12, 0, 0), 81.67), (datetime.datetime(2010, 10, 13, 0, 0), 83.01), (datetime.datetime(2010, 10, 14, 0, 0), 82.69), (datetime.datetime(2010, 10, 15, 0, 0), 81.25), (datetime.datetime(2010, 10, 18, 0, 0), 83.08), (datetime.datetime(2010, 10, 19, 0, 0), 79.49), (datetime.datetime(2010, 10, 20, 0, 0), 81.77), (datetime.datetime(2010, 10, 21, 0, 0), 80.56), (datetime.datetime(2010, 10, 22, 0, 0), 81.69), (datetime.datetime(2010, 10, 25, 0, 0), 82.52), (datetime.datetime(2010, 10, 26, 0, 0), 82.55), (datetime.datetime(2010, 10, 27, 0, 0), 81.94), (datetime.datetime(2010, 10, 28, 0, 0), 82.18), (datetime.datetime(2010, 10, 29, 0, 0), 81.43), (datetime.datetime(2010, 11, 1, 0, 0), 82.95), (datetime.datetime(2010, 11, 2, 0, 0), 83.9), (datetime.datetime(2010, 11, 3, 0, 0), 84.69), (datetime.datetime(2010, 11, 4, 0, 0), 86.49), (datetime.datetime(2010, 11, 5, 0, 0), 86.85), (datetime.datetime(2010, 11, 8, 0, 0), 87.06), (datetime.datetime(2010, 11, 9, 0, 0), 86.72), (datetime.datetime(2010, 11, 10, 0, 0), 87.81), (datetime.datetime(2010, 11, 11, 0, 0), 87.81), (datetime.datetime(2010, 11, 12, 0, 0), 84.88), (datetime.datetime(2010, 11, 15, 0, 0), 84.86), (datetime.datetime(2010, 11, 16, 0, 0), 82.34), (datetime.datetime(2010, 11, 17, 0, 0), 80.44), (datetime.datetime(2010, 11, 18, 0, 0), 81.85), (datetime.datetime(2010, 11, 19, 0, 0), 81.51), (datetime.datetime(2010, 11, 22, 0, 0), 81.74), (datetime.datetime(2010, 11, 23, 0, 0), 81.25), (datetime.datetime(2010, 11, 24, 0, 0), 83.86), (datetime.datetime(2010, 11, 26, 0, 0), 83.76), (datetime.datetime(2010, 11, 29, 0, 0), 85.73), (datetime.datetime(2010, 11, 30, 0, 0), 84.11), (datetime.datetime(2010, 12, 1, 0, 0), 86.75), (datetime.datetime(2010, 12, 2, 0, 0), 88.0), (datetime.datetime(2010, 12, 3, 0, 0), 89.19), (datetime.datetime(2010, 12, 6, 0, 0), 89.38), (datetime.datetime(2010, 12, 7, 0, 0), 88.69), (datetime.datetime(2010, 12, 8, 0, 0), 88.28), (datetime.datetime(2010, 12, 9, 0, 0), 88.37), (datetime.datetime(2010, 12, 10, 0, 0), 87.79), (datetime.datetime(2010, 12, 13, 0, 0), 88.61), (datetime.datetime(2010, 12, 14, 0, 0), 88.28), (datetime.datetime(2010, 12, 15, 0, 0), 88.62), (datetime.datetime(2010, 12, 16, 0, 0), 87.7), (datetime.datetime(2010, 12, 17, 0, 0), 88.02), (datetime.datetime(2010, 12, 20, 0, 0), 88.81), (datetime.datetime(2010, 12, 21, 0, 0), 89.82), (datetime.datetime(2010, 12, 22, 0, 0), 90.48), (datetime.datetime(2010, 12, 23, 0, 0), 91.51), (datetime.datetime(2010, 12, 27, 0, 0), 91.0), (datetime.datetime(2010, 12, 28, 0, 0), 91.49), (datetime.datetime(2010, 12, 29, 0, 0), 91.12), (datetime.datetime(2010, 12, 30, 0, 0), 89.84), (datetime.datetime(2010, 12, 31, 0, 0), 91.38), (datetime.datetime(2011, 1, 3, 0, 0), 91.55), (datetime.datetime(2011, 1, 4, 0, 0), 89.38), (datetime.datetime(2011, 1, 5, 0, 0), 90.3), (datetime.datetime(2011, 1, 6, 0, 0), 88.38), (datetime.datetime(2011, 1, 7, 0, 0), 88.03), (datetime.datetime(2011, 1, 10, 0, 0), 89.25), (datetime.datetime(2011, 1, 11, 0, 0), 91.11), (datetime.datetime(2011, 1, 12, 0, 0), 91.86), (datetime.datetime(2011, 1, 13, 0, 0), 91.4), (datetime.datetime(2011, 1, 14, 0, 0), 91.54), (datetime.datetime(2011, 1, 18, 0, 0), 91.38), (datetime.datetime(2011, 1, 19, 0, 0), 90.86), (datetime.datetime(2011, 1, 20, 0, 0), 88.86), (datetime.datetime(2011, 1, 21, 0, 0), 89.11), (datetime.datetime(2011, 1, 24, 0, 0), 87.87), (datetime.datetime(2011, 1, 25, 0, 0), 86.19), (datetime.datetime(2011, 1, 26, 0, 0), 87.33), (datetime.datetime(2011, 1, 27, 0, 0), 85.64), (datetime.datetime(2011, 1, 28, 0, 0), 89.34), (datetime.datetime(2011, 1, 31, 0, 0), 92.19), (datetime.datetime(2011, 2, 1, 0, 0), 90.77), (datetime.datetime(2011, 2, 2, 0, 0), 90.86), (datetime.datetime(2011, 2, 3, 0, 0), 90.54), (datetime.datetime(2011, 2, 4, 0, 0), 89.03), (datetime.datetime(2011, 2, 7, 0, 0), 87.48), (datetime.datetime(2011, 2, 8, 0, 0), 86.94), (datetime.datetime(2011, 2, 9, 0, 0), 86.71), (datetime.datetime(2011, 2, 10, 0, 0), 86.73), (datetime.datetime(2011, 2, 11, 0, 0), 85.58), (datetime.datetime(2011, 2, 14, 0, 0), 84.81), (datetime.datetime(2011, 2, 15, 0, 0), 84.32), (datetime.datetime(2011, 2, 16, 0, 0), 84.99), (datetime.datetime(2011, 2, 17, 0, 0), 86.36), (datetime.datetime(2011, 2, 18, 0, 0), 86.2), (datetime.datetime(2011, 2, 22, 0, 0), 93.57), (datetime.datetime(2011, 2, 23, 0, 0), 98.1), (datetime.datetime(2011, 2, 24, 0, 0), 97.28), (datetime.datetime(2011, 2, 25, 0, 0), 97.88), (datetime.datetime(2011, 2, 28, 0, 0), 96.97), (datetime.datetime(2011, 3, 1, 0, 0), 99.63), (datetime.datetime(2011, 3, 2, 0, 0), 102.23), (datetime.datetime(2011, 3, 3, 0, 0), 101.91), (datetime.datetime(2011, 3, 4, 0, 0), 104.42), (datetime.datetime(2011, 3, 7, 0, 0), 105.44), (datetime.datetime(2011, 3, 8, 0, 0), 105.02), (datetime.datetime(2011, 3, 9, 0, 0), 104.38), (datetime.datetime(2011, 3, 10, 0, 0), 102.7), (datetime.datetime(2011, 3, 11, 0, 0), 101.16), (datetime.datetime(2011, 3, 14, 0, 0), 101.19), (datetime.datetime(2011, 3, 15, 0, 0), 97.18), (datetime.datetime(2011, 3, 16, 0, 0), 97.98), (datetime.datetime(2011, 3, 17, 0, 0), 101.42), (datetime.datetime(2011, 3, 18, 0, 0), 101.07), (datetime.datetime(2011, 3, 21, 0, 0), 102.33), (datetime.datetime(2011, 3, 22, 0, 0), 104.0), (datetime.datetime(2011, 3, 23, 0, 0), 105.75), (datetime.datetime(2011, 3, 24, 0, 0), 105.6), (datetime.datetime(2011, 3, 25, 0, 0), 105.4), (datetime.datetime(2011, 3, 28, 0, 0), 103.98), (datetime.datetime(2011, 3, 29, 0, 0), 104.79), (datetime.datetime(2011, 3, 30, 0, 0), 104.27), (datetime.datetime(2011, 3, 31, 0, 0), 106.72), (datetime.datetime(2011, 4, 1, 0, 0), 107.94), (datetime.datetime(2011, 4, 4, 0, 0), 108.47), (datetime.datetime(2011, 4, 5, 0, 0), 108.34), (datetime.datetime(2011, 4, 6, 0, 0), 108.83), (datetime.datetime(2011, 4, 7, 0, 0), 110.3), (datetime.datetime(2011, 4, 8, 0, 0), 112.79), (datetime.datetime(2011, 4, 11, 0, 0), 109.92), (datetime.datetime(2011, 4, 12, 0, 0), 106.25), (datetime.datetime(2011, 4, 13, 0, 0), 107.11), (datetime.datetime(2011, 4, 14, 0, 0), 108.11), (datetime.datetime(2011, 4, 15, 0, 0), 109.66), (datetime.datetime(2011, 4, 18, 0, 0), 107.12), (datetime.datetime(2011, 4, 19, 0, 0), 108.15), (datetime.datetime(2011, 4, 20, 0, 0), 111.45), (datetime.datetime(2011, 4, 21, 0, 0), 112.29), (datetime.datetime(2011, 4, 25, 0, 0), 112.28), (datetime.datetime(2011, 4, 26, 0, 0), 112.21), (datetime.datetime(2011, 4, 27, 0, 0), 112.76), (datetime.datetime(2011, 4, 28, 0, 0), 112.86), (datetime.datetime(2011, 4, 29, 0, 0), 113.93), (datetime.datetime(2011, 5, 2, 0, 0), 113.52), (datetime.datetime(2011, 5, 3, 0, 0), 111.05), (datetime.datetime(2011, 5, 4, 0, 0), 109.24), (datetime.datetime(2011, 5, 5, 0, 0), 99.8), (datetime.datetime(2011, 5, 6, 0, 0), 97.18), (datetime.datetime(2011, 5, 9, 0, 0), 102.55), (datetime.datetime(2011, 5, 10, 0, 0), 103.88), (datetime.datetime(2011, 5, 11, 0, 0), 98.21), (datetime.datetime(2011, 5, 12, 0, 0), 98.97), (datetime.datetime(2011, 5, 13, 0, 0), 99.65), (datetime.datetime(2011, 5, 16, 0, 0), 97.37), (datetime.datetime(2011, 5, 17, 0, 0), 96.91), (datetime.datetime(2011, 5, 18, 0, 0), 100.1), (datetime.datetime(2011, 5, 19, 0, 0), 98.44), (datetime.datetime(2011, 5, 20, 0, 0), 99.49), (datetime.datetime(2011, 5, 23, 0, 0), 97.7), (datetime.datetime(2011, 5, 24, 0, 0), 99.59), (datetime.datetime(2011, 5, 25, 0, 0), 101.32), (datetime.datetime(2011, 5, 26, 0, 0), 100.23), (datetime.datetime(2011, 5, 27, 0, 0), 100.59), (datetime.datetime(2011, 5, 31, 0, 0), 102.7), (datetime.datetime(2011, 6, 1, 0, 0), 100.29), (datetime.datetime(2011, 6, 2, 0, 0), 100.4), (datetime.datetime(2011, 6, 3, 0, 0), 100.22), (datetime.datetime(2011, 6, 6, 0, 0), 99.01), (datetime.datetime(2011, 6, 7, 0, 0), 99.09), (datetime.datetime(2011, 6, 8, 0, 0), 100.74), (datetime.datetime(2011, 6, 9, 0, 0), 101.93), (datetime.datetime(2011, 6, 10, 0, 0), 99.29), (datetime.datetime(2011, 6, 13, 0, 0), 97.3), (datetime.datetime(2011, 6, 14, 0, 0), 99.37), (datetime.datetime(2011, 6, 15, 0, 0), 94.81), (datetime.datetime(2011, 6, 16, 0, 0), 94.95), (datetime.datetime(2011, 6, 17, 0, 0), 93.01), (datetime.datetime(2011, 6, 20, 0, 0), 93.26), (datetime.datetime(2011, 6, 21, 0, 0), 93.4), (datetime.datetime(2011, 6, 22, 0, 0), 95.41), (datetime.datetime(2011, 6, 23, 0, 0), 91.02), (datetime.datetime(2011, 6, 24, 0, 0), 91.16), (datetime.datetime(2011, 6, 27, 0, 0), 90.61), (datetime.datetime(2011, 6, 28, 0, 0), 92.89), (datetime.datetime(2011, 6, 29, 0, 0), 94.77), (datetime.datetime(2011, 6, 30, 0, 0), 95.42), (datetime.datetime(2011, 7, 1, 0, 0), 94.94), (datetime.datetime(2011, 7, 5, 0, 0), 96.89), (datetime.datetime(2011, 7, 6, 0, 0), 96.65), (datetime.datetime(2011, 7, 7, 0, 0), 98.67), (datetime.datetime(2011, 7, 8, 0, 0), 96.2), (datetime.datetime(2011, 7, 11, 0, 0), 95.15), (datetime.datetime(2011, 7, 12, 0, 0), 97.43), (datetime.datetime(2011, 7, 13, 0, 0), 98.05), (datetime.datetime(2011, 7, 14, 0, 0), 95.69), (datetime.datetime(2011, 7, 15, 0, 0), 97.24), (datetime.datetime(2011, 7, 18, 0, 0), 95.93), (datetime.datetime(2011, 7, 19, 0, 0), 97.5), (datetime.datetime(2011, 7, 20, 0, 0), 98.14), (datetime.datetime(2011, 7, 21, 0, 0), 99.13), (datetime.datetime(2011, 7, 22, 0, 0), 99.87), (datetime.datetime(2011, 7, 25, 0, 0), 99.2), (datetime.datetime(2011, 7, 26, 0, 0), 99.59), (datetime.datetime(2011, 7, 27, 0, 0), 97.4), (datetime.datetime(2011, 7, 28, 0, 0), 97.44), (datetime.datetime(2011, 7, 29, 0, 0), 95.7), (datetime.datetime(2011, 8, 1, 0, 0), 94.89), (datetime.datetime(2011, 8, 2, 0, 0), 93.79), (datetime.datetime(2011, 8, 3, 0, 0), 91.93), (datetime.datetime(2011, 8, 4, 0, 0), 86.63), (datetime.datetime(2011, 8, 5, 0, 0), 86.88), (datetime.datetime(2011, 8, 8, 0, 0), 81.31), (datetime.datetime(2011, 8, 9, 0, 0), 79.3), (datetime.datetime(2011, 8, 10, 0, 0), 82.89), (datetime.datetime(2011, 8, 11, 0, 0), 85.72), (datetime.datetime(2011, 8, 12, 0, 0), 85.38), (datetime.datetime(2011, 8, 15, 0, 0), 87.88), (datetime.datetime(2011, 8, 16, 0, 0), 86.65), (datetime.datetime(2011, 8, 17, 0, 0), 87.58), (datetime.datetime(2011, 8, 18, 0, 0), 82.38), (datetime.datetime(2011, 8, 19, 0, 0), 82.26), (datetime.datetime(2011, 8, 22, 0, 0), 84.12), (datetime.datetime(2011, 8, 23, 0, 0), 85.44), (datetime.datetime(2011, 8, 24, 0, 0), 85.16), (datetime.datetime(2011, 8, 25, 0, 0), 85.3), (datetime.datetime(2011, 8, 26, 0, 0), 85.37), (datetime.datetime(2011, 8, 29, 0, 0), 87.27), (datetime.datetime(2011, 8, 30, 0, 0), 88.9), (datetime.datetime(2011, 8, 31, 0, 0), 88.81), (datetime.datetime(2011, 9, 1, 0, 0), 88.93), (datetime.datetime(2011, 9, 2, 0, 0), 86.45), (datetime.datetime(2011, 9, 6, 0, 0), 86.02), (datetime.datetime(2011, 9, 7, 0, 0), 89.34), (datetime.datetime(2011, 9, 8, 0, 0), 89.05), (datetime.datetime(2011, 9, 9, 0, 0), 87.24), (datetime.datetime(2011, 9, 12, 0, 0), 88.19), (datetime.datetime(2011, 9, 13, 0, 0), 90.21), (datetime.datetime(2011, 9, 14, 0, 0), 88.91), (datetime.datetime(2011, 9, 15, 0, 0), 89.4), (datetime.datetime(2011, 9, 16, 0, 0), 87.96), (datetime.datetime(2011, 9, 19, 0, 0), 85.7), (datetime.datetime(2011, 9, 20, 0, 0), 86.89), (datetime.datetime(2011, 9, 21, 0, 0), 85.92), (datetime.datetime(2011, 9, 22, 0, 0), 80.51), (datetime.datetime(2011, 9, 23, 0, 0), 79.85), (datetime.datetime(2011, 9, 26, 0, 0), 80.24), (datetime.datetime(2011, 9, 27, 0, 0), 84.45), (datetime.datetime(2011, 9, 28, 0, 0), 81.21), (datetime.datetime(2011, 9, 29, 0, 0), 82.14), (datetime.datetime(2011, 9, 30, 0, 0), 79.2), (datetime.datetime(2011, 10, 3, 0, 0), 77.61), (datetime.datetime(2011, 10, 4, 0, 0), 75.67), (datetime.datetime(2011, 10, 5, 0, 0), 79.68), (datetime.datetime(2011, 10, 6, 0, 0), 82.59), (datetime.datetime(2011, 10, 7, 0, 0), 82.98), (datetime.datetime(2011, 10, 10, 0, 0), 85.41), (datetime.datetime(2011, 10, 11, 0, 0), 85.81), (datetime.datetime(2011, 10, 12, 0, 0), 85.57), (datetime.datetime(2011, 10, 13, 0, 0), 84.23), (datetime.datetime(2011, 10, 14, 0, 0), 86.8), (datetime.datetime(2011, 10, 17, 0, 0), 86.38), (datetime.datetime(2011, 10, 18, 0, 0), 88.34), (datetime.datetime(2011, 10, 19, 0, 0), 86.11), (datetime.datetime(2011, 10, 20, 0, 0), 85.3), (datetime.datetime(2011, 10, 21, 0, 0), 87.4), (datetime.datetime(2011, 10, 24, 0, 0), 91.27), (datetime.datetime(2011, 10, 25, 0, 0), 93.17), (datetime.datetime(2011, 10, 26, 0, 0), 90.2), (datetime.datetime(2011, 10, 27, 0, 0), 93.96), (datetime.datetime(2011, 10, 28, 0, 0), 93.32), (datetime.datetime(2011, 10, 31, 0, 0), 93.19), (datetime.datetime(2011, 11, 1, 0, 0), 92.19), (datetime.datetime(2011, 11, 2, 0, 0), 92.51), (datetime.datetime(2011, 11, 3, 0, 0), 94.07), (datetime.datetime(2011, 11, 4, 0, 0), 94.26), (datetime.datetime(2011, 11, 7, 0, 0), 95.52), (datetime.datetime(2011, 11, 8, 0, 0), 96.8), (datetime.datetime(2011, 11, 9, 0, 0), 95.74), (datetime.datetime(2011, 11, 10, 0, 0), 97.78), (datetime.datetime(2011, 11, 11, 0, 0), 98.99), (datetime.datetime(2011, 11, 14, 0, 0), 98.14), (datetime.datetime(2011, 11, 15, 0, 0), 99.37), (datetime.datetime(2011, 11, 16, 0, 0), 102.59), (datetime.datetime(2011, 11, 17, 0, 0), 98.82), (datetime.datetime(2011, 11, 18, 0, 0), 97.41), (datetime.datetime(2011, 11, 21, 0, 0), 96.92), (datetime.datetime(2011, 11, 22, 0, 0), 98.01), (datetime.datetime(2011, 11, 23, 0, 0), 96.17), (datetime.datetime(2011, 11, 25, 0, 0), 96.77), (datetime.datetime(2011, 11, 28, 0, 0), 98.21), (datetime.datetime(2011, 11, 29, 0, 0), 99.79), (datetime.datetime(2011, 11, 30, 0, 0), 100.36), (datetime.datetime(2011, 12, 1, 0, 0), 100.2), (datetime.datetime(2011, 12, 2, 0, 0), 100.96), (datetime.datetime(2011, 12, 5, 0, 0), 100.99), (datetime.datetime(2011, 12, 6, 0, 0), 101.28), (datetime.datetime(2011, 12, 7, 0, 0), 100.49), (datetime.datetime(2011, 12, 8, 0, 0), 98.34), (datetime.datetime(2011, 12, 9, 0, 0), 99.41), (datetime.datetime(2011, 12, 12, 0, 0), 97.77), (datetime.datetime(2011, 12, 13, 0, 0), 100.14), (datetime.datetime(2011, 12, 14, 0, 0), 94.95), (datetime.datetime(2011, 12, 15, 0, 0), 93.87), (datetime.datetime(2011, 12, 16, 0, 0), 93.53), (datetime.datetime(2011, 12, 19, 0, 0), 93.88), (datetime.datetime(2011, 12, 20, 0, 0), 97.22), (datetime.datetime(2011, 12, 21, 0, 0), 98.67), (datetime.datetime(2011, 12, 22, 0, 0), 99.53), (datetime.datetime(2011, 12, 23, 0, 0), 99.68), (datetime.datetime(2011, 12, 27, 0, 0), 101.34), (datetime.datetime(2011, 12, 28, 0, 0), 99.36), (datetime.datetime(2011, 12, 29, 0, 0), 99.65), (datetime.datetime(2011, 12, 30, 0, 0), 98.83), (datetime.datetime(2012, 1, 3, 0, 0), 102.96), (datetime.datetime(2012, 1, 4, 0, 0), 103.22), (datetime.datetime(2012, 1, 5, 0, 0), 101.81), (datetime.datetime(2012, 1, 6, 0, 0), 101.56), (datetime.datetime(2012, 1, 9, 0, 0), 101.31), (datetime.datetime(2012, 1, 10, 0, 0), 102.24), (datetime.datetime(2012, 1, 11, 0, 0), 100.87), (datetime.datetime(2012, 1, 12, 0, 0), 99.1), (datetime.datetime(2012, 1, 13, 0, 0), 98.7), (datetime.datetime(2012, 1, 17, 0, 0), 100.71), (datetime.datetime(2012, 1, 18, 0, 0), 100.59), (datetime.datetime(2012, 1, 19, 0, 0), 100.39), (datetime.datetime(2012, 1, 20, 0, 0), 98.46), (datetime.datetime(2012, 1, 23, 0, 0), 99.58), (datetime.datetime(2012, 1, 24, 0, 0), 98.95), (datetime.datetime(2012, 1, 25, 0, 0), 99.4), (datetime.datetime(2012, 1, 26, 0, 0), 99.7), (datetime.datetime(2012, 1, 27, 0, 0), 99.56), (datetime.datetime(2012, 1, 30, 0, 0), 98.78), (datetime.datetime(2012, 1, 31, 0, 0), 98.48), (datetime.datetime(2012, 2, 1, 0, 0), 97.61), (datetime.datetime(2012, 2, 2, 0, 0), 96.36), (datetime.datetime(2012, 2, 3, 0, 0), 97.84), (datetime.datetime(2012, 2, 6, 0, 0), 96.91), (datetime.datetime(2012, 2, 7, 0, 0), 98.41), (datetime.datetime(2012, 2, 8, 0, 0), 98.71), (datetime.datetime(2012, 2, 9, 0, 0), 99.84), (datetime.datetime(2012, 2, 10, 0, 0), 98.67), (datetime.datetime(2012, 2, 13, 0, 0), 100.91), (datetime.datetime(2012, 2, 14, 0, 0), 100.74), (datetime.datetime(2012, 2, 15, 0, 0), 101.8), (datetime.datetime(2012, 2, 16, 0, 0), 102.31), (datetime.datetime(2012, 2, 17, 0, 0), 103.24), (datetime.datetime(2012, 2, 21, 0, 0), 105.84), (datetime.datetime(2012, 2, 22, 0, 0), 106.28), (datetime.datetime(2012, 2, 23, 0, 0), 107.83), (datetime.datetime(2012, 2, 24, 0, 0), 109.77), (datetime.datetime(2012, 2, 27, 0, 0), 108.56), (datetime.datetime(2012, 2, 28, 0, 0), 106.55), (datetime.datetime(2012, 2, 29, 0, 0), 107.07), (datetime.datetime(2012, 3, 1, 0, 0), 108.84), (datetime.datetime(2012, 3, 2, 0, 0), 106.7), (datetime.datetime(2012, 3, 5, 0, 0), 106.72), (datetime.datetime(2012, 3, 6, 0, 0), 104.7), (datetime.datetime(2012, 3, 7, 0, 0), 106.16), (datetime.datetime(2012, 3, 8, 0, 0), 106.58), (datetime.datetime(2012, 3, 9, 0, 0), 107.4), (datetime.datetime(2012, 3, 12, 0, 0), 106.34), (datetime.datetime(2012, 3, 13, 0, 0), 106.71), (datetime.datetime(2012, 3, 14, 0, 0), 105.43), (datetime.datetime(2012, 3, 15, 0, 0), 105.11), (datetime.datetime(2012, 3, 16, 0, 0), 107.06), (datetime.datetime(2012, 3, 19, 0, 0), 108.09), (datetime.datetime(2012, 3, 20, 0, 0), 105.61), (datetime.datetime(2012, 3, 21, 0, 0), 107.27), (datetime.datetime(2012, 3, 22, 0, 0), 105.35), (datetime.datetime(2012, 3, 23, 0, 0), 106.87), (datetime.datetime(2012, 3, 26, 0, 0), 107.03), (datetime.datetime(2012, 3, 27, 0, 0), 107.33), (datetime.datetime(2012, 3, 28, 0, 0), 105.41), (datetime.datetime(2012, 3, 29, 0, 0), 102.78), (datetime.datetime(2012, 3, 30, 0, 0), 103.02), (datetime.datetime(2012, 4, 2, 0, 0), 105.23), (datetime.datetime(2012, 4, 3, 0, 0), 104.01), (datetime.datetime(2012, 4, 4, 0, 0), 101.47), (datetime.datetime(2012, 4, 5, 0, 0), 103.31), (datetime.datetime(2012, 4, 9, 0, 0), 102.46), (datetime.datetime(2012, 4, 10, 0, 0), 101.02), (datetime.datetime(2012, 4, 11, 0, 0), 102.7), (datetime.datetime(2012, 4, 12, 0, 0), 103.64), (datetime.datetime(2012, 4, 13, 0, 0), 102.83), (datetime.datetime(2012, 4, 16, 0, 0), 102.93), (datetime.datetime(2012, 4, 17, 0, 0), 104.2), (datetime.datetime(2012, 4, 18, 0, 0), 102.67), (datetime.datetime(2012, 4, 19, 0, 0), 102.27), (datetime.datetime(2012, 4, 20, 0, 0), 103.05), (datetime.datetime(2012, 4, 23, 0, 0), 103.11), (datetime.datetime(2012, 4, 24, 0, 0), 103.55), (datetime.datetime(2012, 4, 25, 0, 0), 104.12), (datetime.datetime(2012, 4, 26, 0, 0), 104.55), (datetime.datetime(2012, 4, 27, 0, 0), 104.93), (datetime.datetime(2012, 4, 30, 0, 0), 104.87), (datetime.datetime(2012, 5, 1, 0, 0), 106.16), (datetime.datetime(2012, 5, 2, 0, 0), 105.22), (datetime.datetime(2012, 5, 3, 0, 0), 102.54), (datetime.datetime(2012, 5, 4, 0, 0), 98.49), (datetime.datetime(2012, 5, 7, 0, 0), 97.94), (datetime.datetime(2012, 5, 8, 0, 0), 97.01), (datetime.datetime(2012, 5, 9, 0, 0), 96.81), (datetime.datetime(2012, 5, 10, 0, 0), 97.08), (datetime.datetime(2012, 5, 11, 0, 0), 96.13), (datetime.datetime(2012, 5, 14, 0, 0), 94.78), (datetime.datetime(2012, 5, 15, 0, 0), 93.98), (datetime.datetime(2012, 5, 16, 0, 0), 92.81), (datetime.datetime(2012, 5, 17, 0, 0), 92.56), (datetime.datetime(2012, 5, 18, 0, 0), 91.48), (datetime.datetime(2012, 5, 21, 0, 0), 92.57), (datetime.datetime(2012, 5, 22, 0, 0), 91.66), (datetime.datetime(2012, 5, 23, 0, 0), 89.9), (datetime.datetime(2012, 5, 24, 0, 0), 90.66), (datetime.datetime(2012, 5, 25, 0, 0), 90.86), (datetime.datetime(2012, 5, 29, 0, 0), 90.76), (datetime.datetime(2012, 5, 30, 0, 0), 87.82), (datetime.datetime(2012, 5, 31, 0, 0), 86.53), (datetime.datetime(2012, 6, 1, 0, 0), 83.23), (datetime.datetime(2012, 6, 4, 0, 0), 83.98), (datetime.datetime(2012, 6, 5, 0, 0), 84.29), (datetime.datetime(2012, 6, 6, 0, 0), 85.02), (datetime.datetime(2012, 6, 7, 0, 0), 84.82), (datetime.datetime(2012, 6, 8, 0, 0), 84.1), (datetime.datetime(2012, 6, 11, 0, 0), 82.7), (datetime.datetime(2012, 6, 12, 0, 0), 83.32), (datetime.datetime(2012, 6, 13, 0, 0), 82.62), (datetime.datetime(2012, 6, 14, 0, 0), 83.91), (datetime.datetime(2012, 6, 15, 0, 0), 84.03), (datetime.datetime(2012, 6, 18, 0, 0), 83.27), (datetime.datetime(2012, 6, 19, 0, 0), 84.03), (datetime.datetime(2012, 6, 20, 0, 0), 81.8), (datetime.datetime(2012, 6, 21, 0, 0), 78.2), (datetime.datetime(2012, 6, 22, 0, 0), 79.76), (datetime.datetime(2012, 6, 25, 0, 0), 79.21), (datetime.datetime(2012, 6, 26, 0, 0), 79.36), (datetime.datetime(2012, 6, 27, 0, 0), 80.21), (datetime.datetime(2012, 6, 28, 0, 0), 77.69), (datetime.datetime(2012, 6, 29, 0, 0), 84.96), (datetime.datetime(2012, 7, 2, 0, 0), 83.75), (datetime.datetime(2012, 7, 3, 0, 0), 87.66), (datetime.datetime(2012, 7, 5, 0, 0), 87.22), (datetime.datetime(2012, 7, 6, 0, 0), 84.45), (datetime.datetime(2012, 7, 9, 0, 0), 85.99), (datetime.datetime(2012, 7, 10, 0, 0), 83.91), (datetime.datetime(2012, 7, 11, 0, 0), 85.81), (datetime.datetime(2012, 7, 12, 0, 0), 86.08), (datetime.datetime(2012, 7, 13, 0, 0), 87.1), (datetime.datetime(2012, 7, 16, 0, 0), 88.43), (datetime.datetime(2012, 7, 17, 0, 0), 89.22), (datetime.datetime(2012, 7, 18, 0, 0), 89.87), (datetime.datetime(2012, 7, 19, 0, 0), 92.66), (datetime.datetime(2012, 7, 20, 0, 0), 91.44), (datetime.datetime(2012, 7, 23, 0, 0), 88.14), (datetime.datetime(2012, 7, 24, 0, 0), 88.5), (datetime.datetime(2012, 7, 25, 0, 0), 88.97), (datetime.datetime(2012, 7, 26, 0, 0), 89.39), (datetime.datetime(2012, 7, 27, 0, 0), 90.13), (datetime.datetime(2012, 7, 30, 0, 0), 89.78), (datetime.datetime(2012, 7, 31, 0, 0), 88.06), (datetime.datetime(2012, 8, 1, 0, 0), 88.91), (datetime.datetime(2012, 8, 2, 0, 0), 87.13), (datetime.datetime(2012, 8, 3, 0, 0), 91.4), (datetime.datetime(2012, 8, 6, 0, 0), 92.2), (datetime.datetime(2012, 8, 7, 0, 0), 93.67), (datetime.datetime(2012, 8, 8, 0, 0), 93.35), (datetime.datetime(2012, 8, 9, 0, 0), 93.36), (datetime.datetime(2012, 8, 10, 0, 0), 92.87), (datetime.datetime(2012, 8, 13, 0, 0), 92.73), (datetime.datetime(2012, 8, 14, 0, 0), 93.43), (datetime.datetime(2012, 8, 15, 0, 0), 94.33), (datetime.datetime(2012, 8, 16, 0, 0), 95.6), (datetime.datetime(2012, 8, 17, 0, 0), 96.01), (datetime.datetime(2012, 8, 20, 0, 0), 95.97), (datetime.datetime(2012, 8, 21, 0, 0), 96.68), (datetime.datetime(2012, 8, 22, 0, 0), 97.26), (datetime.datetime(2012, 8, 23, 0, 0), 96.27), (datetime.datetime(2012, 8, 24, 0, 0), 96.15), (datetime.datetime(2012, 8, 27, 0, 0), 95.47), (datetime.datetime(2012, 8, 28, 0, 0), 96.33), (datetime.datetime(2012, 8, 29, 0, 0), 95.49), (datetime.datetime(2012, 8, 30, 0, 0), 94.62), (datetime.datetime(2012, 8, 31, 0, 0), 96.47), (datetime.datetime(2012, 9, 4, 0, 0), 95.3), (datetime.datetime(2012, 9, 5, 0, 0), 95.36), (datetime.datetime(2012, 9, 6, 0, 0), 95.53), (datetime.datetime(2012, 9, 7, 0, 0), 96.42), (datetime.datetime(2012, 9, 10, 0, 0), 96.54), (datetime.datetime(2012, 9, 11, 0, 0), 97.17), (datetime.datetime(2012, 9, 12, 0, 0), 97.01), (datetime.datetime(2012, 9, 13, 0, 0), 98.31), (datetime.datetime(2012, 9, 14, 0, 0), 99.0), (datetime.datetime(2012, 9, 17, 0, 0), 96.62), (datetime.datetime(2012, 9, 18, 0, 0), 95.29), (datetime.datetime(2012, 9, 19, 0, 0), 91.98), (datetime.datetime(2012, 9, 20, 0, 0), 91.87), (datetime.datetime(2012, 9, 21, 0, 0), 92.89), (datetime.datetime(2012, 9, 24, 0, 0), 91.93), (datetime.datetime(2012, 9, 25, 0, 0), 91.37), (datetime.datetime(2012, 9, 26, 0, 0), 89.98), (datetime.datetime(2012, 9, 27, 0, 0), 91.85), (datetime.datetime(2012, 9, 28, 0, 0), 92.19), (datetime.datetime(2012, 10, 1, 0, 0), 92.48), (datetime.datetime(2012, 10, 2, 0, 0), 91.89), (datetime.datetime(2012, 10, 3, 0, 0), 88.14), (datetime.datetime(2012, 10, 4, 0, 0), 91.71), (datetime.datetime(2012, 10, 5, 0, 0), 89.88), (datetime.datetime(2012, 10, 8, 0, 0), 89.33), (datetime.datetime(2012, 10, 9, 0, 0), 92.39), (datetime.datetime(2012, 10, 10, 0, 0), 91.25), (datetime.datetime(2012, 10, 11, 0, 0), 92.07), (datetime.datetime(2012, 10, 12, 0, 0), 91.86), (datetime.datetime(2012, 10, 15, 0, 0), 91.85), (datetime.datetime(2012, 10, 16, 0, 0), 92.09), (datetime.datetime(2012, 10, 17, 0, 0), 92.12), (datetime.datetime(2012, 10, 18, 0, 0), 92.1), (datetime.datetime(2012, 10, 19, 0, 0), 90.05), (datetime.datetime(2012, 10, 22, 0, 0), 88.73), (datetime.datetime(2012, 10, 23, 0, 0), 86.67), (datetime.datetime(2012, 10, 24, 0, 0), 85.73), (datetime.datetime(2012, 10, 25, 0, 0), 86.05), (datetime.datetime(2012, 10, 26, 0, 0), 86.28), (datetime.datetime(2012, 10, 29, 0, 0), 85.54), (datetime.datetime(2012, 10, 30, 0, 0), 85.68), (datetime.datetime(2012, 10, 31, 0, 0), 86.24), (datetime.datetime(2012, 11, 1, 0, 0), 87.09), (datetime.datetime(2012, 11, 2, 0, 0), 84.86), (datetime.datetime(2012, 11, 5, 0, 0), 85.65), (datetime.datetime(2012, 11, 6, 0, 0), 88.71), (datetime.datetime(2012, 11, 7, 0, 0), 84.44), (datetime.datetime(2012, 11, 8, 0, 0), 85.09), (datetime.datetime(2012, 11, 9, 0, 0), 86.07), (datetime.datetime(2012, 11, 12, 0, 0), 85.57), (datetime.datetime(2012, 11, 13, 0, 0), 85.38), (datetime.datetime(2012, 11, 14, 0, 0), 86.32), (datetime.datetime(2012, 11, 15, 0, 0), 85.45), (datetime.datetime(2012, 11, 16, 0, 0), 86.67), (datetime.datetime(2012, 11, 19, 0, 0), 89.28), (datetime.datetime(2012, 11, 20, 0, 0), 86.75), (datetime.datetime(2012, 11, 21, 0, 0), 87.38), (datetime.datetime(2012, 11, 23, 0, 0), 88.28), (datetime.datetime(2012, 11, 26, 0, 0), 87.74), (datetime.datetime(2012, 11, 27, 0, 0), 87.18), (datetime.datetime(2012, 11, 28, 0, 0), 86.49), (datetime.datetime(2012, 11, 29, 0, 0), 88.07), (datetime.datetime(2012, 11, 30, 0, 0), 88.91), (datetime.datetime(2012, 12, 3, 0, 0), 89.09), (datetime.datetime(2012, 12, 4, 0, 0), 88.5), (datetime.datetime(2012, 12, 5, 0, 0), 87.88), (datetime.datetime(2012, 12, 6, 0, 0), 86.26), (datetime.datetime(2012, 12, 7, 0, 0), 85.93), (datetime.datetime(2012, 12, 10, 0, 0), 85.56), (datetime.datetime(2012, 12, 11, 0, 0), 85.79), (datetime.datetime(2012, 12, 12, 0, 0), 86.77), (datetime.datetime(2012, 12, 13, 0, 0), 85.89), (datetime.datetime(2012, 12, 14, 0, 0), 86.73), (datetime.datetime(2012, 12, 17, 0, 0), 87.2), (datetime.datetime(2012, 12, 18, 0, 0), 87.93), (datetime.datetime(2012, 12, 19, 0, 0), 89.51), (datetime.datetime(2012, 12, 20, 0, 0), 90.13), (datetime.datetime(2012, 12, 21, 0, 0), 88.66), (datetime.datetime(2012, 12, 24, 0, 0), 88.61), (datetime.datetime(2012, 12, 26, 0, 0), 90.98), (datetime.datetime(2012, 12, 27, 0, 0), 90.87), (datetime.datetime(2012, 12, 28, 0, 0), 90.8), (datetime.datetime(2012, 12, 31, 0, 0), 91.82), (datetime.datetime(2013, 1, 2, 0, 0), 93.12), (datetime.datetime(2013, 1, 3, 0, 0), 92.92), (datetime.datetime(2013, 1, 4, 0, 0), 93.09), (datetime.datetime(2013, 1, 7, 0, 0), 93.19), (datetime.datetime(2013, 1, 8, 0, 0), 93.15), (datetime.datetime(2013, 1, 9, 0, 0), 93.1), (datetime.datetime(2013, 1, 10, 0, 0), 93.82), (datetime.datetime(2013, 1, 11, 0, 0), 93.56), (datetime.datetime(2013, 1, 14, 0, 0), 94.14), (datetime.datetime(2013, 1, 15, 0, 0), 93.28), (datetime.datetime(2013, 1, 16, 0, 0), 94.24), (datetime.datetime(2013, 1, 17, 0, 0), 95.49), (datetime.datetime(2013, 1, 18, 0, 0), 95.56), (datetime.datetime(2013, 1, 22, 0, 0), 96.24), (datetime.datetime(2013, 1, 23, 0, 0), 95.23), (datetime.datetime(2013, 1, 24, 0, 0), 95.95), (datetime.datetime(2013, 1, 25, 0, 0), 95.88), (datetime.datetime(2013, 1, 28, 0, 0), 96.44), (datetime.datetime(2013, 1, 29, 0, 0), 97.57), (datetime.datetime(2013, 1, 30, 0, 0), 97.94), (datetime.datetime(2013, 1, 31, 0, 0), 97.49), (datetime.datetime(2013, 2, 1, 0, 0), 97.77), (datetime.datetime(2013, 2, 4, 0, 0), 96.17), (datetime.datetime(2013, 2, 5, 0, 0), 96.64), (datetime.datetime(2013, 2, 6, 0, 0), 96.62), (datetime.datetime(2013, 2, 7, 0, 0), 95.83), (datetime.datetime(2013, 2, 8, 0, 0), 95.72), (datetime.datetime(2013, 2, 11, 0, 0), 97.03), (datetime.datetime(2013, 2, 12, 0, 0), 97.51), (datetime.datetime(2013, 2, 13, 0, 0), 97.01), (datetime.datetime(2013, 2, 14, 0, 0), 97.31), (datetime.datetime(2013, 2, 15, 0, 0), 95.86), (datetime.datetime(2013, 2, 19, 0, 0), 96.66), (datetime.datetime(2013, 2, 20, 0, 0), 94.46), (datetime.datetime(2013, 2, 21, 0, 0), 92.84), (datetime.datetime(2013, 2, 22, 0, 0), 93.13), (datetime.datetime(2013, 2, 25, 0, 0), 93.11), (datetime.datetime(2013, 2, 26, 0, 0), 92.63), (datetime.datetime(2013, 2, 27, 0, 0), 92.76), (datetime.datetime(2013, 2, 28, 0, 0), 92.05), (datetime.datetime(2013, 3, 1, 0, 0), 90.68), (datetime.datetime(2013, 3, 4, 0, 0), 90.12), (datetime.datetime(2013, 3, 5, 0, 0), 90.82), (datetime.datetime(2013, 3, 6, 0, 0), 90.43), (datetime.datetime(2013, 3, 7, 0, 0), 91.56), (datetime.datetime(2013, 3, 8, 0, 0), 91.95), (datetime.datetime(2013, 3, 11, 0, 0), 92.06), (datetime.datetime(2013, 3, 12, 0, 0), 92.54), (datetime.datetime(2013, 3, 13, 0, 0), 92.52), (datetime.datetime(2013, 3, 14, 0, 0), 93.03), (datetime.datetime(2013, 3, 15, 0, 0), 93.45), (datetime.datetime(2013, 3, 18, 0, 0), 93.74), (datetime.datetime(2013, 3, 19, 0, 0), 92.16), (datetime.datetime(2013, 3, 20, 0, 0), 92.96), (datetime.datetime(2013, 3, 21, 0, 0), 92.45), (datetime.datetime(2013, 3, 22, 0, 0), 93.71), (datetime.datetime(2013, 3, 25, 0, 0), 94.81), (datetime.datetime(2013, 3, 26, 0, 0), 96.34), (datetime.datetime(2013, 3, 27, 0, 0), 96.58), (datetime.datetime(2013, 3, 28, 0, 0), 97.23), (datetime.datetime(2013, 4, 1, 0, 0), 97.07), (datetime.datetime(2013, 4, 2, 0, 0), 97.19), (datetime.datetime(2013, 4, 3, 0, 0), 94.45), (datetime.datetime(2013, 4, 4, 0, 0), 93.26), (datetime.datetime(2013, 4, 5, 0, 0), 92.7), (datetime.datetime(2013, 4, 8, 0, 0), 93.36), (datetime.datetime(2013, 4, 9, 0, 0), 94.2), (datetime.datetime(2013, 4, 10, 0, 0), 94.64), (datetime.datetime(2013, 4, 11, 0, 0), 93.51), (datetime.datetime(2013, 4, 12, 0, 0), 91.29), (datetime.datetime(2013, 4, 15, 0, 0), 88.71), (datetime.datetime(2013, 4, 16, 0, 0), 88.72), (datetime.datetime(2013, 4, 17, 0, 0), 86.68), (datetime.datetime(2013, 4, 18, 0, 0), 87.73), (datetime.datetime(2013, 4, 19, 0, 0), 88.01), (datetime.datetime(2013, 4, 22, 0, 0), 88.76), (datetime.datetime(2013, 4, 23, 0, 0), 89.18), (datetime.datetime(2013, 4, 24, 0, 0), 91.43), (datetime.datetime(2013, 4, 25, 0, 0), 93.64), (datetime.datetime(2013, 4, 26, 0, 0), 93.0), (datetime.datetime(2013, 4, 29, 0, 0), 94.5), (datetime.datetime(2013, 4, 30, 0, 0), 93.46), (datetime.datetime(2013, 5, 1, 0, 0), 91.03), (datetime.datetime(2013, 5, 2, 0, 0), 93.99), (datetime.datetime(2013, 5, 3, 0, 0), 95.61), (datetime.datetime(2013, 5, 6, 0, 0), 96.16), (datetime.datetime(2013, 5, 7, 0, 0), 95.62), (datetime.datetime(2013, 5, 8, 0, 0), 96.62), (datetime.datetime(2013, 5, 9, 0, 0), 96.39), (datetime.datetime(2013, 5, 10, 0, 0), 96.04), (datetime.datetime(2013, 5, 13, 0, 0), 95.17), (datetime.datetime(2013, 5, 14, 0, 0), 94.21), (datetime.datetime(2013, 5, 15, 0, 0), 94.3), (datetime.datetime(2013, 5, 16, 0, 0), 95.16), (datetime.datetime(2013, 5, 17, 0, 0), 96.02), (datetime.datetime(2013, 5, 20, 0, 0), 96.71), (datetime.datetime(2013, 5, 21, 0, 0), 96.16), (datetime.datetime(2013, 5, 22, 0, 0), 94.28), (datetime.datetime(2013, 5, 23, 0, 0), 94.25), (datetime.datetime(2013, 5, 24, 0, 0), 94.15), (datetime.datetime(2013, 5, 27, 0, 0), 93.83), (datetime.datetime(2013, 5, 28, 0, 0), 95.01), (datetime.datetime(2013, 5, 29, 0, 0), 93.13), (datetime.datetime(2013, 5, 30, 0, 0), 93.61), (datetime.datetime(2013, 5, 31, 0, 0), 91.97), (datetime.datetime(2013, 6, 3, 0, 0), 93.45), (datetime.datetime(2013, 6, 4, 0, 0), 93.31), (datetime.datetime(2013, 6, 5, 0, 0), 93.74), (datetime.datetime(2013, 6, 6, 0, 0), 94.76), (datetime.datetime(2013, 6, 7, 0, 0), 96.03), (datetime.datetime(2013, 6, 10, 0, 0), 95.77), (datetime.datetime(2013, 6, 11, 0, 0), 95.38), (datetime.datetime(2013, 6, 12, 0, 0), 95.88), (datetime.datetime(2013, 6, 13, 0, 0), 96.69), (datetime.datetime(2013, 6, 14, 0, 0), 97.85), (datetime.datetime(2013, 6, 17, 0, 0), 97.77), (datetime.datetime(2013, 6, 18, 0, 0), 98.44), (datetime.datetime(2013, 6, 19, 0, 0), 98.24), (datetime.datetime(2013, 6, 20, 0, 0), 95.4), (datetime.datetime(2013, 6, 21, 0, 0), 93.69), (datetime.datetime(2013, 6, 24, 0, 0), 95.18), (datetime.datetime(2013, 6, 25, 0, 0), 95.32), (datetime.datetime(2013, 6, 26, 0, 0), 95.5), (datetime.datetime(2013, 6, 27, 0, 0), 97.05), (datetime.datetime(2013, 6, 28, 0, 0), 96.56), (datetime.datetime(2013, 7, 1, 0, 0), 97.99), (datetime.datetime(2013, 7, 2, 0, 0), 99.6), (datetime.datetime(2013, 7, 3, 0, 0), 101.24), (datetime.datetime(2013, 7, 4, 0, 0), 101.4), (datetime.datetime(2013, 7, 5, 0, 0), 103.22), (datetime.datetime(2013, 7, 8, 0, 0), 103.14), (datetime.datetime(2013, 7, 9, 0, 0), 103.53), (datetime.datetime(2013, 7, 10, 0, 0), 106.52), (datetime.datetime(2013, 7, 11, 0, 0), 104.91), (datetime.datetime(2013, 7, 12, 0, 0), 105.95), (datetime.datetime(2013, 7, 15, 0, 0), 106.32), (datetime.datetime(2013, 7, 16, 0, 0), 106.0), (datetime.datetime(2013, 7, 17, 0, 0), 106.48), (datetime.datetime(2013, 7, 18, 0, 0), 108.04), (datetime.datetime(2013, 7, 19, 0, 0), 108.05), (datetime.datetime(2013, 7, 22, 0, 0), 106.91), (datetime.datetime(2013, 7, 23, 0, 0), 107.23), (datetime.datetime(2013, 7, 24, 0, 0), 105.39), (datetime.datetime(2013, 7, 25, 0, 0), 105.49), (datetime.datetime(2013, 7, 26, 0, 0), 104.7), (datetime.datetime(2013, 7, 29, 0, 0), 104.55), (datetime.datetime(2013, 7, 30, 0, 0), 103.08), (datetime.datetime(2013, 7, 31, 0, 0), 105.03), (datetime.datetime(2013, 8, 1, 0, 0), 107.89), (datetime.datetime(2013, 8, 2, 0, 0), 106.94), (datetime.datetime(2013, 8, 5, 0, 0), 106.56), (datetime.datetime(2013, 8, 6, 0, 0), 105.3), (datetime.datetime(2013, 8, 7, 0, 0), 104.37), (datetime.datetime(2013, 8, 8, 0, 0), 103.4), (datetime.datetime(2013, 8, 9, 0, 0), 105.97), (datetime.datetime(2013, 8, 12, 0, 0), 106.11), (datetime.datetime(2013, 8, 13, 0, 0), 106.83), (datetime.datetime(2013, 8, 14, 0, 0), 106.85), (datetime.datetime(2013, 8, 15, 0, 0), 107.33), (datetime.datetime(2013, 8, 16, 0, 0), 107.46), (datetime.datetime(2013, 8, 19, 0, 0), 107.1), (datetime.datetime(2013, 8, 20, 0, 0), 104.97), (datetime.datetime(2013, 8, 21, 0, 0), 103.85), (datetime.datetime(2013, 8, 22, 0, 0), 105.03), (datetime.datetime(2013, 8, 23, 0, 0), 106.42), (datetime.datetime(2013, 8, 26, 0, 0), 105.92), (datetime.datetime(2013, 8, 27, 0, 0), 109.01), (datetime.datetime(2013, 8, 28, 0, 0), 110.1), (datetime.datetime(2013, 8, 29, 0, 0), 108.8), (datetime.datetime(2013, 8, 30, 0, 0), 107.65), (datetime.datetime(2013, 9, 2, 0, 0), 106.75), (datetime.datetime(2013, 9, 3, 0, 0), 108.54), (datetime.datetime(2013, 9, 4, 0, 0), 107.23), (datetime.datetime(2013, 9, 5, 0, 0), 108.37), (datetime.datetime(2013, 9, 6, 0, 0), 110.53), (datetime.datetime(2013, 9, 9, 0, 0), 109.52), (datetime.datetime(2013, 9, 10, 0, 0), 107.39), (datetime.datetime(2013, 9, 11, 0, 0), 107.56), (datetime.datetime(2013, 9, 12, 0, 0), 108.6), (datetime.datetime(2013, 9, 13, 0, 0), 108.21), (datetime.datetime(2013, 9, 16, 0, 0), 106.59), (datetime.datetime(2013, 9, 17, 0, 0), 105.42), (datetime.datetime(2013, 9, 18, 0, 0), 108.07), (datetime.datetime(2013, 9, 19, 0, 0), 106.39), (datetime.datetime(2013, 9, 20, 0, 0), 104.68), (datetime.datetime(2013, 9, 23, 0, 0), 103.59), (datetime.datetime(2013, 9, 24, 0, 0), 103.13), (datetime.datetime(2013, 9, 25, 0, 0), 102.66), (datetime.datetime(2013, 9, 26, 0, 0), 103.03), (datetime.datetime(2013, 9, 27, 0, 0), 102.87), (datetime.datetime(2013, 9, 30, 0, 0), 102.33), (datetime.datetime(2013, 10, 1, 0, 0), 102.04), (datetime.datetime(2013, 10, 2, 0, 0), 104.1), (datetime.datetime(2013, 10, 3, 0, 0), 103.31), (datetime.datetime(2013, 10, 4, 0, 0), 103.84), (datetime.datetime(2013, 10, 7, 0, 0), 103.03), (datetime.datetime(2013, 10, 8, 0, 0), 103.49), (datetime.datetime(2013, 10, 9, 0, 0), 101.61), (datetime.datetime(2013, 10, 10, 0, 0), 103.01), (datetime.datetime(2013, 10, 11, 0, 0), 102.02), (datetime.datetime(2013, 10, 14, 0, 0), 102.41), (datetime.datetime(2013, 10, 15, 0, 0), 101.21), (datetime.datetime(2013, 10, 16, 0, 0), 102.29), (datetime.datetime(2013, 10, 17, 0, 0), 100.67), (datetime.datetime(2013, 10, 18, 0, 0), 100.81), (datetime.datetime(2013, 10, 21, 0, 0), 99.22), (datetime.datetime(2013, 10, 22, 0, 0), 97.8), (datetime.datetime(2013, 10, 23, 0, 0), 96.86), (datetime.datetime(2013, 10, 24, 0, 0), 97.11), (datetime.datetime(2013, 10, 25, 0, 0), 97.85), (datetime.datetime(2013, 10, 28, 0, 0), 98.68), (datetime.datetime(2013, 10, 29, 0, 0), 98.2), (datetime.datetime(2013, 10, 30, 0, 0), 96.77), (datetime.datetime(2013, 10, 31, 0, 0), 96.38), (datetime.datetime(2013, 11, 1, 0, 0), 94.61), (datetime.datetime(2013, 11, 4, 0, 0), 94.62), (datetime.datetime(2013, 11, 5, 0, 0), 93.37), (datetime.datetime(2013, 11, 6, 0, 0), 94.8), (datetime.datetime(2013, 11, 7, 0, 0), 94.2), (datetime.datetime(2013, 11, 8, 0, 0), 94.6), (datetime.datetime(2013, 11, 11, 0, 0), 95.14), (datetime.datetime(2013, 11, 12, 0, 0), 93.04), (datetime.datetime(2013, 11, 13, 0, 0), 93.88), (datetime.datetime(2013, 11, 14, 0, 0), 93.76), (datetime.datetime(2013, 11, 15, 0, 0), 93.84), (datetime.datetime(2013, 11, 18, 0, 0), 93.03), (datetime.datetime(2013, 11, 19, 0, 0), 93.34), (datetime.datetime(2013, 11, 20, 0, 0), 93.33), (datetime.datetime(2013, 11, 21, 0, 0), 95.44), (datetime.datetime(2013, 11, 22, 0, 0), 94.84), (datetime.datetime(2013, 11, 25, 0, 0), 94.09), (datetime.datetime(2013, 11, 26, 0, 0), 93.68), (datetime.datetime(2013, 11, 27, 0, 0), 92.3), (datetime.datetime(2013, 11, 28, 0, 0), 92.28), (datetime.datetime(2013, 11, 29, 0, 0), 92.72), (datetime.datetime(2013, 12, 2, 0, 0), 93.82), (datetime.datetime(2013, 12, 3, 0, 0), 96.04), (datetime.datetime(2013, 12, 4, 0, 0), 97.2), (datetime.datetime(2013, 12, 5, 0, 0), 97.38), (datetime.datetime(2013, 12, 6, 0, 0), 97.65), (datetime.datetime(2013, 12, 9, 0, 0), 97.34), (datetime.datetime(2013, 12, 10, 0, 0), 98.51), (datetime.datetime(2013, 12, 11, 0, 0), 97.44), (datetime.datetime(2013, 12, 12, 0, 0), 97.5), (datetime.datetime(2013, 12, 13, 0, 0), 96.6), (datetime.datetime(2013, 12, 16, 0, 0), 97.48), (datetime.datetime(2013, 12, 17, 0, 0), 97.22), (datetime.datetime(2013, 12, 18, 0, 0), 97.8), (datetime.datetime(2013, 12, 19, 0, 0), 98.77), (datetime.datetime(2013, 12, 20, 0, 0), 99.32), (datetime.datetime(2013, 12, 23, 0, 0), 98.91), (datetime.datetime(2013, 12, 24, 0, 0), 99.22), (datetime.datetime(2013, 12, 26, 0, 0), 99.55), (datetime.datetime(2013, 12, 27, 0, 0), 100.32), (datetime.datetime(2013, 12, 30, 0, 0), 99.29), (datetime.datetime(2013, 12, 31, 0, 0), 98.42), (datetime.datetime(2014, 1, 1, 0, 0), 98.7), (datetime.datetime(2014, 1, 2, 0, 0), 95.44), (datetime.datetime(2014, 1, 3, 0, 0), 93.96), (datetime.datetime(2014, 1, 6, 0, 0), 93.43), (datetime.datetime(2014, 1, 7, 0, 0), 93.67), (datetime.datetime(2014, 1, 8, 0, 0), 92.33), (datetime.datetime(2014, 1, 9, 0, 0), 91.66), (datetime.datetime(2014, 1, 10, 0, 0), 92.72), (datetime.datetime(2014, 1, 13, 0, 0), 91.8), (datetime.datetime(2014, 1, 14, 0, 0), 92.59), (datetime.datetime(2014, 1, 15, 0, 0), 94.17), (datetime.datetime(2014, 1, 16, 0, 0), 93.96), (datetime.datetime(2014, 1, 17, 0, 0), 94.37), (datetime.datetime(2014, 1, 20, 0, 0), 93.93), (datetime.datetime(2014, 1, 21, 0, 0), 94.99), (datetime.datetime(2014, 1, 22, 0, 0), 96.73), (datetime.datetime(2014, 1, 23, 0, 0), 97.32), (datetime.datetime(2014, 1, 24, 0, 0), 96.64), (datetime.datetime(2014, 1, 27, 0, 0), 95.72), (datetime.datetime(2014, 1, 28, 0, 0), 97.41), (datetime.datetime(2014, 1, 29, 0, 0), 97.36), (datetime.datetime(2014, 1, 30, 0, 0), 98.23), (datetime.datetime(2014, 1, 31, 0, 0), 97.49), (datetime.datetime(2014, 2, 3, 0, 0), 96.43), (datetime.datetime(2014, 2, 4, 0, 0), 97.19), (datetime.datetime(2014, 2, 5, 0, 0), 97.38), (datetime.datetime(2014, 2, 6, 0, 0), 97.84), (datetime.datetime(2014, 2, 7, 0, 0), 99.88), (datetime.datetime(2014, 2, 10, 0, 0), 100.06), (datetime.datetime(2014, 2, 11, 0, 0), 99.94), (datetime.datetime(2014, 2, 12, 0, 0), 100.37), (datetime.datetime(2014, 2, 13, 0, 0), 100.35), (datetime.datetime(2014, 2, 14, 0, 0), 100.3), (datetime.datetime(2014, 2, 17, 0, 0), 100.58), (datetime.datetime(2014, 2, 18, 0, 0), 102.43), (datetime.datetime(2014, 2, 19, 0, 0), 103.31), (datetime.datetime(2014, 2, 20, 0, 0), 102.92), (datetime.datetime(2014, 2, 21, 0, 0), 102.2), (datetime.datetime(2014, 2, 24, 0, 0), 102.82), (datetime.datetime(2014, 2, 25, 0, 0), 101.83), (datetime.datetime(2014, 2, 26, 0, 0), 102.59), (datetime.datetime(2014, 2, 27, 0, 0), 102.4), (datetime.datetime(2014, 2, 28, 0, 0), 102.59), (datetime.datetime(2014, 3, 3, 0, 0), 104.92), (datetime.datetime(2014, 3, 4, 0, 0), 103.33), (datetime.datetime(2014, 3, 5, 0, 0), 101.45), (datetime.datetime(2014, 3, 6, 0, 0), 101.56), (datetime.datetime(2014, 3, 7, 0, 0), 102.58), (datetime.datetime(2014, 3, 10, 0, 0), 101.12), (datetime.datetime(2014, 3, 11, 0, 0), 100.03), (datetime.datetime(2014, 3, 12, 0, 0), 97.99), (datetime.datetime(2014, 3, 13, 0, 0), 98.2), (datetime.datetime(2014, 3, 14, 0, 0), 98.89), (datetime.datetime(2014, 3, 17, 0, 0), 98.08), (datetime.datetime(2014, 3, 18, 0, 0), 99.7), (datetime.datetime(2014, 3, 19, 0, 0), 100.37), (datetime.datetime(2014, 3, 20, 0, 0), 99.43), (datetime.datetime(2014, 3, 21, 0, 0), 99.46), (datetime.datetime(2014, 3, 24, 0, 0), 99.6), (datetime.datetime(2014, 3, 25, 0, 0), 99.19), (datetime.datetime(2014, 3, 26, 0, 0), 100.26), (datetime.datetime(2014, 3, 27, 0, 0), 101.28), (datetime.datetime(2014, 3, 28, 0, 0), 101.67), (datetime.datetime(2014, 3, 31, 0, 0), 101.58), (datetime.datetime(2014, 4, 1, 0, 0), 99.74), (datetime.datetime(2014, 4, 2, 0, 0), 99.62), (datetime.datetime(2014, 4, 3, 0, 0), 100.29), (datetime.datetime(2014, 4, 4, 0, 0), 101.14), (datetime.datetime(2014, 4, 7, 0, 0), 100.44), (datetime.datetime(2014, 4, 8, 0, 0), 102.56), (datetime.datetime(2014, 4, 9, 0, 0), 103.6), (datetime.datetime(2014, 4, 10, 0, 0), 103.4), (datetime.datetime(2014, 4, 11, 0, 0), 103.74), (datetime.datetime(2014, 4, 14, 0, 0), 104.05), (datetime.datetime(2014, 4, 15, 0, 0), 103.75), (datetime.datetime(2014, 4, 16, 0, 0), 103.76), (datetime.datetime(2014, 4, 17, 0, 0), 104.3), (datetime.datetime(2014, 4, 21, 0, 0), 104.37), (datetime.datetime(2014, 4, 22, 0, 0), 102.13), (datetime.datetime(2014, 4, 23, 0, 0), 101.44), (datetime.datetime(2014, 4, 24, 0, 0), 101.94), (datetime.datetime(2014, 4, 25, 0, 0), 100.6), (datetime.datetime(2014, 4, 28, 0, 0), 100.84), (datetime.datetime(2014, 4, 29, 0, 0), 101.28), (datetime.datetime(2014, 4, 30, 0, 0), 99.74), (datetime.datetime(2014, 5, 1, 0, 0), 99.42), (datetime.datetime(2014, 5, 2, 0, 0), 99.76), (datetime.datetime(2014, 5, 5, 0, 0), 99.48), (datetime.datetime(2014, 5, 6, 0, 0), 99.5), (datetime.datetime(2014, 5, 7, 0, 0), 100.77), (datetime.datetime(2014, 5, 8, 0, 0), 100.26), (datetime.datetime(2014, 5, 9, 0, 0), 99.99), (datetime.datetime(2014, 5, 12, 0, 0), 100.59), (datetime.datetime(2014, 5, 13, 0, 0), 101.7), (datetime.datetime(2014, 5, 14, 0, 0), 102.37), (datetime.datetime(2014, 5, 15, 0, 0), 101.5), (datetime.datetime(2014, 5, 16, 0, 0), 102.02), (datetime.datetime(2014, 5, 19, 0, 0), 102.61), (datetime.datetime(2014, 5, 20, 0, 0), 102.44), (datetime.datetime(2014, 5, 21, 0, 0), 104.07), (datetime.datetime(2014, 5, 22, 0, 0), 103.74), (datetime.datetime(2014, 5, 23, 0, 0), 104.35), (datetime.datetime(2014, 5, 26, 0, 0), 104.28), (datetime.datetime(2014, 5, 27, 0, 0), 104.11), (datetime.datetime(2014, 5, 28, 0, 0), 102.72), (datetime.datetime(2014, 5, 29, 0, 0), 103.58), (datetime.datetime(2014, 5, 30, 0, 0), 102.71), (datetime.datetime(2014, 6, 2, 0, 0), 102.47), (datetime.datetime(2014, 6, 3, 0, 0), 102.66), (datetime.datetime(2014, 6, 4, 0, 0), 102.64), (datetime.datetime(2014, 6, 5, 0, 0), 102.48), (datetime.datetime(2014, 6, 6, 0, 0), 102.66), (datetime.datetime(2014, 6, 9, 0, 0), 104.41), (datetime.datetime(2014, 6, 10, 0, 0), 104.35), (datetime.datetime(2014, 6, 11, 0, 0), 104.4), (datetime.datetime(2014, 6, 12, 0, 0), 106.53), (datetime.datetime(2014, 6, 13, 0, 0), 106.91), (datetime.datetime(2014, 6, 16, 0, 0), 106.9), (datetime.datetime(2014, 6, 17, 0, 0), 106.36), (datetime.datetime(2014, 6, 18, 0, 0), 105.97), (datetime.datetime(2014, 6, 19, 0, 0), 106.43), (datetime.datetime(2014, 6, 20, 0, 0), 107.26), (datetime.datetime(2014, 6, 23, 0, 0), 106.17), (datetime.datetime(2014, 6, 24, 0, 0), 106.03), (datetime.datetime(2014, 6, 25, 0, 0), 106.5), (datetime.datetime(2014, 6, 26, 0, 0), 105.84), (datetime.datetime(2014, 6, 27, 0, 0), 105.74), (datetime.datetime(2014, 6, 30, 0, 0), 105.37), (datetime.datetime(2014, 7, 1, 0, 0), 105.34), (datetime.datetime(2014, 7, 2, 0, 0), 104.48), (datetime.datetime(2014, 7, 3, 0, 0), 104.06), (datetime.datetime(2014, 7, 4, 0, 0), 103.76), (datetime.datetime(2014, 7, 7, 0, 0), 103.53), (datetime.datetime(2014, 7, 8, 0, 0), 103.4), (datetime.datetime(2014, 7, 9, 0, 0), 102.29), (datetime.datetime(2014, 7, 10, 0, 0), 102.93), (datetime.datetime(2014, 7, 11, 0, 0), 100.83), (datetime.datetime(2014, 7, 14, 0, 0), 100.91), (datetime.datetime(2014, 7, 15, 0, 0), 99.96), (datetime.datetime(2014, 7, 16, 0, 0), 101.2), (datetime.datetime(2014, 7, 17, 0, 0), 103.19), (datetime.datetime(2014, 7, 18, 0, 0), 103.13), (datetime.datetime(2014, 7, 21, 0, 0), 104.59), (datetime.datetime(2014, 7, 22, 0, 0), 104.42), (datetime.datetime(2014, 7, 23, 0, 0), 103.12), (datetime.datetime(2014, 7, 24, 0, 0), 102.07), (datetime.datetime(2014, 7, 25, 0, 0), 102.09), (datetime.datetime(2014, 7, 28, 0, 0), 101.67), (datetime.datetime(2014, 7, 29, 0, 0), 100.97), (datetime.datetime(2014, 7, 30, 0, 0), 100.27), (datetime.datetime(2014, 7, 31, 0, 0), 98.17), (datetime.datetime(2014, 8, 1, 0, 0), 97.88), (datetime.datetime(2014, 8, 4, 0, 0), 98.29), (datetime.datetime(2014, 8, 5, 0, 0), 97.38), (datetime.datetime(2014, 8, 6, 0, 0), 96.92), (datetime.datetime(2014, 8, 7, 0, 0), 97.34), (datetime.datetime(2014, 8, 8, 0, 0), 97.65), (datetime.datetime(2014, 8, 11, 0, 0), 98.08), (datetime.datetime(2014, 8, 12, 0, 0), 97.37), (datetime.datetime(2014, 8, 13, 0, 0), 97.59), (datetime.datetime(2014, 8, 14, 0, 0), 95.58), (datetime.datetime(2014, 8, 15, 0, 0), 97.35), (datetime.datetime(2014, 8, 18, 0, 0), 96.41), (datetime.datetime(2014, 8, 19, 0, 0), 94.48), (datetime.datetime(2014, 8, 20, 0, 0), 96.07), (datetime.datetime(2014, 8, 21, 0, 0), 93.96), (datetime.datetime(2014, 8, 22, 0, 0), 93.65), (datetime.datetime(2014, 8, 25, 0, 0), 93.35), (datetime.datetime(2014, 8, 26, 0, 0), 93.86), (datetime.datetime(2014, 8, 27, 0, 0), 93.88), (datetime.datetime(2014, 8, 28, 0, 0), 94.55), (datetime.datetime(2014, 8, 29, 0, 0), 95.96), (datetime.datetime(2014, 9, 1, 0, 0), 95.83), (datetime.datetime(2014, 9, 2, 0, 0), 92.88), (datetime.datetime(2014, 9, 3, 0, 0), 95.54), (datetime.datetime(2014, 9, 4, 0, 0), 94.45), (datetime.datetime(2014, 9, 5, 0, 0), 93.29), (datetime.datetime(2014, 9, 8, 0, 0), 92.66), (datetime.datetime(2014, 9, 9, 0, 0), 92.75), (datetime.datetime(2014, 9, 10, 0, 0), 91.67), (datetime.datetime(2014, 9, 11, 0, 0), 92.83), (datetime.datetime(2014, 9, 12, 0, 0), 92.27), (datetime.datetime(2014, 9, 15, 0, 0), 92.92), (datetime.datetime(2014, 9, 16, 0, 0), 94.88), (datetime.datetime(2014, 9, 17, 0, 0), 94.42), (datetime.datetime(2014, 9, 18, 0, 0), 93.07), (datetime.datetime(2014, 9, 19, 0, 0), 92.41), (datetime.datetime(2014, 9, 22, 0, 0), 91.52), (datetime.datetime(2014, 9, 23, 0, 0), 91.56), (datetime.datetime(2014, 9, 24, 0, 0), 92.8), (datetime.datetime(2014, 9, 25, 0, 0), 92.53), (datetime.datetime(2014, 9, 26, 0, 0), 93.54), (datetime.datetime(2014, 9, 29, 0, 0), 94.57), (datetime.datetime(2014, 9, 30, 0, 0), 91.16), (datetime.datetime(2014, 10, 1, 0, 0), 90.73), (datetime.datetime(2014, 10, 2, 0, 0), 91.01), (datetime.datetime(2014, 10, 3, 0, 0), 89.74), (datetime.datetime(2014, 10, 6, 0, 0), 90.34), (datetime.datetime(2014, 10, 7, 0, 0), 88.85), (datetime.datetime(2014, 10, 8, 0, 0), 87.31), (datetime.datetime(2014, 10, 9, 0, 0), 85.77), (datetime.datetime(2014, 10, 10, 0, 0), 85.82), (datetime.datetime(2014, 10, 13, 0, 0), 85.74), (datetime.datetime(2014, 10, 14, 0, 0), 81.84), (datetime.datetime(2014, 10, 15, 0, 0), 81.78), (datetime.datetime(2014, 10, 16, 0, 0), 82.7), (datetime.datetime(2014, 10, 17, 0, 0), 82.75), (datetime.datetime(2014, 10, 20, 0, 0), 82.71), (datetime.datetime(2014, 10, 21, 0, 0), 82.81), (datetime.datetime(2014, 10, 22, 0, 0), 80.52), (datetime.datetime(2014, 10, 23, 0, 0), 82.09), (datetime.datetime(2014, 10, 24, 0, 0), 81.01), (datetime.datetime(2014, 10, 27, 0, 0), 81.0), (datetime.datetime(2014, 10, 28, 0, 0), 81.42), (datetime.datetime(2014, 10, 29, 0, 0), 82.2), (datetime.datetime(2014, 10, 30, 0, 0), 81.12), (datetime.datetime(2014, 10, 31, 0, 0), 80.54), (datetime.datetime(2014, 11, 3, 0, 0), 78.78), (datetime.datetime(2014, 11, 4, 0, 0), 77.19), (datetime.datetime(2014, 11, 5, 0, 0), 78.68), (datetime.datetime(2014, 11, 6, 0, 0), 77.91), (datetime.datetime(2014, 11, 7, 0, 0), 78.65), (datetime.datetime(2014, 11, 10, 0, 0), 77.4), (datetime.datetime(2014, 11, 11, 0, 0), 77.94), (datetime.datetime(2014, 11, 12, 0, 0), 77.18), (datetime.datetime(2014, 11, 13, 0, 0), 74.21), (datetime.datetime(2014, 11, 14, 0, 0), 75.82), (datetime.datetime(2014, 11, 17, 0, 0), 75.64), (datetime.datetime(2014, 11, 18, 0, 0), 74.61), (datetime.datetime(2014, 11, 19, 0, 0), 74.58), (datetime.datetime(2014, 11, 20, 0, 0), 75.58), (datetime.datetime(2014, 11, 21, 0, 0), 76.51), (datetime.datetime(2014, 11, 24, 0, 0), 75.78), (datetime.datetime(2014, 11, 25, 0, 0), 74.09), (datetime.datetime(2014, 11, 26, 0, 0), 73.69), (datetime.datetime(2014, 11, 27, 0, 0), 68.55), (datetime.datetime(2014, 11, 28, 0, 0), 66.15), (datetime.datetime(2014, 12, 1, 0, 0), 69.0), (datetime.datetime(2014, 12, 2, 0, 0), 66.88), (datetime.datetime(2014, 12, 3, 0, 0), 67.38), (datetime.datetime(2014, 12, 4, 0, 0), 66.81), (datetime.datetime(2014, 12, 5, 0, 0), 65.84), (datetime.datetime(2014, 12, 8, 0, 0), 63.05), (datetime.datetime(2014, 12, 9, 0, 0), 63.82), (datetime.datetime(2014, 12, 10, 0, 0), 60.94), (datetime.datetime(2014, 12, 11, 0, 0), 59.95), (datetime.datetime(2014, 12, 12, 0, 0), 57.81), (datetime.datetime(2014, 12, 15, 0, 0), 55.91), (datetime.datetime(2014, 12, 16, 0, 0), 55.93), (datetime.datetime(2014, 12, 17, 0, 0), 56.47), (datetime.datetime(2014, 12, 18, 0, 0), 54.11), (datetime.datetime(2014, 12, 19, 0, 0), 56.52), (datetime.datetime(2014, 12, 22, 0, 0), 55.26), (datetime.datetime(2014, 12, 23, 0, 0), 57.12), (datetime.datetime(2014, 12, 24, 0, 0), 55.84), (datetime.datetime(2014, 12, 25, 0, 0), 55.92), (datetime.datetime(2014, 12, 26, 0, 0), 54.73), (datetime.datetime(2014, 12, 29, 0, 0), 53.61), (datetime.datetime(2014, 12, 30, 0, 0), 54.12), (datetime.datetime(2014, 12, 31, 0, 0), 53.27), (datetime.datetime(2015, 1, 1, 0, 0), 54.56), (datetime.datetime(2015, 1, 2, 0, 0), 52.69), (datetime.datetime(2015, 1, 5, 0, 0), 50.04), (datetime.datetime(2015, 1, 6, 0, 0), 47.93), (datetime.datetime(2015, 1, 7, 0, 0), 48.65), (datetime.datetime(2015, 1, 8, 0, 0), 48.79), (datetime.datetime(2015, 1, 9, 0, 0), 48.36), (datetime.datetime(2015, 1, 12, 0, 0), 46.07), (datetime.datetime(2015, 1, 13, 0, 0), 45.89), (datetime.datetime(2015, 1, 14, 0, 0), 48.48), (datetime.datetime(2015, 1, 15, 0, 0), 46.25), (datetime.datetime(2015, 1, 16, 0, 0), 48.69), (datetime.datetime(2015, 1, 18, 0, 0), 48.85), (datetime.datetime(2015, 1, 19, 0, 0), 47.78), (datetime.datetime(2015, 1, 20, 0, 0), 46.39), (datetime.datetime(2015, 1, 21, 0, 0), 47.78), (datetime.datetime(2015, 1, 22, 0, 0), 46.31), (datetime.datetime(2015, 1, 23, 0, 0), 45.59), (datetime.datetime(2015, 1, 26, 0, 0), 45.15), (datetime.datetime(2015, 1, 27, 0, 0), 46.23), (datetime.datetime(2015, 1, 28, 0, 0), 44.45), (datetime.datetime(2015, 1, 29, 0, 0), 44.53), (datetime.datetime(2015, 1, 30, 0, 0), 48.24), (datetime.datetime(2015, 2, 2, 0, 0), 49.57), (datetime.datetime(2015, 2, 3, 0, 0), 53.05), (datetime.datetime(2015, 2, 4, 0, 0), 48.45), (datetime.datetime(2015, 2, 5, 0, 0), 50.48), (datetime.datetime(2015, 2, 6, 0, 0), 51.69), (datetime.datetime(2015, 2, 9, 0, 0), 52.86), (datetime.datetime(2015, 2, 10, 0, 0), 50.02), (datetime.datetime(2015, 2, 11, 0, 0), 48.84), (datetime.datetime(2015, 2, 12, 0, 0), 51.21), (datetime.datetime(2015, 2, 13, 0, 0), 52.78), (datetime.datetime(2015, 2, 15, 0, 0), 54.06), (datetime.datetime(2015, 2, 16, 0, 0), 53.61), (datetime.datetime(2015, 2, 17, 0, 0), 53.53), (datetime.datetime(2015, 2, 18, 0, 0), 52.14), (datetime.datetime(2015, 2, 19, 0, 0), 51.16), (datetime.datetime(2015, 2, 20, 0, 0), 50.34), (datetime.datetime(2015, 2, 23, 0, 0), 49.45), (datetime.datetime(2015, 2, 24, 0, 0), 49.28), (datetime.datetime(2015, 2, 25, 0, 0), 50.99), (datetime.datetime(2015, 2, 26, 0, 0), 48.17), (datetime.datetime(2015, 2, 27, 0, 0), 49.76), (datetime.datetime(2015, 3, 2, 0, 0), 49.59), (datetime.datetime(2015, 3, 3, 0, 0), 50.52), (datetime.datetime(2015, 3, 4, 0, 0), 51.53), (datetime.datetime(2015, 3, 5, 0, 0), 50.76), (datetime.datetime(2015, 3, 6, 0, 0), 49.61), (datetime.datetime(2015, 3, 9, 0, 0), 50.0), (datetime.datetime(2015, 3, 10, 0, 0), 48.29), (datetime.datetime(2015, 3, 11, 0, 0), 48.17), (datetime.datetime(2015, 3, 12, 0, 0), 47.05), (datetime.datetime(2015, 3, 13, 0, 0), 44.84), (datetime.datetime(2015, 3, 16, 0, 0), 43.88), (datetime.datetime(2015, 3, 17, 0, 0), 43.46), (datetime.datetime(2015, 3, 18, 0, 0), 44.66), (datetime.datetime(2015, 3, 19, 0, 0), 43.96), (datetime.datetime(2015, 3, 20, 0, 0), 45.72), (datetime.datetime(2015, 3, 23, 0, 0), 47.45), (datetime.datetime(2015, 3, 24, 0, 0), 47.51), (datetime.datetime(2015, 3, 25, 0, 0), 49.21), (datetime.datetime(2015, 3, 26, 0, 0), 51.43), (datetime.datetime(2015, 3, 27, 0, 0), 48.87), (datetime.datetime(2015, 3, 30, 0, 0), 48.68), (datetime.datetime(2015, 3, 31, 0, 0), 47.6), (datetime.datetime(2015, 4, 1, 0, 0), 50.09), (datetime.datetime(2015, 4, 2, 0, 0), 49.14), (datetime.datetime(2015, 4, 3, 0, 0), 49.14), (datetime.datetime(2015, 4, 6, 0, 0), 52.14), (datetime.datetime(2015, 4, 7, 0, 0), 53.98), (datetime.datetime(2015, 4, 8, 0, 0), 50.42), (datetime.datetime(2015, 4, 9, 0, 0), 50.79), (datetime.datetime(2015, 4, 10, 0, 0), 51.64), (datetime.datetime(2015, 4, 13, 0, 0), 51.91), (datetime.datetime(2015, 4, 14, 0, 0), 53.29), (datetime.datetime(2015, 4, 15, 0, 0), 56.39), (datetime.datetime(2015, 4, 16, 0, 0), 56.71), (datetime.datetime(2015, 4, 17, 0, 0), 55.74), (datetime.datetime(2015, 4, 20, 0, 0), 56.38), (datetime.datetime(2015, 4, 21, 0, 0), 55.26), (datetime.datetime(2015, 4, 22, 0, 0), 56.16), (datetime.datetime(2015, 4, 23, 0, 0), 57.74), (datetime.datetime(2015, 4, 24, 0, 0), 57.15), (datetime.datetime(2015, 4, 27, 0, 0), 56.99), (datetime.datetime(2015, 4, 28, 0, 0), 57.06), (datetime.datetime(2015, 4, 29, 0, 0), 58.58), (datetime.datetime(2015, 4, 30, 0, 0), 59.63), (datetime.datetime(2015, 5, 1, 0, 0), 59.15), (datetime.datetime(2015, 5, 4, 0, 0), 58.93), (datetime.datetime(2015, 5, 5, 0, 0), 60.4), (datetime.datetime(2015, 5, 6, 0, 0), 60.93), (datetime.datetime(2015, 5, 7, 0, 0), 58.94), (datetime.datetime(2015, 5, 8, 0, 0), 59.39), (datetime.datetime(2015, 5, 11, 0, 0), 59.25), (datetime.datetime(2015, 5, 12, 0, 0), 60.75), (datetime.datetime(2015, 5, 13, 0, 0), 60.5), (datetime.datetime(2015, 5, 14, 0, 0), 59.88), (datetime.datetime(2015, 5, 15, 0, 0), 59.69), (datetime.datetime(2015, 5, 18, 0, 0), 59.43), (datetime.datetime(2015, 5, 19, 0, 0), 57.26), (datetime.datetime(2015, 5, 20, 0, 0), 58.98), (datetime.datetime(2015, 5, 21, 0, 0), 60.72), (datetime.datetime(2015, 5, 22, 0, 0), 59.72), (datetime.datetime(2015, 5, 24, 0, 0), 59.92), (datetime.datetime(2015, 5, 25, 0, 0), 59.85), (datetime.datetime(2015, 5, 26, 0, 0), 58.03), (datetime.datetime(2015, 5, 27, 0, 0), 57.51), (datetime.datetime(2015, 5, 28, 0, 0), 57.68), (datetime.datetime(2015, 5, 29, 0, 0), 60.3), (datetime.datetime(2015, 6, 1, 0, 0), 60.2), (datetime.datetime(2015, 6, 2, 0, 0), 61.26), (datetime.datetime(2015, 6, 3, 0, 0), 59.64), (datetime.datetime(2015, 6, 4, 0, 0), 58.0), (datetime.datetime(2015, 6, 5, 0, 0), 59.13), (datetime.datetime(2015, 6, 8, 0, 0), 58.14), (datetime.datetime(2015, 6, 9, 0, 0), 60.14), (datetime.datetime(2015, 6, 10, 0, 0), 61.43), (datetime.datetime(2015, 6, 11, 0, 0), 60.77), (datetime.datetime(2015, 6, 12, 0, 0), 59.96), (datetime.datetime(2015, 6, 15, 0, 0), 59.52), (datetime.datetime(2015, 6, 16, 0, 0), 59.97), (datetime.datetime(2015, 6, 17, 0, 0), 59.92), (datetime.datetime(2015, 6, 18, 0, 0), 60.45), (datetime.datetime(2015, 6, 19, 0, 0), 59.61), (datetime.datetime(2015, 6, 22, 0, 0), 59.68), (datetime.datetime(2015, 6, 23, 0, 0), 61.01), (datetime.datetime(2015, 6, 24, 0, 0), 60.27), (datetime.datetime(2015, 6, 25, 0, 0), 59.7), (datetime.datetime(2015, 6, 26, 0, 0), 59.63), (datetime.datetime(2015, 6, 29, 0, 0), 58.33), (datetime.datetime(2015, 6, 30, 0, 0), 59.47), (datetime.datetime(2015, 7, 1, 0, 0), 56.96), (datetime.datetime(2015, 7, 2, 0, 0), 56.93), (datetime.datetime(2015, 7, 3, 0, 0), 55.52), (datetime.datetime(2015, 7, 6, 0, 0), 52.53), (datetime.datetime(2015, 7, 7, 0, 0), 52.33), (datetime.datetime(2015, 7, 8, 0, 0), 51.65), (datetime.datetime(2015, 7, 9, 0, 0), 52.78), (datetime.datetime(2015, 7, 10, 0, 0), 52.74), (datetime.datetime(2015, 7, 13, 0, 0), 52.2), (datetime.datetime(2015, 7, 14, 0, 0), 53.04), (datetime.datetime(2015, 7, 15, 0, 0), 51.41), (datetime.datetime(2015, 7, 16, 0, 0), 50.91), (datetime.datetime(2015, 7, 17, 0, 0), 50.89), (datetime.datetime(2015, 7, 20, 0, 0), 50.15), (datetime.datetime(2015, 7, 21, 0, 0), 50.36), (datetime.datetime(2015, 7, 22, 0, 0), 49.19), (datetime.datetime(2015, 7, 23, 0, 0), 48.45), (datetime.datetime(2015, 7, 24, 0, 0), 48.14), (datetime.datetime(2015, 7, 27, 0, 0), 47.39), (datetime.datetime(2015, 7, 28, 0, 0), 47.98), (datetime.datetime(2015, 7, 29, 0, 0), 48.79), (datetime.datetime(2015, 7, 30, 0, 0), 48.52), (datetime.datetime(2015, 7, 31, 0, 0), 47.12), (datetime.datetime(2015, 8, 3, 0, 0), 45.17), (datetime.datetime(2015, 8, 4, 0, 0), 45.74), (datetime.datetime(2015, 8, 5, 0, 0), 45.15), (datetime.datetime(2015, 8, 6, 0, 0), 44.66), (datetime.datetime(2015, 8, 7, 0, 0), 43.87), (datetime.datetime(2015, 8, 10, 0, 0), 44.96), (datetime.datetime(2015, 8, 11, 0, 0), 43.08), (datetime.datetime(2015, 8, 12, 0, 0), 43.3), (datetime.datetime(2015, 8, 13, 0, 0), 42.23), (datetime.datetime(2015, 8, 14, 0, 0), 42.5), (datetime.datetime(2015, 8, 17, 0, 0), 41.87), (datetime.datetime(2015, 8, 18, 0, 0), 42.62), (datetime.datetime(2015, 8, 19, 0, 0), 40.8), (datetime.datetime(2015, 8, 20, 0, 0), 41.14), (datetime.datetime(2015, 8, 21, 0, 0), 40.45), (datetime.datetime(2015, 8, 24, 0, 0), 38.24), (datetime.datetime(2015, 8, 25, 0, 0), 39.31), (datetime.datetime(2015, 8, 26, 0, 0), 38.6), (datetime.datetime(2015, 8, 27, 0, 0), 42.56), (datetime.datetime(2015, 8, 28, 0, 0), 45.22), (datetime.datetime(2015, 8, 31, 0, 0), 49.2), (datetime.datetime(2015, 9, 1, 0, 0), 45.41), (datetime.datetime(2015, 9, 2, 0, 0), 46.25), (datetime.datetime(2015, 9, 3, 0, 0), 46.75), (datetime.datetime(2015, 9, 4, 0, 0), 46.05), (datetime.datetime(2015, 9, 6, 0, 0), 45.72), (datetime.datetime(2015, 9, 7, 0, 0), 44.7), (datetime.datetime(2015, 9, 8, 0, 0), 45.94), (datetime.datetime(2015, 9, 9, 0, 0), 44.15), (datetime.datetime(2015, 9, 10, 0, 0), 45.92), (datetime.datetime(2015, 9, 11, 0, 0), 44.63), (datetime.datetime(2015, 9, 14, 0, 0), 44.0), (datetime.datetime(2015, 9, 15, 0, 0), 44.59), (datetime.datetime(2015, 9, 16, 0, 0), 47.15), (datetime.datetime(2015, 9, 17, 0, 0), 46.9), (datetime.datetime(2015, 9, 18, 0, 0), 44.68), (datetime.datetime(2015, 9, 21, 0, 0), 46.68), (datetime.datetime(2015, 9, 22, 0, 0), 45.83), (datetime.datetime(2015, 9, 23, 0, 0), 44.48), (datetime.datetime(2015, 9, 24, 0, 0), 44.91), (datetime.datetime(2015, 9, 25, 0, 0), 45.7), (datetime.datetime(2015, 9, 28, 0, 0), 44.43), (datetime.datetime(2015, 9, 29, 0, 0), 45.23), (datetime.datetime(2015, 9, 30, 0, 0), 45.09), (datetime.datetime(2015, 10, 1, 0, 0), 44.74), (datetime.datetime(2015, 10, 2, 0, 0), 45.54), (datetime.datetime(2015, 10, 5, 0, 0), 46.26), (datetime.datetime(2015, 10, 6, 0, 0), 48.53), (datetime.datetime(2015, 10, 7, 0, 0), 47.81), (datetime.datetime(2015, 10, 8, 0, 0), 49.43), (datetime.datetime(2015, 10, 9, 0, 0), 49.63), (datetime.datetime(2015, 10, 12, 0, 0), 47.1), (datetime.datetime(2015, 10, 13, 0, 0), 46.66), (datetime.datetime(2015, 10, 14, 0, 0), 46.64), (datetime.datetime(2015, 10, 15, 0, 0), 46.38), (datetime.datetime(2015, 10, 16, 0, 0), 47.26), (datetime.datetime(2015, 10, 19, 0, 0), 45.89), (datetime.datetime(2015, 10, 20, 0, 0), 45.55), (datetime.datetime(2015, 10, 21, 0, 0), 45.2), (datetime.datetime(2015, 10, 22, 0, 0), 45.38), (datetime.datetime(2015, 10, 23, 0, 0), 44.6), (datetime.datetime(2015, 10, 26, 0, 0), 43.98), (datetime.datetime(2015, 10, 27, 0, 0), 43.2), (datetime.datetime(2015, 10, 28, 0, 0), 45.94), (datetime.datetime(2015, 10, 29, 0, 0), 46.06), (datetime.datetime(2015, 10, 30, 0, 0), 46.59), (datetime.datetime(2015, 11, 2, 0, 0), 46.14), (datetime.datetime(2015, 11, 3, 0, 0), 47.9), (datetime.datetime(2015, 11, 4, 0, 0), 46.32), (datetime.datetime(2015, 11, 5, 0, 0), 45.2), (datetime.datetime(2015, 11, 6, 0, 0), 44.29), (datetime.datetime(2015, 11, 9, 0, 0), 43.87), (datetime.datetime(2015, 11, 10, 0, 0), 44.21), (datetime.datetime(2015, 11, 11, 0, 0), 42.93), (datetime.datetime(2015, 11, 12, 0, 0), 41.75), (datetime.datetime(2015, 11, 13, 0, 0), 40.74), (datetime.datetime(2015, 11, 16, 0, 0), 41.74), (datetime.datetime(2015, 11, 17, 0, 0), 40.67), (datetime.datetime(2015, 11, 18, 0, 0), 40.75), (datetime.datetime(2015, 11, 19, 0, 0), 40.54), (datetime.datetime(2015, 11, 20, 0, 0), 40.39), (datetime.datetime(2015, 11, 23, 0, 0), 41.75), (datetime.datetime(2015, 11, 24, 0, 0), 42.87), (datetime.datetime(2015, 11, 25, 0, 0), 43.04), (datetime.datetime(2015, 11, 26, 0, 0), 42.59), (datetime.datetime(2015, 11, 27, 0, 0), 41.71), (datetime.datetime(2015, 11, 30, 0, 0), 41.65), (datetime.datetime(2015, 12, 1, 0, 0), 41.85), (datetime.datetime(2015, 12, 2, 0, 0), 39.94), (datetime.datetime(2015, 12, 3, 0, 0), 41.08), (datetime.datetime(2015, 12, 4, 0, 0), 39.97), (datetime.datetime(2015, 12, 7, 0, 0), 37.65), (datetime.datetime(2015, 12, 8, 0, 0), 37.51), (datetime.datetime(2015, 12, 9, 0, 0), 37.16), (datetime.datetime(2015, 12, 10, 0, 0), 36.76), (datetime.datetime(2015, 12, 11, 0, 0), 35.62), (datetime.datetime(2015, 12, 14, 0, 0), 36.31), (datetime.datetime(2015, 12, 15, 0, 0), 37.35), (datetime.datetime(2015, 12, 16, 0, 0), 35.52), (datetime.datetime(2015, 12, 17, 0, 0), 34.95), (datetime.datetime(2015, 12, 18, 0, 0), 34.73), (datetime.datetime(2015, 12, 21, 0, 0), 34.74), (datetime.datetime(2015, 12, 22, 0, 0), 36.14), (datetime.datetime(2015, 12, 23, 0, 0), 37.5), (datetime.datetime(2015, 12, 24, 0, 0), 38.1), (datetime.datetime(2015, 12, 28, 0, 0), 36.81), (datetime.datetime(2015, 12, 29, 0, 0), 37.87), (datetime.datetime(2015, 12, 30, 0, 0), 36.6), (datetime.datetime(2015, 12, 31, 0, 0), 37.04), (datetime.datetime(2016, 1, 4, 0, 0), 36.76), (datetime.datetime(2016, 1, 5, 0, 0), 35.97), (datetime.datetime(2016, 1, 6, 0, 0), 33.97), (datetime.datetime(2016, 1, 7, 0, 0), 33.27), (datetime.datetime(2016, 1, 8, 0, 0), 33.16), (datetime.datetime(2016, 1, 11, 0, 0), 31.41), (datetime.datetime(2016, 1, 12, 0, 0), 30.44), (datetime.datetime(2016, 1, 13, 0, 0), 30.48), (datetime.datetime(2016, 1, 14, 0, 0), 31.2), (datetime.datetime(2016, 1, 15, 0, 0), 29.42), (datetime.datetime(2016, 1, 17, 0, 0), 29.75), (datetime.datetime(2016, 1, 18, 0, 0), 30.02), (datetime.datetime(2016, 1, 19, 0, 0), 28.46), (datetime.datetime(2016, 1, 20, 0, 0), 26.55), (datetime.datetime(2016, 1, 21, 0, 0), 29.53), (datetime.datetime(2016, 1, 22, 0, 0), 32.19), (datetime.datetime(2016, 1, 24, 0, 0), 32.37), (datetime.datetime(2016, 1, 25, 0, 0), 32.17)]\n"
     ]
    }
   ],
   "source": [
    "# Use pandas\n",
    "from datetime import datetime\n",
    "from datetime import timedelta\n",
    "from itertools import islice\n",
    "%matplotlib inline\n",
    "import numpy as np\n",
    "import statsmodels.api as sm\n",
    "import pandas as pd\n",
    "\n",
    "base_folder = \"monte-carlo-risk/\"\n",
    "\n",
    "factors_folder= base_folder + \"factors/\"\n",
    "\n",
    "# read data from local disk\n",
    "def readInvestingDotComHistory(fname):\n",
    "    def process_line(line):\n",
    "        cols = line.split(\"\\t\")\n",
    "        date = datetime.strptime(cols[0],\"%b %d, %Y\")\n",
    "        value = float(cols[1])\n",
    "        return (date, value)\n",
    "    \n",
    "    with open(fname) as f:\n",
    "        content_w_header = f.readlines()\n",
    "        # remove the first line \n",
    "        # and reverse lines to sort the data by date, in ascending order\n",
    "        content = content_w_header[1:]\n",
    "        data = list(map(process_line,content))\n",
    "        data.sort(key=lambda x:x[0])\n",
    "        return data\n",
    "\n",
    "factor1_files = ['crudeoil.tsv', 'us30yeartreasurybonds.tsv']\n",
    "factor1_files = map(lambda fn: factors_folder + fn, factor1_files)\n",
    "factors1 = [readInvestingDotComHistory(f) for f in factor1_files]\n",
    "print(factors1[0])\n",
    "\n"
   ]
  },
  {
   "cell_type": "markdown",
   "metadata": {},
   "source": [
    "Now, the data structure `factors1` is a list, containing data that pertains to two (out of a total of four) factors that influence the market, as obtained by investing.com. Each element in the list is a tuple, containing some sort of timestamp, and the value of one of the two factors discussed above. From now on, we call these elements \"**records**\" or \"**entries**\". Visually, `factors1` looks like this:\n",
    "\n",
    "| 0 (crude oil) | 1 (US bonds)|\n",
    "| --- | --- |\n",
    "| time_stamp, value | time_stamp, value |\n",
    "| ... | ... |\n",
    "| time_stamp, value | time_stamp, value |\n",
    "| ... | ... |\n"
   ]
  },
  {
   "cell_type": "markdown",
   "metadata": {},
   "source": [
    "#### Question 4.2\n",
    "<div class=\"alert alert-info\">\n",
    "Write a function named `readYahooHistory` to parse data from yahoo.com based on its format, as described in Section 5.3.  \n",
    "<ul></ul>\n",
    "Print the first 5 entries of the first factor (namely GSPC). Comment the time range of the second batch of data we use in our Notebook.  \n",
    "<ul></ul>\n",
    "\n",
    "Note that we are only interested in the date and price of stocks.\n",
    "</div>\n",
    "\n",
    "<div class=\"label label-danger\">NOTE</div> The datetime format now is in a different format than the previous one.\n",
    "\n",
    "<div class=\"label label-success\">HINT</div> Use a terminal (or put the bash commands inline in your Notebook) to list filenames in your local working directory to find and have a look at your local files."
   ]
  },
  {
   "cell_type": "code",
   "execution_count": 86,
   "metadata": {},
   "outputs": [
    {
     "name": "stdout",
     "output_type": "stream",
     "text": [
      "[(datetime.datetime(1950, 1, 3, 0, 0), 16.66), (datetime.datetime(1950, 1, 4, 0, 0), 16.85), (datetime.datetime(1950, 1, 5, 0, 0), 16.93), (datetime.datetime(1950, 1, 6, 0, 0), 16.98), (datetime.datetime(1950, 1, 9, 0, 0), 17.08)]\n"
     ]
    }
   ],
   "source": [
    "\n",
    "# read data from local disk\n",
    "def readYahooHistory(fname):\n",
    "    def process_line(line):\n",
    "        cols = line.split(\",\")\n",
    "        date = datetime.strptime(cols[0],\"%Y-%m-%d\")\n",
    "        value = float(cols[1])\n",
    "        return (date, value)\n",
    "    \n",
    "    with open(fname) as f:\n",
    "        content_w_header = f.readlines()\n",
    "        # remove the first line \n",
    "        # and reverse lines to sort the data by date, in ascending order\n",
    "        content = content_w_header[1:]\n",
    "        data = list(map(process_line,content))\n",
    "        data.sort(key=lambda x:x[0])\n",
    "        return data\n",
    "        \n",
    "\n",
    "\n",
    "factor2_files = [\"GSPC.csv\",\"IXIC.csv\"]\n",
    "factor2_files = map(lambda fn: factors_folder + fn, factor2_files)\n",
    "\n",
    "factors2 = [readYahooHistory(f) for f in factor2_files]\n",
    "\n",
    "print(factors2[0][:5])\n"
   ]
  },
  {
   "cell_type": "markdown",
   "metadata": {},
   "source": [
    "<div class=\"alert alert-warning\">\n",
    "PUT YOUR COMMENT HERE\n",
    "</div>"
   ]
  },
  {
   "cell_type": "markdown",
   "metadata": {},
   "source": [
    "Now, the data structure `factors2` is again list, containing data that pertains to the next two (out of a total of four) factors that influence the market, as obtained by Yahoo!. Each element in the list is a tuple, containing some sort of timestamp, and the value of one of the two factors discussed above. Visually, `factors2` looks like this:\n",
    "\n",
    "| 0 (GSPC) | 1 (IXIC)|\n",
    "| --- | --- |\n",
    "| time_stamp, value | time_stamp, value |\n",
    "| ... | ... |\n",
    "| time_stamp, value | time_stamp, value |\n",
    "| ... | ... |\n"
   ]
  },
  {
   "cell_type": "markdown",
   "metadata": {},
   "source": [
    "### Stock data pre-processing\n",
    "\n",
    "Next, we prepare the data for the instruments we consider in this Notebook (i.e., the stocks we want to invest in). "
   ]
  },
  {
   "cell_type": "markdown",
   "metadata": {},
   "source": [
    "#### Question 4.3\n",
    "\n",
    "<div class=\"alert alert-info\">\n",
    "In this Notebook, we assume that we want to invest on the first 35 stocks out of the total 3000 stocks present in our datasets.\n",
    "\n",
    "<ul></ul>\n",
    "\n",
    "Load and prepare all the data for the considered instruments (the first 35 stocks) which have historical information for more than 5 years. This means that all instruments with less than 5 years of history should be removed.\n",
    "\n",
    "</div>\n",
    "\n",
    "<div class=\"label label-success\">HINT</div> we suggest to open a terminal window (not on your local machine, but the Notebook terminal that you can find on the Jupyter dashboard) and visually check the contents of the directories holding our dataset, if you didn't do this before! Have a look at how stock data is organized!"
   ]
  },
  {
   "cell_type": "code",
   "execution_count": 99,
   "metadata": {},
   "outputs": [
    {
     "name": "stdout",
     "output_type": "stream",
     "text": [
      "[[Timestamp('1992-08-21 00:00:00'), 6.499994999999999], [Timestamp('1992-08-24 00:00:00'), 7.000005000000001], [Timestamp('1992-08-25 00:00:00'), 7.000005000000001], [Timestamp('1992-08-26 00:00:00'), 6.75], [Timestamp('1992-08-27 00:00:00'), 6.75]]\n",
      "[[Timestamp('1992-08-21 00:00:00'), 6.499994999999999], [Timestamp('1992-08-24 00:00:00'), 7.000005000000001], [Timestamp('1992-08-25 00:00:00'), 7.000005000000001], [Timestamp('1992-08-26 00:00:00'), 6.75], [Timestamp('1992-08-27 00:00:00'), 6.75]]\n"
     ]
    }
   ],
   "source": [
    "\n",
    "from os import listdir\n",
    "from os.path import isfile, join\n",
    "\n",
    "stock_folder = base_folder + 'stocks'\n",
    "\n",
    "def process_stock_file(fname):\n",
    "    try:\n",
    "        df = pd.read_csv(fname)[[\"Date\",\"Open\"]]\n",
    "        df[\"Date\"] = pd.to_datetime(df['Date'], format='%Y-%m-%d')\n",
    "        return sorted(df.values.tolist(),key=lambda x:x[0])\n",
    "    except Exception as e:\n",
    "        raise e\n",
    "        return None\n",
    "\n",
    "\n",
    "\n",
    "# select path of all stock data files in \"stock_folder\"\n",
    "files = [join(stock_folder, f) for f in listdir(stock_folder) if isfile(join(stock_folder, f))]\n",
    "\n",
    "# assume that we invest only the first 35 stocks (for faster computation)\n",
    "files = files[:35]\n",
    "\n",
    "# read each line in each file, convert it into the format: (date, value)\n",
    "rawStocks = [process_stock_file(f) for f in files]\n",
    "\n",
    "# select only instruments which have more than 5 years of history\n",
    "# Note: the number of business days in a year is 260\n",
    "number_of_years = 5\n",
    "rawStocks = list(filter(lambda instrument: len(instrument) >= number_of_years * 260, rawStocks))\n",
    "\n",
    "# For testing, print the first 5 entry of the first stock\n"
   ]
  },
  {
   "cell_type": "markdown",
   "metadata": {},
   "source": [
    "### Time alignment for our data\n",
    "Different types of instruments may trade on different days, or the data may have missing values for other reasons, so it is important to make sure that our different histories align. First, we need to trim all of our time series to the same region in time. Then, we need to fill in missing values. To deal with time series that have missing values at the start and end dates in the time region, we simply fill in those dates with nearby values in the time region."
   ]
  },
  {
   "cell_type": "markdown",
   "metadata": {},
   "source": [
    "#### Question 4.4\n",
    "<div class=\"alert alert-info\">\n",
    "Assume that we only focus on the data from 23/01/2009 to 23/01/2014. Write a function named `trimToRegion` to select only the records in that time interval. \n",
    "\n",
    "<ul></ul>\n",
    "\n",
    "**Requirements**: after processing, each instrument $i$ has a list of records: $[r_0, r_2,...,r_{m_i}]$ such that $r_0$ and $r_{m_i}$ are assigned, respectively, the first and the last values corresponding to the extremes of the given time interval. For example: $r_0$ should contain the value at date 23/01/2009.\n",
    "</div>"
   ]
  },
  {
   "cell_type": "code",
   "execution_count": 66,
   "metadata": {},
   "outputs": [
    {
     "name": "stdout",
     "output_type": "stream",
     "text": [
      "[[datetime.datetime(2009, 1, 23, 0, 0), 17.5], [Timestamp('2014-01-23 00:00:00'), 17.5], [Timestamp('2014-01-22 00:00:00'), 17.59], [Timestamp('2014-01-21 00:00:00'), 17.110001], [Timestamp('2014-01-17 00:00:00'), 17.35]]\n",
      "[[Timestamp('2009-01-28 00:00:00'), 3.37], [Timestamp('2009-01-27 00:00:00'), 3.45], [Timestamp('2009-01-26 00:00:00'), 3.47], [Timestamp('2009-01-23 00:00:00'), 3.45], [datetime.datetime(2014, 1, 23, 0, 0), 3.45]]\n"
     ]
    }
   ],
   "source": [
    "\n",
    "# note that the data of crude oil and treasury is only available starting from 26/01/2006 \n",
    "start = datetime(year=2009, month=1, day=23)\n",
    "end = datetime(year=2014, month=1, day=23)\n",
    "\n",
    "def trimToRegion(history, start, end):\n",
    "\n",
    "    def isInTimeRegion(entry):\n",
    "        (date, value) = entry\n",
    "        #date = datetime.strptime(date,\"%Y-%m-%d\")\n",
    "        return date >= start and date <= end\n",
    "\n",
    "    # only select entries which are in the time region\n",
    "    trimmed = list(filter( isInTimeRegion, history))\n",
    "    \n",
    "    # if the data has incorrect time boundaries, add time boundaries\n",
    "    if trimmed[0][0] != start:\n",
    "        trimmed.insert(0, [start, trimmed[0][1]])\n",
    "    if trimmed[-1][0] != end:\n",
    "        trimmed.append([end, trimmed[-1][1]])\n",
    "    return trimmed\n",
    "\n",
    "\n",
    "# test our function\n",
    "trimmedStock0  = trimToRegion(rawStocks[0], start, end)\n",
    "# the first 5 records of stock 0\n",
    "print(trimmedStock0[:5])\n",
    "# the last 5 records of stock 0\n",
    "print(trimmedStock0[-5:])\n",
    "\n",
    "assert(trimmedStock0[0][0] == start), \"the first record must contain the price in the first day of time interval\"\n",
    "assert(trimmedStock0[-1][0] == end), \"the last record must contain the price in the last day of time interval\"\n"
   ]
  },
  {
   "cell_type": "markdown",
   "metadata": {},
   "source": [
    "### Dealing with missing values\n",
    "We expect that we have the price of instruments and factors **in each business day**. Unfortunately, there are many missing values in our data: this means that we miss data for some days, e.g. we have data for the Monday of a certain week, but not for the subsequent Tuesday. So, we need a function that helps filling these missing values.\n",
    "\n",
    "Next, we provide to you the function to fill missing value: read it carefully!"
   ]
  },
  {
   "cell_type": "code",
   "execution_count": 69,
   "metadata": {},
   "outputs": [],
   "source": [
    "def fillInHistory(history, start, end):\n",
    "    curr = history\n",
    "    filled = []\n",
    "    idx = 0\n",
    "    curDate = start\n",
    "    numEntries = len(history)\n",
    "    while curDate < end:\n",
    "        \n",
    "        # if the next entry is in the same day\n",
    "        # or the next entry is at the weekend\n",
    "        # but the curDate has already skipped it and moved to the next monday\n",
    "        # (only in that case, curr[idx + 1][0] < curDate )\n",
    "        # then move to the next entry\n",
    "        while idx + 1 < numEntries and curr[idx + 1][0] == curDate:\n",
    "            idx +=1\n",
    "\n",
    "        # only add the last value of instrument in a single day\n",
    "        # check curDate is weekday or not\n",
    "        # 0: Monday -> 5: Saturday, 6: Sunday\n",
    "        if curDate.weekday() < 5:\n",
    "            \n",
    "            filled.append((curDate, curr[idx][1]))\n",
    "            # move to the next business day\n",
    "            curDate += timedelta(days=1)\n",
    "        \n",
    "        # skip the weekends\n",
    "        elif curDate.weekday() >= 5:\n",
    "            # if curDate is Sat, skip 2 days, otherwise, skip 1 day\n",
    "            curDate += timedelta(days=(7-curDate.weekday()))\n",
    "\n",
    "    return filled"
   ]
  },
  {
   "cell_type": "markdown",
   "metadata": {},
   "source": [
    "#### Question 4.5\n",
    "<div class=\"alert alert-info\">\n",
    "Trim data of stocks and factors into the given time interval.\n",
    "</div>"
   ]
  },
  {
   "cell_type": "code",
   "execution_count": 100,
   "metadata": {},
   "outputs": [
    {
     "name": "stdout",
     "output_type": "stream",
     "text": [
      "the first 5 records of stock 0: [(datetime.datetime(2009, 1, 23, 0, 0), 3.45), (datetime.datetime(2009, 1, 26, 0, 0), 3.47), (datetime.datetime(2009, 1, 27, 0, 0), 3.45), (datetime.datetime(2009, 1, 28, 0, 0), 3.37), (datetime.datetime(2009, 1, 29, 0, 0), 3.35)] \n",
      "\n",
      "the last 5 records of stock 0: [(datetime.datetime(2014, 1, 16, 0, 0), 17.360001), (datetime.datetime(2014, 1, 17, 0, 0), 17.35), (datetime.datetime(2014, 1, 20, 0, 0), 17.35), (datetime.datetime(2014, 1, 21, 0, 0), 17.110001), (datetime.datetime(2014, 1, 22, 0, 0), 17.59)] \n",
      "\n",
      "the first 5 records of factor 0: [(datetime.datetime(2009, 1, 23, 0, 0), 46.47), (datetime.datetime(2009, 1, 26, 0, 0), 45.73), (datetime.datetime(2009, 1, 27, 0, 0), 41.58), (datetime.datetime(2009, 1, 28, 0, 0), 42.16), (datetime.datetime(2009, 1, 29, 0, 0), 41.44)] \n",
      "\n",
      "the first 5 records of factor 0: [(datetime.datetime(2014, 1, 16, 0, 0), 93.96), (datetime.datetime(2014, 1, 17, 0, 0), 94.37), (datetime.datetime(2014, 1, 20, 0, 0), 93.93), (datetime.datetime(2014, 1, 21, 0, 0), 94.99), (datetime.datetime(2014, 1, 22, 0, 0), 96.73)] \n",
      "\n"
     ]
    }
   ],
   "source": [
    "\n",
    "\n",
    "# trim into a specific time region\n",
    "# and fill up the missing values\n",
    "stocks = list(map(lambda stock: \\\n",
    "            fillInHistory(\n",
    "                trimToRegion(stock, start, end), \n",
    "            start, end), \n",
    "        rawStocks))\n",
    "\n",
    "\n",
    "\n",
    "# merge two factors, trim each factor into a time region\n",
    "# and fill up the missing values\n",
    "allfactors = factors1 + factors2\n",
    "factors = list(map(lambda factor: fillInHistory(\n",
    "                       trimToRegion(factor,start,end),\n",
    "                   start,end),\n",
    "                   allfactors))\n",
    "            \n",
    "# test our code\n",
    "print(\"the first 5 records of stock 0:\", stocks[0][:5], \"\\n\")\n",
    "print(\"the last 5 records of stock 0:\", stocks[0][-5:], \"\\n\")\n",
    "print(\"the first 5 records of factor 0:\", factors[0][:5], \"\\n\")\n",
    "print(\"the first 5 records of factor 0:\", factors[0][-5:], \"\\n\")\n"
   ]
  },
  {
   "cell_type": "markdown",
   "metadata": {},
   "source": [
    "Recall that Value at Risk (VaR) deals with **losses over a particular time horizon**. We are not concerned with the absolute prices of instruments, but how those prices **change over** a given period of time. In our project, we will set that length to two weeks: we use the sliding window method to transform time series of prices into an overlapping sequence of price change over two-week intervals.\n",
    "\n",
    "The figure below illustrates this process. The returns of market factors after each two-week interval is calculated in the very same way.\n",
    "\n",
    "![](https://dl.dropboxusercontent.com/s/r9ucsicichb6gjh/two-week-time-interval.svg)"
   ]
  },
  {
   "cell_type": "code",
   "execution_count": 101,
   "metadata": {},
   "outputs": [],
   "source": [
    "def buildWindow(seq, k=2):\n",
    "    \"Returns a sliding window (of width k) over data from iterable data structures\"\n",
    "    \"   s -> (s0,s1,...s[k-1]), (s1,s2,...,sk), ...                   \"\n",
    "    it = iter(seq)\n",
    "    result = tuple(islice(it, k))\n",
    "    if len(result) == k:\n",
    "        yield result  \n",
    "    for elem in it:\n",
    "        result = result[1:] + (elem,)\n",
    "        yield result"
   ]
  },
  {
   "cell_type": "markdown",
   "metadata": {},
   "source": [
    "#### Question 4.6\n",
    "<div class=\"alert alert-info\">\n",
    "Compute the returns of the stocks after each two-week time window.\n",
    "</div>"
   ]
  },
  {
   "cell_type": "code",
   "execution_count": 102,
   "metadata": {},
   "outputs": [
    {
     "name": "stdout",
     "output_type": "stream",
     "text": [
      "the first 5 returns of stock 0: [-0.20000000000000018, -0.26000000000000023, -0.20000000000000018, -0.1200000000000001, -0.1200000000000001]\n",
      "the last 5 returns of stock 0: [3.510001000000001, 3.0000000000000018, 3.6400000000000006, 3.6900010000000005, 4.109999999999999]\n"
     ]
    }
   ],
   "source": [
    "\n",
    "def calculateReturn(window):\n",
    "    # return the change of value after two weeks\n",
    "    return window[-1][1] - window[0][1]\n",
    "\n",
    "def twoWeekReturns(history):\n",
    "    # we use 10 instead of 14 to define the window\n",
    "    # because financial data does not include weekends\n",
    "    return [calculateReturn(entry) for entry in buildWindow(history, 10)]\n",
    "\n",
    "stocksReturns = list(map(twoWeekReturns, stocks))\n",
    "factorsReturns = list(map(twoWeekReturns, factors))\n",
    "\n",
    "# test our functions\n",
    "print(\"the first 5 returns of stock 0:\", stocksReturns[0][:5])\n",
    "print(\"the last 5 returns of stock 0:\", stocksReturns[0][-5:])\n"
   ]
  },
  {
   "cell_type": "markdown",
   "metadata": {},
   "source": [
    "Alright! Now we have data that is properly aligned to start the training process: stocks' returns and factors' returns, per time windows of two weeks. Next, we will apply the MCS method."
   ]
  },
  {
   "cell_type": "markdown",
   "metadata": {},
   "source": [
    "## 5.5. Summary guidelines to apply the MCS method on the data we prepared\n",
    "Next, we overview the steps that you have to follow to build a model of your data, and then use Monte Carlo simulations to produce output distributions:\n",
    "\n",
    "- **Step 1**: Defining the relationship between the market factors and the instrument's returns. This relationship takes the form of a model fitted to historical data.\n",
    "- **Step 2**: Defining the distributions for the market conditions (particularly, the returns of factors) that are straightforward to sample from. These distributions are fitted to historical data. \n",
    "- **Step 3**: Generate the data for each trial of a Monte Carlo run: this amount to generating the random values for market conditions along with these distributions.\n",
    "- **Step 4**: For each trial, from the above values of market conditions, and using the relationship built in step 1, we calculate the return for each instrument and the total return. We use the returns to define an empirical distribution over losses. This means that, if we run 100 trials and want to estimate the 5% VaR, we would choose it as the loss from the trial with the fifth greatest loss.\n",
    "- **Step 5**: Evaluating the result"
   ]
  },
  {
   "cell_type": "markdown",
   "metadata": {},
   "source": [
    "## 5.6. Applying MCS\n",
    "\n",
    "### Step 1: Defining relationship between market factors and instrument's returns\n",
    "\n",
    "In our simulation, we will use a simple linear model. By our definition of return, a factor return is a **change** in the value of a market factor **over a particular time period**, e.g. if the value of the S&P 500 moves from 2000 to 2100 over a time interval, its return would be 100.\n",
    "\n",
    "A vector that contains the return of 4 market factors is called a *market factor vector*. Generally, instead of using this vector as features, we derive a set of features from simple transformation of it. In particular, a vector of 4 values is transformed into a vector of length $m$ by function $F$. In the simplest case $F(v) = v$.\n",
    "\n",
    "Denote $v_t$ the market factor vector, and $f_t$ the transformed features of $v_t$ at time $t$.\n",
    "\n",
    "$f_{tj}$ is the value of feature $j$ in $f_t$.\n",
    "\n",
    "Denote $r_{it}$ the return of instrument $i$ at time $t$ and $c_i$ the [intercept term](http://blog.minitab.com/blog/adventures-in-statistics/regression-analysis-how-to-interpret-the-constant-y-intercept) of instrument $i$.\n",
    "\n",
    "We will use a simple linear function to calculate $r_{it}$ from $f_t$:\n",
    "\n",
    "$$\n",
    "r_{it} = c_i + \\sum_{j=1}^{m}{w_{ij}*f_{tj}}\n",
    "$$\n",
    "\n",
    "where $w_{ij}$ is the weight of feature $j$ for instrument $i$.\n",
    "\n",
    "All that above means that given a market factor vector, we have to apply featurization and then use the result as a surrogate for calculating the return of the instruments, using the above linear function.\n",
    "\n",
    "There are two questions that we should consider: **how we apply featurization to a factor vector?** and **how to pick values for $w_{ij}$?**\n",
    "\n",
    "**How we apply featurization to a factor vector?**\n",
    "In fact, the instruments' returns may be non-linear functions of the factor returns. So, we should not use factor returns as features in the above linear function. Instead, we transform them into a set of features with different size. In this Notebook, we can include some additional features in our model that we derive from non-linear transformations of the factor returns. We will try adding two more features for each factor return: its square and its square root values. So, we can still assume that our model is a linear model in the sense that the response variable is a linear function of the new features. *Note that the particular feature transformation described here is meant to be an illustrative example of some of the options that are available: it shouldn't be considered as the state of the art in predictive financial modeling!!*.\n",
    "\n",
    "**How to pick values for $w_{ij}$?**\n",
    "\n",
    "For all the market factor vectors in our historical data, we transform them to feature vectors. Now, we have feature vectors in many two-week intervals and the corresponding instrument's returns in these intervals. We can use Ordinary Least Square (OLS) regression model to estimate the weights for each instrument such that our linear function can fit to the data. The parameters for OLS function are:\n",
    "\n",
    "- `x`: The collection of columns where **each column** is the value of **a feature** in many two-week interval\n",
    "- `y`: The return of an instrument in the corresponding time interval of x."
   ]
  },
  {
   "cell_type": "markdown",
   "metadata": {},
   "source": [
    "The figure below shows the basic idea of the process to build a statistical model for predicting the returns of stock X.\n",
    "\n",
    "![](https://dl.dropboxusercontent.com/s/kbjtwmnr4w31uev/process-build-model3.svg)\n"
   ]
  },
  {
   "cell_type": "markdown",
   "metadata": {},
   "source": [
    "### Question 5\n",
    "#### Question 5.1\n",
    "\n",
    "<div class=\"alert alert-info\">\n",
    "Currently, our data is in form of:  \n",
    "\n",
    "$$\n",
    "factorsReturns=\n",
    "\\begin{bmatrix}\n",
    " r_{00} & r_{01} & r_{02} & ... & r_{0k} \\\\\n",
    " r_{10} & r_{11} & r_{12} & ... & r_{1k} \\\\\n",
    " ... & ... & ... & ... & ... \\\\\n",
    " r_{n0} & r_{n1} & r_{n2} & ... & r_{nk}\\\\\n",
    "\\end{bmatrix}\n",
    "$$\n",
    "\n",
    "<ul></ul>\n",
    "\n",
    "$$\n",
    "stocksReturns=\n",
    "\\begin{bmatrix}\n",
    " s_{00} & s_{01} & s_{02} & ... & s_{0k} \\\\\n",
    " s_{10} & s_{11} & s_{12} & ... & s_{1k} \\\\\n",
    " ... & ... & ... & ... & ... \\\\\n",
    " s_{n0} & s_{n1} & s_{n2} & ... & s_{nk}\\\\\n",
    "\\end{bmatrix}\n",
    "$$\n",
    "\n",
    "<ul></ul>\n",
    "\n",
    "Where, $r_{ij}$ is the return of factor $i^{th}$ in time window $j^{th}$, $k$ is the number of time windows, and $n$ is the number of factors. A similar definition goes for $s_{ij}$.\n",
    "\n",
    "<ul></ul>\n",
    "\n",
    "In order to use OLS, the parameter must be in form of:\n",
    "\n",
    "<ul></ul>\n",
    "\n",
    "$$\n",
    "x=factorsReturns^T =\n",
    "\\begin{bmatrix}\n",
    " r_{00} & r_{10} & ... & r_{n0} \\\\\n",
    " r_{01} & r_{11} & ... & r_{n1} \\\\\n",
    " r_{02} & r_{12} & ... & r_{n2}\\\\\n",
    " ... & ... & ... & ... \\\\\n",
    " r_{0k} & r_{1k} & ... & r_{nk}\\\\\n",
    "\\end{bmatrix}\n",
    "$$\n",
    "\n",
    "<ul></ul>\n",
    "\n",
    "Whereas, $y$ can be any row in `stocksReturns`.\n",
    "\n",
    "<ul></ul>\n",
    "\n",
    "So, we need a function to transpose a matrix. Write a function named `transpose` to do just that.\n",
    "</div>"
   ]
  },
  {
   "cell_type": "code",
   "execution_count": 114,
   "metadata": {},
   "outputs": [
    {
     "name": "stdout",
     "output_type": "stream",
     "text": [
      "[[1, 4, 7], [2, 5, 8], [3, 6, 9]]\n"
     ]
    }
   ],
   "source": [
    "\n",
    "def transpose(matrix):\n",
    "    return np.matrix(matrix,copy=False).T.tolist()\n",
    "\n",
    "\n",
    "# test function\n",
    "assert (transpose([[1,2,3], [4,5,6], [7,8,9]]) == [[1, 4, 7], [2, 5, 8], [3, 6, 9]]), \"Function transpose runs incorrectly\"\n",
    "print(transpose([[1,2,3], [4,5,6], [7,8,9]]))"
   ]
  },
  {
   "cell_type": "markdown",
   "metadata": {},
   "source": [
    "#### Question 5.2\n",
    "<div class=\"alert alert-info\">\n",
    "Write a function named `featurize` that takes a list factor's returns $[x_1, x_2,...,x_k]$ and transform it into a new list of features $[u_1,u_2,..,u_k, v_1, v_2,..,v_k, x_1,x_2,...,x_k]$.\n",
    "\n",
    "<ul></ul>\n",
    "\n",
    "Where,  \n",
    "\n",
    "\n",
    "$u_i$ = $\\left\\{\n",
    "\t\\begin{array}{ll}\n",
    "\t\tx_i^2 & \\mbox{if } x_i \\geq 0 \\\\\n",
    "\t\t-x_i^2 & \\mbox{if } x_i < 0\n",
    "\t\\end{array}\n",
    "\\right.\n",
    "$\n",
    "\n",
    "<ul></ul>\n",
    "\n",
    "and  \n",
    "\n",
    "$v_i$ = $\\left\\{\n",
    "\t\\begin{array}{ll}\n",
    "\t\t\\sqrt{x_i} & \\mbox{if } x_i \\geq 0 \\\\\n",
    "\t\t-\\sqrt{x_i} & \\mbox{if } x_i < 0\n",
    "\t\\end{array}\n",
    "\\right.\n",
    "$  \n",
    "\n",
    "</div>"
   ]
  },
  {
   "cell_type": "code",
   "execution_count": 188,
   "metadata": {},
   "outputs": [],
   "source": [
    "from math import sqrt\n",
    "\n",
    "def featurize(factorReturns):\n",
    "    squaredReturns = [-x**2 if x<0 else x**2 for x in factorReturns]\n",
    "    squareRootedReturns = [-sqrt(abs(x)) if x<0 else sqrt(abs(x)) for x in factorReturns]\n",
    "    # concat new features\n",
    "    return np.concatenate([squaredReturns,squareRootedReturns,factorReturns])\n",
    "\n",
    "\n",
    "# test our function\n",
    "assert (featurize([4, -9, 25]).tolist() == [16, -81, 625, 2, -3, 5, 4, -9, 25]), \"Function runs incorrectly\""
   ]
  },
  {
   "cell_type": "markdown",
   "metadata": {},
   "source": [
    "#### Question 5.3\n",
    "<div class=\"alert alert-info\">\n",
    "Using OLS, estimate the weights for each feature on each stock. What is the shape of `weights` (size of each dimension)?  \n",
    "\n",
    "Explain it.\n",
    "</div>"
   ]
  },
  {
   "cell_type": "code",
   "execution_count": 124,
   "metadata": {},
   "outputs": [
    {
     "name": "stdout",
     "output_type": "stream",
     "text": [
      "Shape of weights: (27, 13)\n"
     ]
    }
   ],
   "source": [
    "\n",
    "def estimateParams(y, x):\n",
    "    return sm.OLS(y, x).fit().params\n",
    "\n",
    "# transpose factorsReturns\n",
    "factorMat = transpose(factorsReturns)\n",
    "\n",
    "# featurize each row of factorMat\n",
    "factorFeatures = list(map(featurize,factorMat))\n",
    "\n",
    "# OLS require parameter is a numpy array\n",
    "factor_columns = np.array(factorFeatures)\n",
    "\n",
    "#add a constant - the intercept term for each instrument i.\n",
    "factor_columns = sm.add_constant(factor_columns, prepend=True)\n",
    "\n",
    "# estimate weights\n",
    "weights = [estimateParams(stockReturns, factor_columns) for stockReturns in stocksReturns]\n",
    "\n",
    "#print(\"weights:\", weights)\n",
    "print(\"Shape of weights:\", np.array(weights).shape)\n"
   ]
  },
  {
   "cell_type": "markdown",
   "metadata": {},
   "source": [
    "<div class=\"alert alert-warning\">\n",
    "\n",
    "PUT YOUR ANSWER HERE\n",
    "\n",
    "</div>"
   ]
  },
  {
   "cell_type": "markdown",
   "metadata": {},
   "source": [
    "### Step 2: Defining the distributions for the market conditions\n",
    "Since we cannot define the distributions for the market factors directly, we can only approximate their distribution.\n",
    "The best way to do that, is plotting their value. However, these values may fluctuate quite a lot. \n",
    "\n",
    "Next, we show how to use the Kernel density estimation (KDE) technique to approximate such distributions. In brief, kernel density estimation is a way of smoothing out a histogram: this is achieved by assigning (or centering) a probability distribution (usually a normal distribution) to each data point, and then summing. So, a set of two-week-return samples would result in a large number of \"super-imposed\" normal distributions, each with a different mean. \n",
    "\n",
    "To estimate the probability density at a given point, KDE evaluates the PDFs of all the normal distributions at that point and takes their average. The smoothness of a kernel density plot depends on its *bandwidth*, and the standard deviation of each of the normal distributions. For a brief introduction on KDE, please refer to this [link](https://en.wikipedia.org/wiki/Kernel_density_estimation)."
   ]
  },
  {
   "cell_type": "code",
   "execution_count": 242,
   "metadata": {
    "scrolled": true
   },
   "outputs": [
    {
     "data": {
      "image/png": "[encoded data removed]",
      "text/plain": [
       "<Figure size 1080x360 with 1 Axes>"
      ]
     },
     "metadata": {},
     "output_type": "display_data"
    },
    {
     "data": {
      "image/png": "[encoded data removed]",
      "text/plain": [
       "<Figure size 1080x360 with 1 Axes>"
      ]
     },
     "metadata": {},
     "output_type": "display_data"
    },
    {
     "data": {
      "image/png": "[encoded data removed]",
      "text/plain": [
       "<Figure size 1080x360 with 1 Axes>"
      ]
     },
     "metadata": {},
     "output_type": "display_data"
    },
    {
     "data": {
      "image/png": "[encoded data removed]",
      "text/plain": [
       "<Figure size 1080x360 with 1 Axes>"
      ]
     },
     "metadata": {},
     "output_type": "display_data"
    }
   ],
   "source": [
    "from statsmodels.nonparametric.kernel_density import KDEMultivariate\n",
    "from statsmodels.nonparametric.kde import KDEUnivariate\n",
    "import matplotlib.pyplot as plt\n",
    "import scipy\n",
    "\n",
    "def plotDistribution(samples):\n",
    "    vmin = min(samples)\n",
    "    vmax = max(samples)\n",
    "    stddev = np.std(samples)\n",
    "    \n",
    "    domain = np.arange(vmin, vmax, (vmax-vmin)/100)\n",
    "    \n",
    "    # a simple heuristic to select bandwidth\n",
    "    bandwidth = 1.06 * stddev * pow(len(samples), -.2)\n",
    "    \n",
    "    # estimate density\n",
    "    kde = KDEUnivariate(samples)\n",
    "    kde.fit(bw=bandwidth)\n",
    "    density = kde.evaluate(domain)\n",
    "    \n",
    "    # plot\n",
    "    plt.figure(figsize=(15,5))\n",
    "    plt.plot(domain, density)\n",
    "    plt.show()\n",
    "\n",
    "plotDistribution(factorsReturns[0])\n",
    "plotDistribution(factorsReturns[1])\n",
    "plotDistribution(factorsReturns[2])\n",
    "plotDistribution(factorsReturns[3])"
   ]
  },
  {
   "cell_type": "markdown",
   "metadata": {},
   "source": [
    "For the sake of simplicity, we can say that our smoothed versions of the returns of each factor can be represented quite well by a normal distribution. Of course, more exotic distributions, perhaps with fatter tails, could fit more closely the data, but it is outside the scope of this Notebook to proceed in this way.\n",
    "\n",
    "Now, the simplest way to sample factors returns is to use a normal distribution for each of the factors, and sample from these distributions independently. However, this approach ignores the fact that market factors are often correlated. For example, when the price of crude oil is down, the price of treasury bonds is down too. We can check our data to verify about the correlation."
   ]
  },
  {
   "cell_type": "markdown",
   "metadata": {},
   "source": [
    "### Question 6\n",
    "\n",
    "#### Question 6.1\n",
    "<div class=\"alert alert-info\">\n",
    "\n",
    "Calculate the correlation between market factors and explain the result.\n",
    "\n",
    "</div>\n",
    "\n",
    "<div class=\"label label-success\">HINT</div> function `np.corrcoef` might be useful."
   ]
  },
  {
   "cell_type": "code",
   "execution_count": 118,
   "metadata": {},
   "outputs": [
    {
     "data": {
      "text/plain": [
       "array([[1.        , 0.38788549, 0.414966  , 0.44278612],\n",
       "       [0.38788549, 1.        , 0.49561525, 0.53478223],\n",
       "       [0.414966  , 0.49561525, 1.        , 0.92053356],\n",
       "       [0.44278612, 0.53478223, 0.92053356, 1.        ]])"
      ]
     },
     "execution_count": 118,
     "metadata": {},
     "output_type": "execute_result"
    }
   ],
   "source": [
    "\n",
    "correlation = np.corrcoef(factorsReturns)\n",
    "correlation\n"
   ]
  },
  {
   "cell_type": "markdown",
   "metadata": {},
   "source": [
    "<div class=\"comment\">\n",
    "\n",
    "PUT YOUR COMMENT HERE\n",
    "\n",
    "</div>"
   ]
  },
  {
   "cell_type": "markdown",
   "metadata": {},
   "source": [
    "The multivariate normal distribution can help here by taking the correlation information between the factors into account. Each sample from a multivariate normal distribution can be thought of as a vector. Given values for all of the dimensions but one, the distribution of values along that dimension is normal. But, in their joint distribution, the variables are not independent.\n",
    "\n",
    "For this use case, we can write:\n",
    "\n",
    "$$\n",
    "\\left(\\begin{array}{c}f_{1}\\\\f_{2}\\\\f_{3}\\\\f_{4} \\end{array}\\right)\n",
    "\\sim N \n",
    "\\left[\n",
    "  \\left(\n",
    "    \\begin{array}{c}\n",
    "      \\mu_1\\\\ \\mu_2 \\\\ \\mu_3 \\\\ \\mu_4 \n",
    "    \\end{array}\n",
    "  \\right), \n",
    "  \\left(\n",
    "    \\begin{array}{cccc}\n",
    "      \\sigma^2_1 & \\rho_{12} \\sigma_1\\sigma_2 & \\rho_{13} \\sigma_1\\sigma_3 & \\rho_{14} \\sigma_1\\sigma_4 \\\\ \n",
    "      \\rho_{12}\\sigma_2\\sigma_1 & \\sigma^2_2 & \\rho_{23} \\sigma_2\\sigma_3 & \\rho_{24} \\sigma_2\\sigma_4\\\\\n",
    "      \\rho_{13} \\sigma_3\\sigma_1 & \\rho_{23} \\sigma_3\\sigma_2 & \\sigma^2_3 & \\rho_{34} \\sigma_3\\sigma_4 \\\\ \n",
    "      \\rho_{14} \\sigma_4\\sigma_1 & \\rho_{24} \\sigma_4\\sigma_2 & \\rho_{34} \\sigma_3\\sigma_4 & \\sigma_4^2 \\\\ \n",
    "    \\end{array}\n",
    "  \\right)\n",
    "\\right]\n",
    "$$\n",
    "\n",
    "Or,\n",
    "\n",
    "$$\n",
    "f_t \\sim N(\\mu, \\sum)\n",
    "$$\n",
    "\n",
    "Where $f_1$, $f_2$, $f_3$ and $f_4$ are the market factors, $\\sigma_i$ is the standard deviation of factor $i$, $\\mu$ is a vector of the empirical means of the returns of the factors and $\\sum$ is the empirical covariance matrix of the returns of the factors.\n",
    "\n",
    "The multivariate normal is parameterized with a mean along each dimension and a matrix describing the covariance between each pair of dimensions. When the covariance matrix is diagonal, the multivariate normal reduces to sampling along each dimension independently, but placing non-zero values in the off-diagonals helps capture the relationships between variables. Whenever having the mean of this multivariate normal distribution and its covariance matrix, we can generate the sample values for market factors.\n",
    "\n",
    "Next, we will calculate the mean and the covariance matrix of this multivariate normal distribution from the historical data.\n"
   ]
  },
  {
   "cell_type": "markdown",
   "metadata": {},
   "source": [
    "#### Question 6.2\n",
    "<div class=\"alert alert-info\">\n",
    "\n",
    "Calculate the covariance matrix $\\sum$ and the means $\\mu$ of factors' returns then generate a random vector of factors return that follows a multivariate normal distribution $\\sim N(\\mu, \\sum)$\n",
    "\n",
    "</div>\n",
    "\n",
    "<div class=\"label label-success\">HINT</div>\n",
    "Function `np.cov` can help calculating covariance matrix. Function `np.random.multivariate_normal(<mean>, <cov>)` is often used for generating samples."
   ]
  },
  {
   "cell_type": "code",
   "execution_count": 121,
   "metadata": {},
   "outputs": [
    {
     "name": "stdout",
     "output_type": "stream",
     "text": [
      "[[2.03712313e+01 2.63083547e-01 6.74442782e+01 1.63697774e+02]\n",
      " [2.63083547e-01 2.25820330e-02 2.68194668e+00 6.58261761e+00]\n",
      " [6.74442782e+01 2.68194668e+00 1.29672509e+03 2.71521187e+03]\n",
      " [1.63697774e+02 6.58261761e+00 2.71521187e+03 6.70934736e+03]]\n",
      "[0.35908880308880364, -0.0013135135135135005, 6.970339789189207, 18.737721800000003]\n",
      "[3.40194632e+00 1.47902487e-01 4.56781022e+01 1.78582937e+02]\n"
     ]
    }
   ],
   "source": [
    "\n",
    "factorCov = np.cov(factorsReturns)\n",
    "factorMeans = [sum(factorReturn)/len(factorReturn) for factorReturn in factorsReturns]\n",
    "sample = np.random.multivariate_normal(factorMeans,factorCov)\n",
    "print(factorCov)\n",
    "print(factorMeans)\n",
    "print(sample)\n"
   ]
  },
  {
   "cell_type": "markdown",
   "metadata": {},
   "source": [
    "### Step 3&4: Generating samples, running simulation and calculating the VaR"
   ]
  },
  {
   "cell_type": "markdown",
   "metadata": {},
   "source": [
    "We define some functions that helps us calculating VaR 5%. You will see that the functions below are pretty complicated! This is why we provide a solution for you: however, study them well!!\n",
    "\n",
    "The basic idea of calculating VaR 5% is that we need to find a value such that only 5% of the losses are bigger than it. That means the 5th percentile of the losses should be VaR 5%.\n",
    "\n",
    "VaR can sometimes be problematic though, since it does give any information on the extent of the losses which can exceed the VaR estimate. CVar is an extension of VaR that is introduced to deal with this problem. Indeed, CVaR measures the expected value of the loss in those cases where VaR estimate has been exceeded."
   ]
  },
  {
   "cell_type": "code",
   "execution_count": 146,
   "metadata": {},
   "outputs": [],
   "source": [
    "def fivePercentVaR(trials):\n",
    "    numTrials = trials.count()\n",
    "    topLosses = trials.takeOrdered(max(round(numTrials/20.0), 1))\n",
    "    return topLosses[-1]\n",
    "\n",
    "# an extension of VaR\n",
    "def fivePercentCVaR(trials):\n",
    "    numTrials = trials.count()\n",
    "    topLosses = trials.takeOrdered(max(round(numTrials/20.0), 1))\n",
    "    return sum(topLosses)/len(topLosses)\n",
    "\n",
    "def bootstrappedConfidenceInterval(\n",
    "      trials, computeStatisticFunction,\n",
    "      numResamples, pValue):\n",
    "    stats = []\n",
    "    for i in range(0, numResamples):\n",
    "        resample = trials.sample(True, 1.0)\n",
    "        stats.append(computeStatisticFunction(resample))\n",
    "    sorted(stats)\n",
    "    lowerIndex = int(numResamples * pValue / 2 - 1)\n",
    "    upperIndex = int(np.ceil(numResamples * (1 - pValue / 2)))\n",
    "    return (stats[lowerIndex], stats[upperIndex])"
   ]
  },
  {
   "cell_type": "markdown",
   "metadata": {},
   "source": [
    "Next, we will run the Monte Carlo simulation 10,000 times, in parallel using Spark. Since your cluster has 12 cores (two Spark worker nodes, each with 6 cores), we can set `parallelism = 12` to dispatch simulation on these cores, across the two machines (remember, those are not really \"physical machines\", they are Docker containers running in our infrastructure)."
   ]
  },
  {
   "cell_type": "markdown",
   "metadata": {},
   "source": [
    "### Question 7\n",
    "<div class=\"alert alert-info\">\n",
    "Complete the code below to define the simulation process and calculate VaR 5%.\n",
    "</div>"
   ]
  },
  {
   "cell_type": "code",
   "execution_count": 245,
   "metadata": {},
   "outputs": [
    {
     "name": "stdout",
     "output_type": "stream",
     "text": [
      "0.00429844856262207\n",
      "10\n",
      "0.0013194084167480469\n",
      "[-14.44155956 -10.90222085]\n"
     ]
    }
   ],
   "source": [
    "import time\n",
    "# RUN SILMULATION\n",
    "def simulateTrialReturns(numTrials, factorMeans, factorCov, weights):\n",
    "    trialReturns = []\n",
    "    for i in range(0, numTrials):\n",
    "        # generate sample of factors' returns\n",
    "        trialFactorReturns = np.random.multivariate_normal(factorMeans, factorCov)\n",
    "\n",
    "        # featurize the factors' returns\n",
    "        trialFeatures = featurize(trialFactorReturns).tolist()\n",
    "        \n",
    "        # insert weight for intercept term\n",
    "        trialFeatures.insert(0,1)\n",
    "        \n",
    "        # calculate the return of each instrument\n",
    "        # then calulate the total of return for this trial features\n",
    "        #trialTotalReturn = np.sum([w * trialFeatures for w in weights],axis = 0)\n",
    "        trialTotalReturn = np.dot(weights,transpose(trialFeatures))\n",
    "        #print(np.array([w * trialFeatures for w in weights]))\n",
    "        trialReturns.append(trialTotalReturn)\n",
    "    return np.sum(trialReturns,axis=1)\n",
    "\n",
    "t1 = time.time()\n",
    "result = simulateTrialReturns(10, factorMeans,factorCov,weights)\n",
    "t2 = time.time()\n",
    "print(t2-t1)\n",
    "print(len(np.array(result)))\n",
    "\n",
    "def betterSimulatedTrialsReturn(numTrials, factorMeans, factorCov, weights):\n",
    "    # generate samples of factors' returns\n",
    "    trialFactorReturns = np.random.multivariate_normal(factorMeans, factorCov,size=numTrials)\n",
    "    # featurize the factors' returns\n",
    "    trialFeatures = list(map(featurize,trialFactorReturns))\n",
    "    #print(trialFeatures)\n",
    "    # insert weight for intercept term\n",
    "    trialFeatures = np.insert(trialFeatures, 0, 1, axis=1)\n",
    "\n",
    "    # calculate the return of each instrument\n",
    "    # then calulate the total of return for this trial features\n",
    "    trialTotalReturn = np.dot(weights,trialFeatures.T)\n",
    "    return trialTotalReturn.sum(axis=0)\n",
    "t1 = time.time()\n",
    "result = betterSimulatedTrialsReturn(2, factorMeans,factorCov,weights)\n",
    "t2 = time.time()\n",
    "print(t2-t1)\n",
    "print(result)"
   ]
  },
  {
   "cell_type": "code",
   "execution_count": 221,
   "metadata": {},
   "outputs": [
    {
     "ename": "NameError",
     "evalue": "name 'sc' is not defined",
     "output_type": "error",
     "traceback": [
      "\u001b[0;31m---------------------------------------------------------------------------\u001b[0m",
      "\u001b[0;31mNameError\u001b[0m                                 Traceback (most recent call last)",
      "\u001b[0;32m<ipython-input-221-57d2cfb3d800>\u001b[0m in \u001b[0;36m<module>\u001b[0;34m()\u001b[0m\n\u001b[1;32m      2\u001b[0m \u001b[0mnumTrials\u001b[0m \u001b[0;34m=\u001b[0m \u001b[0;36m10000\u001b[0m\u001b[0;34m\u001b[0m\u001b[0m\n\u001b[1;32m      3\u001b[0m \u001b[0mtrial_indexes\u001b[0m \u001b[0;34m=\u001b[0m \u001b[0mlist\u001b[0m\u001b[0;34m(\u001b[0m\u001b[0mrange\u001b[0m\u001b[0;34m(\u001b[0m\u001b[0;36m0\u001b[0m\u001b[0;34m,\u001b[0m \u001b[0mparallelism\u001b[0m\u001b[0;34m)\u001b[0m\u001b[0;34m)\u001b[0m\u001b[0;34m\u001b[0m\u001b[0m\n\u001b[0;32m----> 4\u001b[0;31m \u001b[0mseedRDD\u001b[0m \u001b[0;34m=\u001b[0m \u001b[0msc\u001b[0m\u001b[0;34m.\u001b[0m\u001b[0mparallelize\u001b[0m\u001b[0;34m(\u001b[0m\u001b[0mtrial_indexes\u001b[0m\u001b[0;34m,\u001b[0m \u001b[0mparallelism\u001b[0m\u001b[0;34m)\u001b[0m\u001b[0;34m\u001b[0m\u001b[0m\n\u001b[0m\u001b[1;32m      5\u001b[0m \u001b[0mbFactorWeights\u001b[0m \u001b[0;34m=\u001b[0m \u001b[0msc\u001b[0m\u001b[0;34m.\u001b[0m\u001b[0mbroadcast\u001b[0m\u001b[0;34m(\u001b[0m\u001b[0mweights\u001b[0m\u001b[0;34m)\u001b[0m\u001b[0;34m\u001b[0m\u001b[0m\n\u001b[1;32m      6\u001b[0m \u001b[0;34m\u001b[0m\u001b[0m\n",
      "\u001b[0;31mNameError\u001b[0m: name 'sc' is not defined"
     ]
    }
   ],
   "source": [
    "parallelism = 12\n",
    "numTrials = 10000\n",
    "trial_indexes = list(range(0, parallelism))\n",
    "seedRDD = sc.parallelize(trial_indexes, parallelism)\n",
    "bFactorWeights = sc.broadcast(weights)\n",
    "\n",
    "trials = seedRDD.flatMap(lambda idx: \\\n",
    "                simulateTrialReturns(\n",
    "                    max(int(numTrials/parallelism), 1), \n",
    "                    factorMeans, factorCov,\n",
    "                    weights\n",
    "                ))\n",
    "trials.cache()\n",
    "\n",
    "valueAtRisk = fivePercentVaR(trials)\n",
    "conditionalValueAtRisk = fivePercentCVaR(trials)\n",
    "\n",
    "print(\"Value at Risk(VaR) 5%:\", valueAtRisk)\n",
    "print(\"Conditional Value at Risk(CVaR) 5%:\", conditionalValueAtRisk)\n"
   ]
  },
  {
   "cell_type": "markdown",
   "metadata": {},
   "source": [
    "The value of VaR depends on how many invested stocks and the chosen distribution of random variables. Assume that we get VaR 5% = -2.66,  that means that there is a 0.05 probability that the portfolio will fall in value by more than \\$2.66 over a two weeks' period if there is no trading. In other words, the loses are less than \\$2.66 over two weeks' period with 95% confidence level. When a loss over two weeks is more than \\$2.66, we call it **failure** (or **exception**). Informally, because of 5% probability, we expect that there are only $0.05*W$ failures out of total $W$ windows."
   ]
  },
  {
   "cell_type": "markdown",
   "metadata": {},
   "source": [
    "### Step 5: Evaluating the results using backtesting method\n",
    "In general, the error in a Monte Carlo simulation should be proportional to 1/sqrt(n), where n is the number of trials. This means, for example, that quadrupling the number of trials should approximately cut the error in half. A good way to check the quality of a result is backtesting on historical data. Backtesting is a statistical procedure where actual losses are compared to the estimated VaR. For instance, if the confidence level used to calculate VaR is 95% (or VaR 5%), we expect only 5 failures over 100 two-week time windows.\n",
    "\n",
    "The most common test of a VaR model is counting the number of VaR failures, i.e., in how many windows, the losses exceed VaR estimate. If the number of exceptions is less than selected confidence level would indicate, the VaR model overestimates the risk. On the contrary, if there are too many exceptions, the risk is underestimated. However, it's very hard to observe the amount of failures suggested by the confidence level exactly. Therefore, people try to study whether the number of failures is reasonable or not, or will the model be accepted or rejected.\n",
    "\n",
    "One common test is Kupiec's proportion-of-failures (POF) test. This test considers how the portfolio performed at many historical time intervals and counts the number of times that the losses exceeded the VaR. The null hypothesis is that the VaR is reasonable, and a sufficiently extreme test statistic means that the VaR estimate does not accurately describe the data. The test statistic is computed as:\n",
    "\n",
    "$$\n",
    "-2ln\\Bigg(\\frac{(1-p)^{T-x}p^x}{(1-\\frac{x}{T})^{T-x}(\\frac{x}{T})^x}\\Bigg)\n",
    "$$\n",
    "\n",
    "where:\n",
    "\n",
    "$p$ is the quantile-of-loss of the VaR calculation (e.g., in VaR 5%, p=0.05),\n",
    "\n",
    "$x$ (the number of failures) is the number of historical intervals over which the losses exceeded the VaR \n",
    "\n",
    "$T$ is  the total number of historical intervals considered\n",
    "\n",
    "Or we can expand out the log for better numerical stability:\n",
    "\n",
    "$$\n",
    "\\begin{equation}\n",
    "-2\\Big((T-x)ln(1-p)+x*ln(p)-(T-x)ln(1-\\frac{x}{T})-x*ln(\\frac{x}{T})\\Big)\n",
    "\\end{equation}\n",
    "$$\n",
    "\n",
    "If we assume the null hypothesis that the VaR is reasonable, then this test statistic is drawn from a chi-squared distribution with a single degree of freedom. By using Chi-squared distribution, we can find the `p-value` accompanying our test statistic value.  If `p-value` exceeds the critical value of the Chi-squared distribution, we do have sufficient evidence to reject the null hypothesis that the model is reasonable. Or we can say, in that case, the model is considered as inaccurate.\n",
    "\n",
    "For example, assume that we calculate VaR 5% (the confidence level of the VaR model is 95%) and get value VaR = 2.26. We also observed 50 exceptions over 500 time windows. Using the formula above, the test statistic `p-value` is calculated and equal to `8.08`. Compared to `3.84`, the critical value of Chi-squared distribution with one degree of freedom at probability 5%, the test statistic is larger. So, the model is rejected. The critical values of Chi-squared can be found by following [this link](https://people.richland.edu/james/lecture/m170/tbl-chi.html).\n",
    "However, in this Notebook, it's not a good idea to find the corresponding critical value by looking in a \"messy\" table, especially when we need to change the confidence level. Instead, from `p-value`, we will calculate the probability of the test statistic in Chi-square thanks to some functions in package `scipy`. If the calculated probability is smaller than the quantile of loss (e.g, 0.05), the model is rejected and vice versa.\n"
   ]
  },
  {
   "cell_type": "markdown",
   "metadata": {},
   "source": [
    "### Question 8\n",
    "\n",
    "#### Question 8.1\n",
    "<div class=\"alert alert-info\">\n",
    "\n",
    "Write a function to calculate the number of failures, that is when the losses (in the original data) exceed the VaR.\n",
    "\n",
    "</div>\n",
    "\n",
    "<div class=\"label label-success\">HINT</div>\n",
    "<ul>\n",
    "  <li>First, we need to calculate the total loss in each 2-week time interval</li>\n",
    "  <li>If the total loss of a time interval exceeds VaR, then we say that our VaR fails to estimate the risk in that time interval</li>\n",
    "  <li>Return the number of failures</li>\n",
    "</ul>  \n",
    "\n",
    "<div class=\"label label-danger\">NOTE</div> The loss is often having negative value, so, be careful when compare it to VaR."
   ]
  },
  {
   "cell_type": "code",
   "execution_count": null,
   "metadata": {},
   "outputs": [],
   "source": [
    "\n",
    "from scipy import stats\n",
    "import math\n",
    "\n",
    "def countFailures(stocksReturns, valueAtRisk):\n",
    "    failures = 0\n",
    "    # iterate over time intervals\n",
    "    for i in range(0, len(stocksReturns[0])):\n",
    "        # calculate the losses in each time interval\n",
    "        loss = np.sum(stocksReturns[:,i])\n",
    "        \n",
    "        # if the loss exceeds VaR\n",
    "        if loss < valueAtRisk:\n",
    "            failures += 1\n",
    "    return failures\n"
   ]
  },
  {
   "cell_type": "markdown",
   "metadata": {},
   "source": [
    "#### Question 8.2\n",
    "<div class=\"alert alert-info\">\n",
    "\n",
    "Write a function named `kupiecTestStatistic` to calculate the test statistic which was described in the above equation.\n",
    "\n",
    "</div>"
   ]
  },
  {
   "cell_type": "code",
   "execution_count": null,
   "metadata": {},
   "outputs": [],
   "source": [
    "\n",
    "def kupiecTestStatistic(total, failures, confidenceLevel):\n",
    "    failureRatio = failures/total\n",
    "    logNumer = (total - failures) * np.log(1-confidenceLevel) + failures * np.log(confidenceLevel)\n",
    "    logDenom = (total - failures) * np.log(1-failureRatio) - failures * np.log(failureRatio)\n",
    "    return -2 * (logNumer - logDenom)\n",
    "    \n",
    "# test the function\n",
    "assert (round(kupiecTestStatistic(250, 36, 0.1), 2) == 4.80), \"function kupiecTestStatistic runs incorrectly\"\n"
   ]
  },
  {
   "cell_type": "markdown",
   "metadata": {},
   "source": [
    "Now we can find the p-value accompanying our test statistic value."
   ]
  },
  {
   "cell_type": "code",
   "execution_count": 26,
   "metadata": {},
   "outputs": [],
   "source": [
    "def kupiecTestPValue(stocksReturns, valueAtRisk, confidenceLevel):\n",
    "    failures = countFailures(stocksReturns, valueAtRisk)\n",
    "    N = len(stocksReturns)\n",
    "    print(\"num failures:\", failures)\n",
    "    total = len(stocksReturns[0])\n",
    "    testStatistic = kupiecTestStatistic(total, failures, confidenceLevel)\n",
    "    #return 1 - stats.chi2.cdf(testStatistic, 1.0)\n",
    "    return stats.chi2.sf(testStatistic, 1.0)\n",
    "\n",
    "varConfidenceInterval = bootstrappedConfidenceInterval(trials, fivePercentVaR, 100, 0.05)\n",
    "cvarConfidenceInterval = bootstrappedConfidenceInterval(trials, fivePercentCVaR, 100, .05)\n",
    "print(\"VaR confidence interval: \" , varConfidenceInterval)\n",
    "print(\"CVaR confidence interval: \" , cvarConfidenceInterval)\n",
    "print(\"Kupiec test p-value: \" , kupiecTestPValue(stocksReturns, valueAtRisk, 0.05))"
   ]
  },
  {
   "cell_type": "markdown",
   "metadata": {},
   "source": [
    "#### Question 8.3\n",
    "<div class=\"alert alert-info\">\n",
    "\n",
    "Discuss the results you have obtained\n",
    "\n",
    "</div>"
   ]
  },
  {
   "cell_type": "markdown",
   "metadata": {},
   "source": [
    "<div class=\"alert alert-warning\">\n",
    "\n",
    "PUT YOUR ANSWER HERE !\n",
    "\n",
    "</div>"
   ]
  },
  {
   "cell_type": "markdown",
   "metadata": {},
   "source": [
    "### Question 9\n",
    "<div class=\"alert alert-info\">\n",
    "Assume that we invest in more than 100 stocks. Use the same market factors as for the previous questions to estimate VaR by running MCS, then validate your result.  \n",
    "\n",
    "What is the main observation you have, once you answer this question? When you plan to invest in more instruments, how is your ability to predict the risk going to be affected?\n",
    "</div>\n"
   ]
  },
  {
   "cell_type": "markdown",
   "metadata": {},
   "source": [
    "<div class=\"alert alert-warning\">\n",
    "\n",
    "PUT YOUR ANSWER HERE !\n",
    "\n",
    "</div>"
   ]
  },
  {
   "cell_type": "markdown",
   "metadata": {},
   "source": [
    "### Question 10\n",
    "<div class=\"alert alert-info\">\n",
    "\n",
    "In the previous questions, we used the normal distributions to sample the factors returns.  \n",
    "\n",
    "Try to study how results vary when selecting other probability distributions: our goal is to improve the result of our MCS.\n",
    "</div>"
   ]
  },
  {
   "cell_type": "markdown",
   "metadata": {},
   "source": [
    "# 6. Summary\n",
    "In this lecture, we studied the Monte Carlo Simulation method and its application to estimate financial risk. To apply it, first, we needed to define the relationship between market factors and the instruments' returns. In such step, you must define the model which maps the market factors' values to the instruments' values: in our use case, we used a linear regression function for building our model. Next, we also had to find the parameters of our model, which are the weights of the factors we considered. Then, we had to study the distribution of each market factor. A good way to do that is using Kernel density estimation to smooth the distribution and plot it. Depending on the shape of each figure, we had to guess the best fit distribution for each factor: in our use case, we used a very simple approach, and decided that our smoothed distributions all looked normal distributions. \n",
    "\n",
    "Then, the idea of Monte Carlo simulation was to generate many possible values for each factor and calculate the corresponding outcomes by a well-defined model in each trial. After many trials, we were able to calculate VaR from the sequences of outcome's values. When the number of trials is large enough, the VaR converges to reasonable values, that we could validate using well-known statistical hypothesis. "
   ]
  },
  {
   "cell_type": "markdown",
   "metadata": {},
   "source": [
    "# References\n",
    "- The example in section 2 is inspired from [this article](http://www.solver.com/monte-carlo-simulation-example).\n",
    "- [Backtesting Value-at-Risk models](https://aaltodoc.aalto.fi/bitstream/handle/123456789/181/hse_ethesis_12049.pdf?sequence=1) (Kansantaloustiede, 2009) - (A good reference to study Backtesting).\n"
   ]
  },
  {
   "cell_type": "code",
   "execution_count": null,
   "metadata": {
    "collapsed": true
   },
   "outputs": [],
   "source": []
  }
 ],
 "metadata": {
  "kernelspec": {
   "display_name": "Python 3",
   "language": "python",
   "name": "python3"
  },
  "language_info": {
   "codemirror_mode": {
    "name": "ipython",
    "version": 3
   },
   "file_extension": ".py",
   "mimetype": "text/x-python",
   "name": "python",
   "nbconvert_exporter": "python",
   "pygments_lexer": "ipython3",
   "version": "3.6.3"
  }
 },
 "nbformat": 4,
 "nbformat_minor": 2
}
